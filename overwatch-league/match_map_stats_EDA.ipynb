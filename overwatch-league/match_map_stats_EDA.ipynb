{
  "nbformat": 4,
  "nbformat_minor": 0,
  "metadata": {
    "colab": {
      "name": "match-map-stats-EDA.ipynb",
      "provenance": [],
      "collapsed_sections": [],
      "authorship_tag": "ABX9TyPv6kmi9sAeglsaPxdYueTA",
      "include_colab_link": true
    },
    "kernelspec": {
      "name": "python3",
      "display_name": "Python 3"
    },
    "language_info": {
      "name": "python"
    }
  },
  "cells": [
    {
      "cell_type": "markdown",
      "metadata": {
        "id": "view-in-github",
        "colab_type": "text"
      },
      "source": [
        "<a href=\"https://colab.research.google.com/github/Eunjung-Cho/Project/blob/master/overwatch-league/match_map_stats_EDA.ipynb\" target=\"_parent\"><img src=\"https://colab.research.google.com/assets/colab-badge.svg\" alt=\"Open In Colab\"/></a>"
      ]
    },
    {
      "cell_type": "markdown",
      "metadata": {
        "id": "aOkzAL47tUSH"
      },
      "source": [
        "# 오버워치 리그 2018, 2019, 2020 매치 데이터 탐색"
      ]
    },
    {
      "cell_type": "markdown",
      "metadata": {
        "id": "tJvpiroutrp2"
      },
      "source": [
        "## 전체 데이터 불러오기"
      ]
    },
    {
      "cell_type": "code",
      "metadata": {
        "id": "-3KRtICwtjTa"
      },
      "source": [
        ""
      ],
      "execution_count": null,
      "outputs": []
    },
    {
      "cell_type": "markdown",
      "metadata": {
        "id": "g7eiOp_pttuF"
      },
      "source": [
        "## 데이터 결측치 확인"
      ]
    },
    {
      "cell_type": "code",
      "metadata": {
        "id": "TqKwfvmntx4R"
      },
      "source": [
        ""
      ],
      "execution_count": null,
      "outputs": []
    },
    {
      "cell_type": "markdown",
      "metadata": {
        "id": "oe7xh01TtwZ-"
      },
      "source": [
        "### NULL 값을 그냥 지울수가 없으므로 0으로 대체하기"
      ]
    },
    {
      "cell_type": "code",
      "metadata": {
        "id": "SIfiUqJ-ukTl"
      },
      "source": [
        ""
      ],
      "execution_count": null,
      "outputs": []
    },
    {
      "cell_type": "markdown",
      "metadata": {
        "id": "SOp4-PMftxBQ"
      },
      "source": [
        "## 전체 경기탐색"
      ]
    },
    {
      "cell_type": "markdown",
      "metadata": {
        "id": "IugDMDuFulo4"
      },
      "source": [
        "### mactch_id 수는? \n",
        "match_id는 결국 한경기 한경기를 의미하므로 match_id수를 먼저 파악해야 매치별 가장 승리를 많이 한 팀을 알 수 있다.\n",
        "\n",
        "EX) 10223 여러개, 10224 여러개 등등 중복되어 있으므로 중복을 제거해서 10223~35552 까지 몇개있는지\n"
      ]
    },
    {
      "cell_type": "code",
      "metadata": {
        "id": "8EOY_2q3uj6Q"
      },
      "source": [
        ""
      ],
      "execution_count": null,
      "outputs": []
    },
    {
      "cell_type": "markdown",
      "metadata": {
        "id": "oSJOK-HhvKmU"
      },
      "source": [
        "### match_id 별 match_winner는? \n",
        "각 match_id (경기)에는 그 매치의 승자가 있으므로 어떤 팀이 winner를 가장 많이 했는지"
      ]
    },
    {
      "cell_type": "code",
      "metadata": {
        "id": "BaKxb8WczXtb"
      },
      "source": [
        ""
      ],
      "execution_count": null,
      "outputs": []
    },
    {
      "cell_type": "markdown",
      "metadata": {
        "id": "BiDRzN4lvOYz"
      },
      "source": [
        "## 각 map_name별 winner, loser팀 빈도보기"
      ]
    },
    {
      "cell_type": "code",
      "metadata": {
        "id": "dsT3GoKwzW9y"
      },
      "source": [
        ""
      ],
      "execution_count": null,
      "outputs": []
    }
  ]
}