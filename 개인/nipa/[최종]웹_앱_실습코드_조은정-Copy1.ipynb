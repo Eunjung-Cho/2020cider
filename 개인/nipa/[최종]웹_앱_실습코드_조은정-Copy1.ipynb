{
 "cells": [
  {
   "cell_type": "markdown",
   "metadata": {
    "id": "qCbjpjcqqZub"
   },
   "source": [
    "# [NIPA 활용과정] 앱 데이터 분석을 통한 평점 예측 실습"
   ]
  },
  {
   "cell_type": "markdown",
   "metadata": {
    "id": "gM3-9xOKqZub"
   },
   "source": [
    "Kaggle에서 제공하는 구글 앱 데이터를 바탕으로 앱 평점을 예측해보는 머신러닝 실습을 수행해 보겠습니다.\n",
    "\n",
    "데이터 출처: https://www.kaggle.com/gauthamp10/google-playstore-apps\n",
    "\n",
    "이번 실습은 다음과 같은 과정으로 진행합니다.\n",
    "\n",
    "1. **데이터 읽기:** 구글 앱 데이터를 불러오고 Dataframe 구조를 확인\n",
    "\n",
    "2. **데이터 정제:** 비어 있는 데이터 또는 쓸모 없는 데이터를 삭제\n",
    "\n",
    "3. **데이터 시각화:** 변수 시각화를 통하여 분포 파악\n",
    "\n",
    "4. **데이터 전처리:** 머신러닝 모델에 필요한 입력값 형식으로 데이터 처리\n",
    "\n",
    "5. **머신러닝 모델 수행:** 회귀 모델을 사용하여 학습 수행, 평가 및 예측 수행\n",
    "\n",
    "> 이번 실습에서의 **최소한의 학습 목표**는 **데이터를 바탕으로 머신러닝의 결과물을 수행하는 전체적인 과정을 이해**하기입니다.\n",
    "더욱 확실하게 목표를 이루기 위해서 학생들에게 기존 데이터에서 랜덤하게 뽑은 테스트 데이터를 바탕으로 배웠던 과정을 수행하여 결과물을 제출하게 합니다. 따라서 모든 학생이 위 목표를 달성 할 수 있는 방향으로 지도 부탁드립니다.\n",
    "\n",
    "> 최소한의 학습 목표를 만족할 수 있는 학생이라면 **성능 지표를 높일 수 있는 방법을 찾는 것**이 **두 번째 목표**가 될 것입니다. 성능 지표를 높일 방법으로 본 실습에서는 크게 2가지 방식이 있습니다. \n",
    "\n",
    "> 1. **EDA 과정에서의 데이터 정제 및 특성 엔지니어링을 통한 성능 향상 방식**: EDA 과정은 데이터를 이해하는데 있어서 매우 중요한 과정이라 생각합니다. 사실 디테일하게 다루려면 온종일 할 수 있는 분량의 콘텐츠를 제작할 수 있지만, 본 실습을 수행하는데 많은 시간이 주어지지 않는다는 한계가 있기에 최소한의 EDA 과정만 다루게 됩니다. 따라서 변수마다 추가적인 이상치 처리 및 특성 엔지니어링을 통하여 성능을 높일 방법은 다양하게 있다 생각하며, 이 부분은 강의자께서도 여러 가지로 시도해보시면서 학생들에게 인사이트를 주면 좋을 거 같습니다.\n",
    "\n",
    "> 2. **머신러닝 모델을 통한 성능 향상 방식**: EDA를 통한 데이터에 대한 이해 이후로 머신러닝 특징에 맞추어 모델을 선택하고 다양한 튜닝 방법을 통하여 성능을 높일 수 있습니다. 하지만 본 과정을 수강하는 학생들은 머신러닝 모델별로의 심도 있는 이해는 못 하는 단계라고 생각하기에 이 방식을 통한 성능 향상은 구현하기는 쉽지 않아 보입니다. "
   ]
  },
  {
   "cell_type": "code",
   "execution_count": 2,
   "metadata": {},
   "outputs": [
    {
     "name": "stdout",
     "output_type": "stream",
     "text": [
      "Requirement already up-to-date: pip in c:\\users\\eunju\\anaconda3\\lib\\site-packages (20.2.4)\n",
      "Requirement already up-to-date: pandas in c:\\users\\eunju\\anaconda3\\lib\\site-packages (1.1.4)\n",
      "Requirement already satisfied, skipping upgrade: numpy>=1.15.4 in c:\\users\\eunju\\anaconda3\\lib\\site-packages (from pandas) (1.19.4)\n",
      "Requirement already satisfied, skipping upgrade: python-dateutil>=2.7.3 in c:\\users\\eunju\\anaconda3\\lib\\site-packages (from pandas) (2.8.0)\n",
      "Requirement already satisfied, skipping upgrade: pytz>=2017.2 in c:\\users\\eunju\\anaconda3\\lib\\site-packages (from pandas) (2019.3)\n",
      "Requirement already satisfied, skipping upgrade: six>=1.5 in c:\\users\\eunju\\anaconda3\\lib\\site-packages (from python-dateutil>=2.7.3->pandas) (1.12.0)\n",
      "Requirement already up-to-date: numpy in c:\\users\\eunju\\anaconda3\\lib\\site-packages (1.19.4)\n",
      "Requirement already up-to-date: scipy in c:\\users\\eunju\\anaconda3\\lib\\site-packages (1.5.4)\n",
      "Requirement already satisfied, skipping upgrade: numpy>=1.14.5 in c:\\users\\eunju\\anaconda3\\lib\\site-packages (from scipy) (1.19.4)\n",
      "Requirement already up-to-date: scikit-learn in c:\\users\\eunju\\anaconda3\\lib\\site-packages (0.23.2)\n",
      "Requirement already satisfied, skipping upgrade: joblib>=0.11 in c:\\users\\eunju\\anaconda3\\lib\\site-packages (from scikit-learn) (0.13.2)\n",
      "Requirement already satisfied, skipping upgrade: threadpoolctl>=2.0.0 in c:\\users\\eunju\\anaconda3\\lib\\site-packages (from scikit-learn) (2.1.0)\n",
      "Requirement already satisfied, skipping upgrade: scipy>=0.19.1 in c:\\users\\eunju\\anaconda3\\lib\\site-packages (from scikit-learn) (1.5.4)\n",
      "Requirement already satisfied, skipping upgrade: numpy>=1.13.3 in c:\\users\\eunju\\anaconda3\\lib\\site-packages (from scikit-learn) (1.19.4)\n",
      "Requirement already satisfied: xgboost in c:\\users\\eunju\\anaconda3\\lib\\site-packages (1.2.1)\n",
      "Requirement already satisfied: numpy in c:\\users\\eunju\\anaconda3\\lib\\site-packages (from xgboost) (1.19.4)\n",
      "Requirement already satisfied: scipy in c:\\users\\eunju\\anaconda3\\lib\\site-packages (from xgboost) (1.5.4)\n",
      "Requirement already satisfied: lightgbm in c:\\users\\eunju\\anaconda3\\lib\\site-packages (3.1.0)\n",
      "Requirement already satisfied: scipy in c:\\users\\eunju\\anaconda3\\lib\\site-packages (from lightgbm) (1.5.4)\n",
      "Requirement already satisfied: numpy in c:\\users\\eunju\\anaconda3\\lib\\site-packages (from lightgbm) (1.19.4)\n",
      "Requirement already satisfied: scikit-learn!=0.22.0 in c:\\users\\eunju\\anaconda3\\lib\\site-packages (from lightgbm) (0.23.2)\n",
      "Requirement already satisfied: joblib>=0.11 in c:\\users\\eunju\\anaconda3\\lib\\site-packages (from scikit-learn!=0.22.0->lightgbm) (0.13.2)\n",
      "Requirement already satisfied: threadpoolctl>=2.0.0 in c:\\users\\eunju\\anaconda3\\lib\\site-packages (from scikit-learn!=0.22.0->lightgbm) (2.1.0)\n"
     ]
    }
   ],
   "source": [
    "!pip install --upgrade pip\n",
    "!pip install -U pandas\n",
    "!pip install -U numpy\n",
    "!pip install -U scipy\n",
    "!pip install -U scikit-learn\n",
    "!pip install xgboost\n",
    "!pip install lightgbm"
   ]
  },
  {
   "cell_type": "markdown",
   "metadata": {
    "id": "02kBamprqZub"
   },
   "source": [
    " "
   ]
  },
  {
   "cell_type": "markdown",
   "metadata": {
    "id": "CWoOzkBDqZuc"
   },
   "source": [
    "## 1. 데이터 읽기\n",
    "\n",
    "> 이 파트에서는 **데이터를 읽는 방법을 익히고 어떠한 변수가 있는지 확인하는 방법**을 수행하는 것을 목표로 합니다. head, info 등의 함수에 대해서 설명해주시고 강의자분이 또 다른 방법들을 추가하여 설명하셔도 될 거 같습니다."
   ]
  },
  {
   "cell_type": "markdown",
   "metadata": {
    "id": "BreBjlhzqZuc"
   },
   "source": [
    "pandas를 사용하여 `Google-Playstore.csv` 데이터를 읽고 dataframe 형태로 저장해 봅시다."
   ]
  },
  {
   "cell_type": "code",
   "execution_count": 3,
   "metadata": {
    "id": "UUQvWx-oqZuc"
   },
   "outputs": [],
   "source": [
    "import numpy as np \n",
    "import pandas as pd \n",
    "import matplotlib.pyplot as plt\n",
    "import seaborn as sns"
   ]
  },
  {
   "cell_type": "markdown",
   "metadata": {
    "id": "1Fgi1Yinnafd"
   },
   "source": [
    "### 1.1 디렉토리 체크"
   ]
  },
  {
   "cell_type": "markdown",
   "metadata": {
    "id": "uEE7VgSOnPHp"
   },
   "source": [
    "작업을 하기 전에 현재 디렉토리가 어떻게 설정되어있는지 확인해줍니다."
   ]
  },
  {
   "cell_type": "markdown",
   "metadata": {
    "colab": {
     "base_uri": "https://localhost:8080/"
    },
    "executionInfo": {
     "elapsed": 409766,
     "status": "ok",
     "timestamp": 1606459812616,
     "user": {
      "displayName": "‍안상현[학생](경영대학 경영학과)",
      "photoUrl": "",
      "userId": "15732604784560776108"
     },
     "user_tz": -540
    },
    "id": "fLEdUF7utrgn",
    "outputId": "98a76983-435a-4a76-c441-85bcc50d2cc8"
   },
   "source": [
    "current_path = os.chdir(\"/content/drive/MyDrive/Colab Notebooks/강의자료\")\n",
    "print(os.listdir(current_path))\n",
    "print(os.getcwd()) #=> get current working directory"
   ]
  },
  {
   "cell_type": "markdown",
   "metadata": {
    "id": "hh3yxvwRogfX"
   },
   "source": [
    "### 1.2 Google-Playstore.csv 데이터 불러오기"
   ]
  },
  {
   "cell_type": "code",
   "execution_count": 4,
   "metadata": {
    "id": "9AJR0fjYqZuc"
   },
   "outputs": [],
   "source": [
    "# Google-Playstore.csv 데이터를 pandas를 사용하여 dataframe 형태로 불러옵니다.\n",
    "df_origin = pd.read_csv('Google-Playstore.csv')"
   ]
  },
  {
   "cell_type": "markdown",
   "metadata": {
    "id": "RISIWUAOoknq"
   },
   "source": [
    "### 1.3 dataframe 및 요약본 출력해보기"
   ]
  },
  {
   "cell_type": "code",
   "execution_count": 5,
   "metadata": {},
   "outputs": [
    {
     "data": {
      "text/plain": [
       "(603047, 23)"
      ]
     },
     "execution_count": 5,
     "metadata": {},
     "output_type": "execute_result"
    }
   ],
   "source": [
    "df_origin.shape"
   ]
  },
  {
   "cell_type": "code",
   "execution_count": 6,
   "metadata": {
    "colab": {
     "base_uri": "https://localhost:8080/",
     "height": 495
    },
    "executionInfo": {
     "elapsed": 418109,
     "status": "ok",
     "timestamp": 1606459820982,
     "user": {
      "displayName": "‍안상현[학생](경영대학 경영학과)",
      "photoUrl": "",
      "userId": "15732604784560776108"
     },
     "user_tz": -540
    },
    "id": "bFj8Fot6qZuc",
    "outputId": "671db2e7-2eee-47a9-a0c3-468a1e9ee34f",
    "scrolled": true
   },
   "outputs": [
    {
     "data": {
      "text/html": [
       "<div>\n",
       "<style scoped>\n",
       "    .dataframe tbody tr th:only-of-type {\n",
       "        vertical-align: middle;\n",
       "    }\n",
       "\n",
       "    .dataframe tbody tr th {\n",
       "        vertical-align: top;\n",
       "    }\n",
       "\n",
       "    .dataframe thead th {\n",
       "        text-align: right;\n",
       "    }\n",
       "</style>\n",
       "<table border=\"1\" class=\"dataframe\">\n",
       "  <thead>\n",
       "    <tr style=\"text-align: right;\">\n",
       "      <th></th>\n",
       "      <th>App Name</th>\n",
       "      <th>App Id</th>\n",
       "      <th>Category</th>\n",
       "      <th>Rating</th>\n",
       "      <th>Rating Count</th>\n",
       "      <th>Installs</th>\n",
       "      <th>Minimum Installs</th>\n",
       "      <th>Maximum Installs</th>\n",
       "      <th>Free</th>\n",
       "      <th>Price</th>\n",
       "      <th>...</th>\n",
       "      <th>Developer Id</th>\n",
       "      <th>Developer Website</th>\n",
       "      <th>Developer Email</th>\n",
       "      <th>Released</th>\n",
       "      <th>Last Updated</th>\n",
       "      <th>Content Rating</th>\n",
       "      <th>Privacy Policy</th>\n",
       "      <th>Ad Supported</th>\n",
       "      <th>In App Purchases</th>\n",
       "      <th>Editors Choice</th>\n",
       "    </tr>\n",
       "  </thead>\n",
       "  <tbody>\n",
       "    <tr>\n",
       "      <th>0</th>\n",
       "      <td>foodpanda - Local Food &amp; Grocery Delivery</td>\n",
       "      <td>com.global.foodpanda.android</td>\n",
       "      <td>Food &amp; Drink</td>\n",
       "      <td>4.4</td>\n",
       "      <td>1258493.0</td>\n",
       "      <td>10,000,000+</td>\n",
       "      <td>10000000.0</td>\n",
       "      <td>48828081</td>\n",
       "      <td>True</td>\n",
       "      <td>0.00</td>\n",
       "      <td>...</td>\n",
       "      <td>Foodpanda GmbH a subsidiary of Delivery Hero SE</td>\n",
       "      <td>http://foodpanda.com</td>\n",
       "      <td>appsupport@foodpanda.com</td>\n",
       "      <td>Nov 19, 2013</td>\n",
       "      <td>2020-07-07 00:14:05</td>\n",
       "      <td>Everyone</td>\n",
       "      <td>https://www.foodpanda.sg/contents/privacy.htm</td>\n",
       "      <td>False</td>\n",
       "      <td>False</td>\n",
       "      <td>False</td>\n",
       "    </tr>\n",
       "    <tr>\n",
       "      <th>1</th>\n",
       "      <td>Tripadvisor Hotel, Flight &amp; Restaurant Bookings</td>\n",
       "      <td>com.tripadvisor.tripadvisor</td>\n",
       "      <td>Travel &amp; Local</td>\n",
       "      <td>4.4</td>\n",
       "      <td>1360172.0</td>\n",
       "      <td>100,000,000+</td>\n",
       "      <td>100000000.0</td>\n",
       "      <td>371284181</td>\n",
       "      <td>True</td>\n",
       "      <td>0.00</td>\n",
       "      <td>...</td>\n",
       "      <td>Tripadvisor</td>\n",
       "      <td>https://www.tripadvisor.com/help</td>\n",
       "      <td>mobilehelp@tripadvisor.com</td>\n",
       "      <td>Jul 12, 2010</td>\n",
       "      <td>2020-07-02 20:10:48</td>\n",
       "      <td>Everyone</td>\n",
       "      <td>https://www.tripadvisor.com/pages/privacy.html</td>\n",
       "      <td>True</td>\n",
       "      <td>False</td>\n",
       "      <td>False</td>\n",
       "    </tr>\n",
       "    <tr>\n",
       "      <th>2</th>\n",
       "      <td>Safeway Delivery &amp; Pick Up</td>\n",
       "      <td>com.safeway.shop</td>\n",
       "      <td>Shopping</td>\n",
       "      <td>4.2</td>\n",
       "      <td>5532.0</td>\n",
       "      <td>500,000+</td>\n",
       "      <td>500000.0</td>\n",
       "      <td>816102</td>\n",
       "      <td>True</td>\n",
       "      <td>0.00</td>\n",
       "      <td>...</td>\n",
       "      <td>Albertsons Companies, Inc.</td>\n",
       "      <td>http://www.safeway.com</td>\n",
       "      <td>homeshopping@customerservice.safeway.com</td>\n",
       "      <td>Sep 5, 2013</td>\n",
       "      <td>2020-07-16 23:21:50</td>\n",
       "      <td>Everyone</td>\n",
       "      <td>http://www.safeway.com/ShopStores/Privacy-Poli...</td>\n",
       "      <td>False</td>\n",
       "      <td>False</td>\n",
       "      <td>False</td>\n",
       "    </tr>\n",
       "    <tr>\n",
       "      <th>3</th>\n",
       "      <td>My CookBook Ad-Free</td>\n",
       "      <td>fr.cookbookpro</td>\n",
       "      <td>Food &amp; Drink</td>\n",
       "      <td>4.7</td>\n",
       "      <td>2531.0</td>\n",
       "      <td>10,000+</td>\n",
       "      <td>10000.0</td>\n",
       "      <td>16171</td>\n",
       "      <td>False</td>\n",
       "      <td>5.99</td>\n",
       "      <td>...</td>\n",
       "      <td>Maadinfo Services</td>\n",
       "      <td>https://www.mycookbook-online.net</td>\n",
       "      <td>support@mycookbook-online.net</td>\n",
       "      <td>Sep 25, 2011</td>\n",
       "      <td>2020-07-07 12:41:28</td>\n",
       "      <td>Everyone</td>\n",
       "      <td>https://www.mycookbook-android.com/site/privac...</td>\n",
       "      <td>False</td>\n",
       "      <td>False</td>\n",
       "      <td>False</td>\n",
       "    </tr>\n",
       "    <tr>\n",
       "      <th>4</th>\n",
       "      <td>Talabat: Food &amp; Grocery Delivery</td>\n",
       "      <td>com.talabat</td>\n",
       "      <td>Food &amp; Drink</td>\n",
       "      <td>4.4</td>\n",
       "      <td>197649.0</td>\n",
       "      <td>5,000,000+</td>\n",
       "      <td>5000000.0</td>\n",
       "      <td>9218590</td>\n",
       "      <td>True</td>\n",
       "      <td>0.00</td>\n",
       "      <td>...</td>\n",
       "      <td>Talabat</td>\n",
       "      <td>http://www.talabat.com</td>\n",
       "      <td>info@talabat.com</td>\n",
       "      <td>Jan 19, 2012</td>\n",
       "      <td>2020-07-15 19:21:16</td>\n",
       "      <td>Mature 17+</td>\n",
       "      <td>https://www.talabat.com/kuwait/privacy</td>\n",
       "      <td>True</td>\n",
       "      <td>False</td>\n",
       "      <td>False</td>\n",
       "    </tr>\n",
       "  </tbody>\n",
       "</table>\n",
       "<p>5 rows × 23 columns</p>\n",
       "</div>"
      ],
      "text/plain": [
       "                                          App Name  \\\n",
       "0        foodpanda - Local Food & Grocery Delivery   \n",
       "1  Tripadvisor Hotel, Flight & Restaurant Bookings   \n",
       "2                       Safeway Delivery & Pick Up   \n",
       "3                              My CookBook Ad-Free   \n",
       "4                 Talabat: Food & Grocery Delivery   \n",
       "\n",
       "                         App Id        Category  Rating  Rating Count  \\\n",
       "0  com.global.foodpanda.android    Food & Drink     4.4     1258493.0   \n",
       "1   com.tripadvisor.tripadvisor  Travel & Local     4.4     1360172.0   \n",
       "2              com.safeway.shop        Shopping     4.2        5532.0   \n",
       "3                fr.cookbookpro    Food & Drink     4.7        2531.0   \n",
       "4                   com.talabat    Food & Drink     4.4      197649.0   \n",
       "\n",
       "       Installs  Minimum Installs  Maximum Installs   Free  Price  ...  \\\n",
       "0   10,000,000+        10000000.0          48828081   True   0.00  ...   \n",
       "1  100,000,000+       100000000.0         371284181   True   0.00  ...   \n",
       "2      500,000+          500000.0            816102   True   0.00  ...   \n",
       "3       10,000+           10000.0             16171  False   5.99  ...   \n",
       "4    5,000,000+         5000000.0           9218590   True   0.00  ...   \n",
       "\n",
       "                                      Developer Id  \\\n",
       "0  Foodpanda GmbH a subsidiary of Delivery Hero SE   \n",
       "1                                      Tripadvisor   \n",
       "2                       Albertsons Companies, Inc.   \n",
       "3                                Maadinfo Services   \n",
       "4                                          Talabat   \n",
       "\n",
       "                   Developer Website  \\\n",
       "0               http://foodpanda.com   \n",
       "1   https://www.tripadvisor.com/help   \n",
       "2             http://www.safeway.com   \n",
       "3  https://www.mycookbook-online.net   \n",
       "4             http://www.talabat.com   \n",
       "\n",
       "                            Developer Email      Released  \\\n",
       "0                  appsupport@foodpanda.com  Nov 19, 2013   \n",
       "1                mobilehelp@tripadvisor.com  Jul 12, 2010   \n",
       "2  homeshopping@customerservice.safeway.com   Sep 5, 2013   \n",
       "3             support@mycookbook-online.net  Sep 25, 2011   \n",
       "4                          info@talabat.com  Jan 19, 2012   \n",
       "\n",
       "          Last Updated Content Rating  \\\n",
       "0  2020-07-07 00:14:05       Everyone   \n",
       "1  2020-07-02 20:10:48       Everyone   \n",
       "2  2020-07-16 23:21:50       Everyone   \n",
       "3  2020-07-07 12:41:28       Everyone   \n",
       "4  2020-07-15 19:21:16     Mature 17+   \n",
       "\n",
       "                                      Privacy Policy Ad Supported  \\\n",
       "0      https://www.foodpanda.sg/contents/privacy.htm        False   \n",
       "1     https://www.tripadvisor.com/pages/privacy.html         True   \n",
       "2  http://www.safeway.com/ShopStores/Privacy-Poli...        False   \n",
       "3  https://www.mycookbook-android.com/site/privac...        False   \n",
       "4             https://www.talabat.com/kuwait/privacy         True   \n",
       "\n",
       "  In App Purchases Editors Choice  \n",
       "0            False          False  \n",
       "1            False          False  \n",
       "2            False          False  \n",
       "3            False          False  \n",
       "4            False          False  \n",
       "\n",
       "[5 rows x 23 columns]"
      ]
     },
     "execution_count": 6,
     "metadata": {},
     "output_type": "execute_result"
    }
   ],
   "source": [
    "# 5개의 데이터 샘플을 출력합니다.\n",
    "df_origin.head() #앞 5개"
   ]
  },
  {
   "cell_type": "code",
   "execution_count": 7,
   "metadata": {
    "colab": {
     "base_uri": "https://localhost:8080/"
    },
    "executionInfo": {
     "elapsed": 418990,
     "status": "ok",
     "timestamp": 1606459821878,
     "user": {
      "displayName": "‍안상현[학생](경영대학 경영학과)",
      "photoUrl": "",
      "userId": "15732604784560776108"
     },
     "user_tz": -540
    },
    "id": "3ndhGMtTqZuc",
    "outputId": "5d2c9ab4-580b-4527-eec8-953544bf1757",
    "scrolled": true
   },
   "outputs": [
    {
     "name": "stdout",
     "output_type": "stream",
     "text": [
      "<class 'pandas.core.frame.DataFrame'>\n",
      "RangeIndex: 603047 entries, 0 to 603046\n",
      "Data columns (total 23 columns):\n",
      " #   Column             Non-Null Count   Dtype  \n",
      "---  ------             --------------   -----  \n",
      " 0   App Name           603046 non-null  object \n",
      " 1   App Id             603047 non-null  object \n",
      " 2   Category           603047 non-null  object \n",
      " 3   Rating             599287 non-null  float64\n",
      " 4   Rating Count       599287 non-null  float64\n",
      " 5   Installs           602875 non-null  object \n",
      " 6   Minimum Installs   602875 non-null  float64\n",
      " 7   Maximum Installs   603047 non-null  int64  \n",
      " 8   Free               603047 non-null  bool   \n",
      " 9   Price              603047 non-null  float64\n",
      " 10  Currency           602866 non-null  object \n",
      " 11  Size               603047 non-null  object \n",
      " 12  Minimum Android    602556 non-null  object \n",
      " 13  Developer Id       603045 non-null  object \n",
      " 14  Developer Website  423783 non-null  object \n",
      " 15  Developer Email    603010 non-null  object \n",
      " 16  Released           570769 non-null  object \n",
      " 17  Last Updated       603047 non-null  object \n",
      " 18  Content Rating     603047 non-null  object \n",
      " 19  Privacy Policy     517662 non-null  object \n",
      " 20  Ad Supported       603047 non-null  bool   \n",
      " 21  In App Purchases   603047 non-null  bool   \n",
      " 22  Editors Choice     603047 non-null  bool   \n",
      "dtypes: bool(4), float64(4), int64(1), object(14)\n",
      "memory usage: 89.7+ MB\n"
     ]
    }
   ],
   "source": [
    "# dataframe의 정보를 요약해서 출력합니다.\n",
    "df_origin.info()\n",
    "# row 개수와 개수가 다른 변수들이 있음 => 비어있음 => 나중에 처리"
   ]
  },
  {
   "cell_type": "code",
   "execution_count": 8,
   "metadata": {
    "colab": {
     "base_uri": "https://localhost:8080/",
     "height": 288
    },
    "executionInfo": {
     "elapsed": 418976,
     "status": "ok",
     "timestamp": 1606459821882,
     "user": {
      "displayName": "‍안상현[학생](경영대학 경영학과)",
      "photoUrl": "",
      "userId": "15732604784560776108"
     },
     "user_tz": -540
    },
    "id": "es5N80z0qZuc",
    "outputId": "719347ef-d0c7-4a9e-e6bf-82bafc15e3c1",
    "scrolled": true
   },
   "outputs": [
    {
     "data": {
      "text/html": [
       "<div>\n",
       "<style scoped>\n",
       "    .dataframe tbody tr th:only-of-type {\n",
       "        vertical-align: middle;\n",
       "    }\n",
       "\n",
       "    .dataframe tbody tr th {\n",
       "        vertical-align: top;\n",
       "    }\n",
       "\n",
       "    .dataframe thead th {\n",
       "        text-align: right;\n",
       "    }\n",
       "</style>\n",
       "<table border=\"1\" class=\"dataframe\">\n",
       "  <thead>\n",
       "    <tr style=\"text-align: right;\">\n",
       "      <th></th>\n",
       "      <th>Rating</th>\n",
       "      <th>Rating Count</th>\n",
       "      <th>Minimum Installs</th>\n",
       "      <th>Maximum Installs</th>\n",
       "      <th>Price</th>\n",
       "    </tr>\n",
       "  </thead>\n",
       "  <tbody>\n",
       "    <tr>\n",
       "      <th>count</th>\n",
       "      <td>599287.000000</td>\n",
       "      <td>5.992870e+05</td>\n",
       "      <td>6.028750e+05</td>\n",
       "      <td>6.030470e+05</td>\n",
       "      <td>603047.000000</td>\n",
       "    </tr>\n",
       "    <tr>\n",
       "      <th>mean</th>\n",
       "      <td>2.995484</td>\n",
       "      <td>8.627273e+03</td>\n",
       "      <td>4.997939e+05</td>\n",
       "      <td>8.566150e+05</td>\n",
       "      <td>0.248818</td>\n",
       "    </tr>\n",
       "    <tr>\n",
       "      <th>std</th>\n",
       "      <td>1.911436</td>\n",
       "      <td>3.467317e+05</td>\n",
       "      <td>2.523102e+07</td>\n",
       "      <td>3.755474e+07</td>\n",
       "      <td>3.392709</td>\n",
       "    </tr>\n",
       "    <tr>\n",
       "      <th>min</th>\n",
       "      <td>0.000000</td>\n",
       "      <td>0.000000e+00</td>\n",
       "      <td>0.000000e+00</td>\n",
       "      <td>0.000000e+00</td>\n",
       "      <td>0.000000</td>\n",
       "    </tr>\n",
       "    <tr>\n",
       "      <th>25%</th>\n",
       "      <td>0.000000</td>\n",
       "      <td>0.000000e+00</td>\n",
       "      <td>1.000000e+02</td>\n",
       "      <td>4.680000e+02</td>\n",
       "      <td>0.000000</td>\n",
       "    </tr>\n",
       "    <tr>\n",
       "      <th>50%</th>\n",
       "      <td>4.000000</td>\n",
       "      <td>2.900000e+01</td>\n",
       "      <td>5.000000e+03</td>\n",
       "      <td>5.034000e+03</td>\n",
       "      <td>0.000000</td>\n",
       "    </tr>\n",
       "    <tr>\n",
       "      <th>75%</th>\n",
       "      <td>4.400000</td>\n",
       "      <td>2.560000e+02</td>\n",
       "      <td>1.000000e+04</td>\n",
       "      <td>4.346500e+04</td>\n",
       "      <td>0.000000</td>\n",
       "    </tr>\n",
       "    <tr>\n",
       "      <th>max</th>\n",
       "      <td>5.000000</td>\n",
       "      <td>1.170193e+08</td>\n",
       "      <td>5.000000e+09</td>\n",
       "      <td>9.975727e+09</td>\n",
       "      <td>400.000000</td>\n",
       "    </tr>\n",
       "  </tbody>\n",
       "</table>\n",
       "</div>"
      ],
      "text/plain": [
       "              Rating  Rating Count  Minimum Installs  Maximum Installs  \\\n",
       "count  599287.000000  5.992870e+05      6.028750e+05      6.030470e+05   \n",
       "mean        2.995484  8.627273e+03      4.997939e+05      8.566150e+05   \n",
       "std         1.911436  3.467317e+05      2.523102e+07      3.755474e+07   \n",
       "min         0.000000  0.000000e+00      0.000000e+00      0.000000e+00   \n",
       "25%         0.000000  0.000000e+00      1.000000e+02      4.680000e+02   \n",
       "50%         4.000000  2.900000e+01      5.000000e+03      5.034000e+03   \n",
       "75%         4.400000  2.560000e+02      1.000000e+04      4.346500e+04   \n",
       "max         5.000000  1.170193e+08      5.000000e+09      9.975727e+09   \n",
       "\n",
       "               Price  \n",
       "count  603047.000000  \n",
       "mean        0.248818  \n",
       "std         3.392709  \n",
       "min         0.000000  \n",
       "25%         0.000000  \n",
       "50%         0.000000  \n",
       "75%         0.000000  \n",
       "max       400.000000  "
      ]
     },
     "execution_count": 8,
     "metadata": {},
     "output_type": "execute_result"
    }
   ],
   "source": [
    "# 수치형 변수의 데이터 정보를 요약하여 출력합니다.\n",
    "df_origin.describe() # => float 타입의 데이터들만 요약할 수 있으므로 이 변수들만 있음"
   ]
  },
  {
   "cell_type": "code",
   "execution_count": 9,
   "metadata": {
    "scrolled": true
   },
   "outputs": [
    {
     "data": {
      "text/plain": [
       "Rating              1.000000\n",
       "Rating Count        0.016980\n",
       "Minimum Installs    0.012640\n",
       "Maximum Installs    0.014608\n",
       "Free                0.029064\n",
       "Price              -0.014955\n",
       "Ad Supported        0.153105\n",
       "In App Purchases    0.164163\n",
       "Editors Choice      0.025952\n",
       "Name: Rating, dtype: float64"
      ]
     },
     "execution_count": 9,
     "metadata": {},
     "output_type": "execute_result"
    }
   ],
   "source": [
    "df_origin.corr()[\"Rating\"]\n",
    "\n",
    "#위의 상관관계에서 Free,Ad Supported,In App Purchases,Editors Choice가 주요 변수라 생각되어 해당 변수는 남기기로 했다."
   ]
  },
  {
   "cell_type": "markdown",
   "metadata": {
    "id": "hxijsvg1qZud"
   },
   "source": [
    "## 2. 데이터 정제\n",
    "\n",
    "> 일반적으로 각 변수의 분포를 살펴보며 데이터 정제를 수행하는 것이 바르다고 생각하지만, 학생들이 EDA 방법론에 대한 지식이 부족하다고 생각합니다. 따라서 이번 과정에서는 결측값과 이상치에 대한 개념을 소개하고 이를 처리하는 방식에 대해서 알아가는 파트라 생각하시면 될 거 같습니다. \n",
    "\n",
    "> 여기서 다루지 않은 결측값 처리 방식 등에 대해서도 간단하게 소개해주시면 될 거 같습니다. (시간이 있다면요) "
   ]
  },
  {
   "cell_type": "markdown",
   "metadata": {
    "id": "h48A9S-6qZud"
   },
   "source": [
    "데이터 정제에서는 **결측값(missing value)** 또는 **이상치(outlier)**를 처리합니다.\n",
    "\n",
    "일반적으로는 각 변수에 대해서 자세히 살펴보면서 결측값과 이상치를 제거를 수행합니다.\n",
    "\n",
    "이번 파트에서는 간단한 결측값 처리 방식인 삭제 방식을 수행해 보고 다음 과정에서 이어서 데이터 정제를 수행해보겠습니다."
   ]
  },
  {
   "cell_type": "markdown",
   "metadata": {
    "id": "oPGOA3pOwC26"
   },
   "source": []
  },
  {
   "cell_type": "markdown",
   "metadata": {
    "id": "Ord-BFXAqZud"
   },
   "source": [
    "### 2.1. 변수 삭제"
   ]
  },
  {
   "cell_type": "code",
   "execution_count": 10,
   "metadata": {
    "colab": {
     "base_uri": "https://localhost:8080/",
     "height": 407
    },
    "executionInfo": {
     "elapsed": 419317,
     "status": "ok",
     "timestamp": 1606459822242,
     "user": {
      "displayName": "‍안상현[학생](경영대학 경영학과)",
      "photoUrl": "",
      "userId": "15732604784560776108"
     },
     "user_tz": -540
    },
    "id": "TYdrger8qZud",
    "outputId": "fae165f0-bf0c-4438-a4d3-9b5f337731f3"
   },
   "outputs": [
    {
     "data": {
      "text/html": [
       "<div>\n",
       "<style scoped>\n",
       "    .dataframe tbody tr th:only-of-type {\n",
       "        vertical-align: middle;\n",
       "    }\n",
       "\n",
       "    .dataframe tbody tr th {\n",
       "        vertical-align: top;\n",
       "    }\n",
       "\n",
       "    .dataframe thead th {\n",
       "        text-align: right;\n",
       "    }\n",
       "</style>\n",
       "<table border=\"1\" class=\"dataframe\">\n",
       "  <thead>\n",
       "    <tr style=\"text-align: right;\">\n",
       "      <th></th>\n",
       "      <th>App Name</th>\n",
       "      <th>Category</th>\n",
       "      <th>Rating</th>\n",
       "      <th>Rating Count</th>\n",
       "      <th>Installs</th>\n",
       "      <th>Free</th>\n",
       "      <th>Price</th>\n",
       "      <th>Size</th>\n",
       "      <th>Released</th>\n",
       "      <th>Last Updated</th>\n",
       "      <th>Content Rating</th>\n",
       "      <th>Ad Supported</th>\n",
       "      <th>In App Purchases</th>\n",
       "      <th>Editors Choice</th>\n",
       "    </tr>\n",
       "  </thead>\n",
       "  <tbody>\n",
       "    <tr>\n",
       "      <th>0</th>\n",
       "      <td>foodpanda - Local Food &amp; Grocery Delivery</td>\n",
       "      <td>Food &amp; Drink</td>\n",
       "      <td>4.4</td>\n",
       "      <td>1258493.0</td>\n",
       "      <td>10,000,000+</td>\n",
       "      <td>True</td>\n",
       "      <td>0.00</td>\n",
       "      <td>21M</td>\n",
       "      <td>Nov 19, 2013</td>\n",
       "      <td>2020-07-07 00:14:05</td>\n",
       "      <td>Everyone</td>\n",
       "      <td>False</td>\n",
       "      <td>False</td>\n",
       "      <td>False</td>\n",
       "    </tr>\n",
       "    <tr>\n",
       "      <th>1</th>\n",
       "      <td>Tripadvisor Hotel, Flight &amp; Restaurant Bookings</td>\n",
       "      <td>Travel &amp; Local</td>\n",
       "      <td>4.4</td>\n",
       "      <td>1360172.0</td>\n",
       "      <td>100,000,000+</td>\n",
       "      <td>True</td>\n",
       "      <td>0.00</td>\n",
       "      <td>Varies with device</td>\n",
       "      <td>Jul 12, 2010</td>\n",
       "      <td>2020-07-02 20:10:48</td>\n",
       "      <td>Everyone</td>\n",
       "      <td>True</td>\n",
       "      <td>False</td>\n",
       "      <td>False</td>\n",
       "    </tr>\n",
       "    <tr>\n",
       "      <th>2</th>\n",
       "      <td>Safeway Delivery &amp; Pick Up</td>\n",
       "      <td>Shopping</td>\n",
       "      <td>4.2</td>\n",
       "      <td>5532.0</td>\n",
       "      <td>500,000+</td>\n",
       "      <td>True</td>\n",
       "      <td>0.00</td>\n",
       "      <td>12M</td>\n",
       "      <td>Sep 5, 2013</td>\n",
       "      <td>2020-07-16 23:21:50</td>\n",
       "      <td>Everyone</td>\n",
       "      <td>False</td>\n",
       "      <td>False</td>\n",
       "      <td>False</td>\n",
       "    </tr>\n",
       "    <tr>\n",
       "      <th>3</th>\n",
       "      <td>My CookBook Ad-Free</td>\n",
       "      <td>Food &amp; Drink</td>\n",
       "      <td>4.7</td>\n",
       "      <td>2531.0</td>\n",
       "      <td>10,000+</td>\n",
       "      <td>False</td>\n",
       "      <td>5.99</td>\n",
       "      <td>Varies with device</td>\n",
       "      <td>Sep 25, 2011</td>\n",
       "      <td>2020-07-07 12:41:28</td>\n",
       "      <td>Everyone</td>\n",
       "      <td>False</td>\n",
       "      <td>False</td>\n",
       "      <td>False</td>\n",
       "    </tr>\n",
       "    <tr>\n",
       "      <th>4</th>\n",
       "      <td>Talabat: Food &amp; Grocery Delivery</td>\n",
       "      <td>Food &amp; Drink</td>\n",
       "      <td>4.4</td>\n",
       "      <td>197649.0</td>\n",
       "      <td>5,000,000+</td>\n",
       "      <td>True</td>\n",
       "      <td>0.00</td>\n",
       "      <td>Varies with device</td>\n",
       "      <td>Jan 19, 2012</td>\n",
       "      <td>2020-07-15 19:21:16</td>\n",
       "      <td>Mature 17+</td>\n",
       "      <td>True</td>\n",
       "      <td>False</td>\n",
       "      <td>False</td>\n",
       "    </tr>\n",
       "  </tbody>\n",
       "</table>\n",
       "</div>"
      ],
      "text/plain": [
       "                                          App Name        Category  Rating  \\\n",
       "0        foodpanda - Local Food & Grocery Delivery    Food & Drink     4.4   \n",
       "1  Tripadvisor Hotel, Flight & Restaurant Bookings  Travel & Local     4.4   \n",
       "2                       Safeway Delivery & Pick Up        Shopping     4.2   \n",
       "3                              My CookBook Ad-Free    Food & Drink     4.7   \n",
       "4                 Talabat: Food & Grocery Delivery    Food & Drink     4.4   \n",
       "\n",
       "   Rating Count      Installs   Free  Price                Size      Released  \\\n",
       "0     1258493.0   10,000,000+   True   0.00                 21M  Nov 19, 2013   \n",
       "1     1360172.0  100,000,000+   True   0.00  Varies with device  Jul 12, 2010   \n",
       "2        5532.0      500,000+   True   0.00                 12M   Sep 5, 2013   \n",
       "3        2531.0       10,000+  False   5.99  Varies with device  Sep 25, 2011   \n",
       "4      197649.0    5,000,000+   True   0.00  Varies with device  Jan 19, 2012   \n",
       "\n",
       "          Last Updated Content Rating  Ad Supported  In App Purchases  \\\n",
       "0  2020-07-07 00:14:05       Everyone         False             False   \n",
       "1  2020-07-02 20:10:48       Everyone          True             False   \n",
       "2  2020-07-16 23:21:50       Everyone         False             False   \n",
       "3  2020-07-07 12:41:28       Everyone         False             False   \n",
       "4  2020-07-15 19:21:16     Mature 17+          True             False   \n",
       "\n",
       "   Editors Choice  \n",
       "0           False  \n",
       "1           False  \n",
       "2           False  \n",
       "3           False  \n",
       "4           False  "
      ]
     },
     "execution_count": 10,
     "metadata": {},
     "output_type": "execute_result"
    }
   ],
   "source": [
    "# drop 함수를 사용하여 변수들을 삭제합니다.\n",
    "df_clean= df_origin.drop(columns=[\n",
    "    'App Id', 'Developer Id', 'Developer Website', 'Developer Email', \n",
    "    'Privacy Policy', 'Minimum Installs', 'Maximum Installs',\n",
    "    'Minimum Android','Currency'\n",
    "], axis=1)\n",
    "df_clean.head()"
   ]
  },
  {
   "cell_type": "markdown",
   "metadata": {
    "id": "uZPL-x4gqZud"
   },
   "source": [
    "### 2.2. 결측값 확인"
   ]
  },
  {
   "cell_type": "markdown",
   "metadata": {
    "id": "DtK4LaeCqZud"
   },
   "source": [
    "아래 코드를 수행하여 각 변수별로 결측값이 몇개가 있는지 확인합니다.\n",
    "\n",
    "---\n",
    "\n"
   ]
  },
  {
   "cell_type": "code",
   "execution_count": 11,
   "metadata": {
    "colab": {
     "base_uri": "https://localhost:8080/"
    },
    "executionInfo": {
     "elapsed": 419304,
     "status": "ok",
     "timestamp": 1606459822245,
     "user": {
      "displayName": "‍안상현[학생](경영대학 경영학과)",
      "photoUrl": "",
      "userId": "15732604784560776108"
     },
     "user_tz": -540
    },
    "id": "BBV0eKxFqZud",
    "outputId": "df643c10-070f-4b7e-bcfa-5bd51a1a74b5",
    "scrolled": true
   },
   "outputs": [
    {
     "data": {
      "text/plain": [
       "App Name                1\n",
       "Category                0\n",
       "Rating               3760\n",
       "Rating Count         3760\n",
       "Installs              172\n",
       "Free                    0\n",
       "Price                   0\n",
       "Size                    0\n",
       "Released            32278\n",
       "Last Updated            0\n",
       "Content Rating          0\n",
       "Ad Supported            0\n",
       "In App Purchases        0\n",
       "Editors Choice          0\n",
       "dtype: int64"
      ]
     },
     "execution_count": 11,
     "metadata": {},
     "output_type": "execute_result"
    }
   ],
   "source": [
    "# 결측값 정보를 출력합니다.\n",
    "# df_clean.isnull()\n",
    "df_clean.isnull().sum()"
   ]
  },
  {
   "cell_type": "code",
   "execution_count": 12,
   "metadata": {
    "colab": {
     "base_uri": "https://localhost:8080/"
    },
    "executionInfo": {
     "elapsed": 419676,
     "status": "ok",
     "timestamp": 1606459822631,
     "user": {
      "displayName": "‍안상현[학생](경영대학 경영학과)",
      "photoUrl": "",
      "userId": "15732604784560776108"
     },
     "user_tz": -540
    },
    "id": "BE9yXSZJqZud",
    "outputId": "bf1e27f7-3114-41d1-95db-63aa5183edbb"
   },
   "outputs": [
    {
     "data": {
      "text/plain": [
       "array([nan])"
      ]
     },
     "execution_count": 12,
     "metadata": {},
     "output_type": "execute_result"
    }
   ],
   "source": [
    "# 'Rating'에 있는 결측값 데이터에서 'Rating Count' 변수의 데이터를 출력합니다.\n",
    "# (1) df_clean['Rating'].isnull()\n",
    "# (2) df_clean[df_clean['Rating'].isnull()]\n",
    "# (3) df_clean[df_clean['Rating'].isnull()]['Rating Count']\n",
    "# (4)\n",
    "df_clean[df_clean['Rating'].isnull()]['Rating Count'].unique()"
   ]
  },
  {
   "cell_type": "markdown",
   "metadata": {
    "id": "s4G3DQrbqZud"
   },
   "source": [
    "위 결과를 통하여 `Rating`, `Rating Count`의 결측값의 인덱스는 같음을 알 수 있습니다."
   ]
  },
  {
   "cell_type": "markdown",
   "metadata": {
    "id": "cIQl56IQqZud"
   },
   "source": [
    "### 2.3. 결측값 처리"
   ]
  },
  {
   "cell_type": "markdown",
   "metadata": {
    "id": "2AoZ2vjiqZud"
   },
   "source": [
    "결측값 처리 방법 → 분포 파악 & 도메인 지식 활용\n",
    "\n",
    "---\n",
    "\n",
    "\n",
    "1. 삭제\n",
    "2. 평균값 처리\n",
    "3. 중간값 처리\n",
    "4. 도메인 지식으로 특정값으로 처리\n",
    "\n",
    "등등"
   ]
  },
  {
   "cell_type": "code",
   "execution_count": 13,
   "metadata": {
    "id": "a2OmMDwIqZud"
   },
   "outputs": [],
   "source": [
    "# dropna를 사용하여 결측값이 있는 샘플들을 삭제합니다.\n",
    "df_clean = df_clean.dropna()"
   ]
  },
  {
   "cell_type": "code",
   "execution_count": 14,
   "metadata": {
    "colab": {
     "base_uri": "https://localhost:8080/"
    },
    "executionInfo": {
     "elapsed": 419940,
     "status": "ok",
     "timestamp": 1606459822917,
     "user": {
      "displayName": "‍안상현[학생](경영대학 경영학과)",
      "photoUrl": "",
      "userId": "15732604784560776108"
     },
     "user_tz": -540
    },
    "id": "0h4JfIGfwv3L",
    "outputId": "1ec73d55-3a52-487c-8e9b-2a197d89a510",
    "scrolled": true
   },
   "outputs": [
    {
     "data": {
      "text/plain": [
       "App Name            0\n",
       "Category            0\n",
       "Rating              0\n",
       "Rating Count        0\n",
       "Installs            0\n",
       "Free                0\n",
       "Price               0\n",
       "Size                0\n",
       "Released            0\n",
       "Last Updated        0\n",
       "Content Rating      0\n",
       "Ad Supported        0\n",
       "In App Purchases    0\n",
       "Editors Choice      0\n",
       "dtype: int64"
      ]
     },
     "execution_count": 14,
     "metadata": {},
     "output_type": "execute_result"
    }
   ],
   "source": [
    "# 결측값을 정보를 출력합니다.\n",
    "df_clean.isnull().sum() #=>개수확인"
   ]
  },
  {
   "cell_type": "markdown",
   "metadata": {
    "id": "-dNpTGZuqZud"
   },
   "source": [
    " "
   ]
  },
  {
   "cell_type": "markdown",
   "metadata": {
    "id": "evJf1iSCqZud"
   },
   "source": [
    "## 3. 데이터 시각화 & 추가 데이터 정제\n",
    "\n",
    "> 가장 시간이 많이 들어갈 파트라 생각합니다. 가장 기본적으로 numerical 데이터와 object 데이터의 차이점에 대해서 알려주시고 각 데이터 형태에 따라 시각화 방식으로 어떤 것이 있는지 알려주시는 방식으로 지도하시면 될 거 같습니다.\n",
    "\n",
    "> 본 실습에서는 각 변수에 대한 분포만을 시각화 하였지만, 여유가 있다면 변수 간의 시각화도 하면 좋을 거 같습니다. 특히 label인 Rating 데이터와의 시각화 방식을 통하여 거시적인 경향성을 볼 수 있다는 점을 알려주시면 좋을 거 같습니다.\n",
    "\n",
    "> 3.1. Rating & Rating Count에서 0인 데이터가 있기에 이들은 추가 데이터 정제를 수행하여 삭제합니다.\n",
    "\n",
    "> 3.2. Installs 데이터는 문자형 데이터이기에 수치형 데이터로 변환합니다.\n",
    "\n",
    "> 3.3. Last Updated 데이터에는 너무나 다양한 시간 정보가 하나로 저장되어 있기에 의미 있는 변수로 사용하기 위하여 올해 업데이트가 되었는지를 알 수 있는 Last update since 2020를 추가합니다."
   ]
  },
  {
   "cell_type": "markdown",
   "metadata": {
    "id": "FIb0SZ4lqZud"
   },
   "source": [
    "각 변수 분포를 알아보기 위하여 시각화를 수행하겠습니다.\n",
    "\n",
    "시각화를 통해서 변수 내에 결측값 또는 이상치 처리가 필요하다 생각되면 이를 수행하고 또한 변수의 문자형 데이터를 숫자형 데이터로 변환하는 **특성 엔지니어링(Feature engineering)** 또한 수행해보겠습니다."
   ]
  },
  {
   "cell_type": "markdown",
   "metadata": {
    "id": "KP6go6UWqZud"
   },
   "source": [
    "### 3.1. `Rating` & `Rating Count` 시각화"
   ]
  },
  {
   "cell_type": "code",
   "execution_count": 15,
   "metadata": {
    "colab": {
     "base_uri": "https://localhost:8080/",
     "height": 289
    },
    "executionInfo": {
     "elapsed": 420234,
     "status": "ok",
     "timestamp": 1606459823228,
     "user": {
      "displayName": "‍안상현[학생](경영대학 경영학과)",
      "photoUrl": "",
      "userId": "15732604784560776108"
     },
     "user_tz": -540
    },
    "id": "tefaY3_KqZud",
    "outputId": "f2f32200-2ae8-47a0-bbaa-e80f9471ac2c",
    "scrolled": true
   },
   "outputs": [
    {
     "data": {
      "text/plain": [
       "<matplotlib.axes._subplots.AxesSubplot at 0x13640a2cb48>"
      ]
     },
     "execution_count": 15,
     "metadata": {},
     "output_type": "execute_result"
    },
    {
     "data": {
      "image/png": "[encoded data removed]",
      "text/plain": [
       "<Figure size 432x288 with 1 Axes>"
      ]
     },
     "metadata": {
      "needs_background": "light"
     },
     "output_type": "display_data"
    }
   ],
   "source": [
    "# 분포를 도수분포표로 확인합니다.\n",
    "df_clean['Rating'].value_counts()\n",
    "\n",
    "# 분포를 막대 그래프를 사용하여 출력합니다.\n",
    "df_clean['Rating'].value_counts().plot(kind='bar')"
   ]
  },
  {
   "cell_type": "code",
   "execution_count": 16,
   "metadata": {
    "colab": {
     "base_uri": "https://localhost:8080/"
    },
    "executionInfo": {
     "elapsed": 420223,
     "status": "ok",
     "timestamp": 1606459823231,
     "user": {
      "displayName": "‍안상현[학생](경영대학 경영학과)",
      "photoUrl": "",
      "userId": "15732604784560776108"
     },
     "user_tz": -540
    },
    "id": "rMCgIZhhqZud",
    "outputId": "21abdbe6-408c-4b30-91ed-50983cd8b6df"
   },
   "outputs": [
    {
     "data": {
      "text/plain": [
       "152428"
      ]
     },
     "execution_count": 16,
     "metadata": {},
     "output_type": "execute_result"
    }
   ],
   "source": [
    "# Rating 값이 0인 데이터의 개수를 출력합니다.\n",
    "len(df_clean[df_clean['Rating'] == 0])"
   ]
  },
  {
   "cell_type": "code",
   "execution_count": 17,
   "metadata": {
    "colab": {
     "base_uri": "https://localhost:8080/"
    },
    "executionInfo": {
     "elapsed": 420208,
     "status": "ok",
     "timestamp": 1606459823232,
     "user": {
      "displayName": "‍안상현[학생](경영대학 경영학과)",
      "photoUrl": "",
      "userId": "15732604784560776108"
     },
     "user_tz": -540
    },
    "id": "0lxI9932qZue",
    "outputId": "c86a7515-e6ac-4b72-d2b7-c266c6996017"
   },
   "outputs": [
    {
     "data": {
      "text/plain": [
       "152428"
      ]
     },
     "execution_count": 17,
     "metadata": {},
     "output_type": "execute_result"
    }
   ],
   "source": [
    "# Rating Count 값이 0인 데이터의 개수를 출력합니다.\n",
    "len(df_clean[df_clean['Rating Count'] == 0])"
   ]
  },
  {
   "cell_type": "code",
   "execution_count": 18,
   "metadata": {
    "id": "UmJXSf6pqZue"
   },
   "outputs": [],
   "source": [
    "# 데이터 확인\n",
    "df_clean['Rating Count'].value_counts()\n",
    "\n",
    "# 'Rating Count' 값이 10보다 큰 경우 부터 의미 있는 데이터로 생각하고 10보다 작은 데이터는 삭제합니다.\n",
    "df_clean = df_clean[df_clean['Rating Count'] > 10]"
   ]
  },
  {
   "cell_type": "code",
   "execution_count": 19,
   "metadata": {
    "colab": {
     "base_uri": "https://localhost:8080/",
     "height": 1000
    },
    "executionInfo": {
     "elapsed": 420905,
     "status": "ok",
     "timestamp": 1606459823956,
     "user": {
      "displayName": "‍안상현[학생](경영대학 경영학과)",
      "photoUrl": "",
      "userId": "15732604784560776108"
     },
     "user_tz": -540
    },
    "id": "CqSpAZpnqZue",
    "outputId": "7aa0b792-3f8a-4250-db65-90ba2d98f615",
    "scrolled": true
   },
   "outputs": [
    {
     "data": {
      "text/plain": [
       "5.0     5583\n",
       "4.9     9012\n",
       "4.8    17086\n",
       "4.7    23573\n",
       "4.6    29655\n",
       "4.5    31681\n",
       "4.4    32999\n",
       "4.3    30827\n",
       "4.2    29988\n",
       "4.1    24969\n",
       "4.0    20909\n",
       "3.9    17771\n",
       "3.8    16104\n",
       "3.7    12033\n",
       "3.6     9458\n",
       "3.5     8890\n",
       "3.4     6501\n",
       "3.3     5494\n",
       "3.2     5173\n",
       "3.1     3787\n",
       "3.0     3344\n",
       "2.9     2719\n",
       "2.8     2570\n",
       "2.7     1975\n",
       "2.6     1649\n",
       "2.5     1433\n",
       "2.4     1162\n",
       "2.3     1039\n",
       "2.2      972\n",
       "2.1      752\n",
       "2.0      655\n",
       "1.9      509\n",
       "1.8      429\n",
       "1.7      310\n",
       "1.6      251\n",
       "1.5      208\n",
       "1.4      142\n",
       "1.3       77\n",
       "1.2       52\n",
       "1.1       24\n",
       "1.0       12\n",
       "Name: Rating, dtype: int64"
      ]
     },
     "execution_count": 19,
     "metadata": {},
     "output_type": "execute_result"
    },
    {
     "data": {
      "image/png": "[encoded data removed]",
      "text/plain": [
       "<Figure size 720x432 with 1 Axes>"
      ]
     },
     "metadata": {
      "needs_background": "light"
     },
     "output_type": "display_data"
    }
   ],
   "source": [
    "# 그래프 사이즈 설정\n",
    "fig, ax = plt.subplots(figsize=(10, 6))  #이렇게 하면 매 셀마다 설정해줘야 함 => 커스터마이징 https://matplotlib.org/tutorials/introductory/customizing.html\n",
    "\n",
    "# 추가 정제한 분포를 막대 그래프를 사용하여 출력합니다.\n",
    "df_clean['Rating'].value_counts().sort_index(ascending=False).plot(kind='bar')\n",
    "\n",
    "# 추가 정제한 분포를 도수분포표로 확인합니다.\n",
    "df_clean['Rating'].value_counts().sort_index(ascending=False)"
   ]
  },
  {
   "cell_type": "code",
   "execution_count": 20,
   "metadata": {
    "colab": {
     "base_uri": "https://localhost:8080/",
     "height": 435
    },
    "executionInfo": {
     "elapsed": 421277,
     "status": "ok",
     "timestamp": 1606459824346,
     "user": {
      "displayName": "‍안상현[학생](경영대학 경영학과)",
      "photoUrl": "",
      "userId": "15732604784560776108"
     },
     "user_tz": -540
    },
    "id": "bVCmMcpjqZuf",
    "outputId": "4ead0209-3e39-4f99-d905-db34726fab5a"
   },
   "outputs": [
    {
     "data": {
      "text/plain": [
       "<matplotlib.axes._subplots.AxesSubplot at 0x13641970908>"
      ]
     },
     "execution_count": 20,
     "metadata": {},
     "output_type": "execute_result"
    },
    {
     "data": {
      "image/png": "[encoded data removed]",
      "text/plain": [
       "<Figure size 720x432 with 1 Axes>"
      ]
     },
     "metadata": {
      "needs_background": "light"
     },
     "output_type": "display_data"
    }
   ],
   "source": [
    "# 그래프 사이즈 설정\n",
    "fig, ax = plt.subplots(figsize=(10, 6))\n",
    "\n",
    "# pd.cut을 사용하여 데이터를 분리하고 그 분포를 막대 그래프로 출력합니다.\n",
    "pd.cut(df_clean['Rating Count'], np.arange(10,410,20)).value_counts().sort_index(ascending=True).plot(kind='bar')"
   ]
  },
  {
   "cell_type": "markdown",
   "metadata": {
    "id": "qGDBIewxqZuf"
   },
   "source": [
    "### 3.2. `Installs` 시각화"
   ]
  },
  {
   "cell_type": "code",
   "execution_count": 21,
   "metadata": {
    "colab": {
     "base_uri": "https://localhost:8080/",
     "height": 736
    },
    "executionInfo": {
     "elapsed": 421612,
     "status": "ok",
     "timestamp": 1606459824701,
     "user": {
      "displayName": "‍안상현[학생](경영대학 경영학과)",
      "photoUrl": "",
      "userId": "15732604784560776108"
     },
     "user_tz": -540
    },
    "id": "P-EsMnR1qZuf",
    "outputId": "9cbff680-be65-4cb8-f9c8-9c37c42efb38",
    "scrolled": true
   },
   "outputs": [
    {
     "data": {
      "text/plain": [
       "0+                    13\n",
       "1+                    15\n",
       "1,000+             58573\n",
       "1,000,000+         19659\n",
       "1,000,000,000+        41\n",
       "10+                  244\n",
       "10,000+           104491\n",
       "10,000,000+         4182\n",
       "100+                7089\n",
       "100,000+           57059\n",
       "100,000,000+         357\n",
       "5+                     8\n",
       "5,000+             43793\n",
       "5,000,000+          4251\n",
       "5,000,000,000+        10\n",
       "50+                  581\n",
       "50,000+            36418\n",
       "50,000,000+          581\n",
       "500+                9499\n",
       "500,000+           14869\n",
       "500,000,000+          44\n",
       "Name: Installs, dtype: int64"
      ]
     },
     "execution_count": 21,
     "metadata": {},
     "output_type": "execute_result"
    },
    {
     "data": {
      "image/png": "[encoded data removed]",
      "text/plain": [
       "<Figure size 432x288 with 1 Axes>"
      ]
     },
     "metadata": {
      "needs_background": "light"
     },
     "output_type": "display_data"
    }
   ],
   "source": [
    "# 분포를 막대 그래프를 사용하여 출력합니다.\n",
    "df_clean['Installs'].value_counts().plot(kind='bar')\n",
    "\n",
    "# 분포를 도수분포표로 확인합니다.\n",
    "df_clean['Installs'].value_counts().sort_index(ascending=True)"
   ]
  },
  {
   "cell_type": "code",
   "execution_count": 22,
   "metadata": {
    "id": "wllJvWqpqZuf"
   },
   "outputs": [],
   "source": [
    "# 문자열 데이터를 숫치 자료형으로 변환합니다.\n",
    "# + 삭제, 쉼표 삭제, int형 변화\n",
    "for element in set(df_clean['Installs']):\n",
    "    # (1) element.split('+')\n",
    "    # (2) element.split('+')[0]\n",
    "    # (3) element.split('+')[0].replace(',', '')\n",
    "    # (4) int(element.split('+')[0].replace(',', '')))\n",
    "    # (5) \n",
    "    df_clean = df_clean.replace(element,int(element.split('+')[0].replace(',', '')))"
   ]
  },
  {
   "cell_type": "code",
   "execution_count": 23,
   "metadata": {
    "colab": {
     "base_uri": "https://localhost:8080/",
     "height": 718
    },
    "executionInfo": {
     "elapsed": 422773,
     "status": "ok",
     "timestamp": 1606459825884,
     "user": {
      "displayName": "‍안상현[학생](경영대학 경영학과)",
      "photoUrl": "",
      "userId": "15732604784560776108"
     },
     "user_tz": -540
    },
    "id": "ZbsLAmpoqZuf",
    "outputId": "8d537f93-4dd6-4403-a234-f3952d4ae38d",
    "scrolled": true
   },
   "outputs": [
    {
     "data": {
      "text/plain": [
       "0                 13\n",
       "1                 15\n",
       "5                  8\n",
       "10               244\n",
       "50               581\n",
       "100             7089\n",
       "500             9499\n",
       "1000           58573\n",
       "5000           43793\n",
       "10000         104491\n",
       "50000          36418\n",
       "100000         57059\n",
       "500000         14869\n",
       "1000000        19659\n",
       "5000000         4251\n",
       "10000000        4182\n",
       "50000000         581\n",
       "100000000        357\n",
       "500000000         44\n",
       "1000000000        41\n",
       "5000000000        10\n",
       "Name: Installs, dtype: int64"
      ]
     },
     "execution_count": 23,
     "metadata": {},
     "output_type": "execute_result"
    },
    {
     "data": {
      "image/png": "[encoded data removed]",
      "text/plain": [
       "<Figure size 432x288 with 1 Axes>"
      ]
     },
     "metadata": {
      "needs_background": "light"
     },
     "output_type": "display_data"
    }
   ],
   "source": [
    "# 변환된 분포를 막대 그래프를 사용하여 출력합니다.\n",
    "df_clean['Installs'].value_counts().sort_index(ascending=True).plot(kind='bar')\n",
    "\n",
    "# 변환된 분포를 도수분포표로 확인합니다.\n",
    "df_clean['Installs'].value_counts().sort_index(ascending=True)"
   ]
  },
  {
   "cell_type": "code",
   "execution_count": 24,
   "metadata": {
    "colab": {
     "base_uri": "https://localhost:8080/",
     "height": 407
    },
    "executionInfo": {
     "elapsed": 423104,
     "status": "ok",
     "timestamp": 1606459826233,
     "user": {
      "displayName": "‍안상현[학생](경영대학 경영학과)",
      "photoUrl": "",
      "userId": "15732604784560776108"
     },
     "user_tz": -540
    },
    "id": "Cc81RDR9qZuf",
    "outputId": "d1240a61-62f0-4f30-a6cc-39a35e50ac38"
   },
   "outputs": [
    {
     "data": {
      "text/html": [
       "<div>\n",
       "<style scoped>\n",
       "    .dataframe tbody tr th:only-of-type {\n",
       "        vertical-align: middle;\n",
       "    }\n",
       "\n",
       "    .dataframe tbody tr th {\n",
       "        vertical-align: top;\n",
       "    }\n",
       "\n",
       "    .dataframe thead th {\n",
       "        text-align: right;\n",
       "    }\n",
       "</style>\n",
       "<table border=\"1\" class=\"dataframe\">\n",
       "  <thead>\n",
       "    <tr style=\"text-align: right;\">\n",
       "      <th></th>\n",
       "      <th>App Name</th>\n",
       "      <th>Category</th>\n",
       "      <th>Rating</th>\n",
       "      <th>Rating Count</th>\n",
       "      <th>Installs</th>\n",
       "      <th>Free</th>\n",
       "      <th>Price</th>\n",
       "      <th>Size</th>\n",
       "      <th>Released</th>\n",
       "      <th>Last Updated</th>\n",
       "      <th>Content Rating</th>\n",
       "      <th>Ad Supported</th>\n",
       "      <th>In App Purchases</th>\n",
       "      <th>Editors Choice</th>\n",
       "    </tr>\n",
       "  </thead>\n",
       "  <tbody>\n",
       "    <tr>\n",
       "      <th>0</th>\n",
       "      <td>foodpanda - Local Food &amp; Grocery Delivery</td>\n",
       "      <td>Food &amp; Drink</td>\n",
       "      <td>4.4</td>\n",
       "      <td>1258493.0</td>\n",
       "      <td>1000000</td>\n",
       "      <td>True</td>\n",
       "      <td>0.0</td>\n",
       "      <td>21M</td>\n",
       "      <td>Nov 19, 2013</td>\n",
       "      <td>2020-07-07 00:14:05</td>\n",
       "      <td>Everyone</td>\n",
       "      <td>False</td>\n",
       "      <td>False</td>\n",
       "      <td>False</td>\n",
       "    </tr>\n",
       "    <tr>\n",
       "      <th>1</th>\n",
       "      <td>Tripadvisor Hotel, Flight &amp; Restaurant Bookings</td>\n",
       "      <td>Travel &amp; Local</td>\n",
       "      <td>4.4</td>\n",
       "      <td>1360172.0</td>\n",
       "      <td>1000000</td>\n",
       "      <td>True</td>\n",
       "      <td>0.0</td>\n",
       "      <td>Varies with device</td>\n",
       "      <td>Jul 12, 2010</td>\n",
       "      <td>2020-07-02 20:10:48</td>\n",
       "      <td>Everyone</td>\n",
       "      <td>True</td>\n",
       "      <td>False</td>\n",
       "      <td>False</td>\n",
       "    </tr>\n",
       "    <tr>\n",
       "      <th>4</th>\n",
       "      <td>Talabat: Food &amp; Grocery Delivery</td>\n",
       "      <td>Food &amp; Drink</td>\n",
       "      <td>4.4</td>\n",
       "      <td>197649.0</td>\n",
       "      <td>1000000</td>\n",
       "      <td>True</td>\n",
       "      <td>0.0</td>\n",
       "      <td>Varies with device</td>\n",
       "      <td>Jan 19, 2012</td>\n",
       "      <td>2020-07-15 19:21:16</td>\n",
       "      <td>Mature 17+</td>\n",
       "      <td>True</td>\n",
       "      <td>False</td>\n",
       "      <td>False</td>\n",
       "    </tr>\n",
       "    <tr>\n",
       "      <th>5</th>\n",
       "      <td>DoorDash - Food Delivery</td>\n",
       "      <td>Food &amp; Drink</td>\n",
       "      <td>4.5</td>\n",
       "      <td>784802.0</td>\n",
       "      <td>1000000</td>\n",
       "      <td>True</td>\n",
       "      <td>0.0</td>\n",
       "      <td>38M</td>\n",
       "      <td>Mar 26, 2015</td>\n",
       "      <td>2020-06-26 01:32:02</td>\n",
       "      <td>Everyone</td>\n",
       "      <td>False</td>\n",
       "      <td>False</td>\n",
       "      <td>False</td>\n",
       "    </tr>\n",
       "    <tr>\n",
       "      <th>9</th>\n",
       "      <td>Allrecipes Dinner Spinner</td>\n",
       "      <td>Food &amp; Drink</td>\n",
       "      <td>4.6</td>\n",
       "      <td>77371.0</td>\n",
       "      <td>1000000</td>\n",
       "      <td>True</td>\n",
       "      <td>0.0</td>\n",
       "      <td>Varies with device</td>\n",
       "      <td>Mar 11, 2011</td>\n",
       "      <td>2019-06-03 19:58:32</td>\n",
       "      <td>Everyone</td>\n",
       "      <td>True</td>\n",
       "      <td>False</td>\n",
       "      <td>False</td>\n",
       "    </tr>\n",
       "    <tr>\n",
       "      <th>...</th>\n",
       "      <td>...</td>\n",
       "      <td>...</td>\n",
       "      <td>...</td>\n",
       "      <td>...</td>\n",
       "      <td>...</td>\n",
       "      <td>...</td>\n",
       "      <td>...</td>\n",
       "      <td>...</td>\n",
       "      <td>...</td>\n",
       "      <td>...</td>\n",
       "      <td>...</td>\n",
       "      <td>...</td>\n",
       "      <td>...</td>\n",
       "      <td>...</td>\n",
       "    </tr>\n",
       "    <tr>\n",
       "      <th>602276</th>\n",
       "      <td>Ghost House Escape</td>\n",
       "      <td>Adventure</td>\n",
       "      <td>3.9</td>\n",
       "      <td>19759.0</td>\n",
       "      <td>1000000</td>\n",
       "      <td>True</td>\n",
       "      <td>0.0</td>\n",
       "      <td>72M</td>\n",
       "      <td>May 19, 2016</td>\n",
       "      <td>2019-09-02 00:40:57</td>\n",
       "      <td>Everyone</td>\n",
       "      <td>True</td>\n",
       "      <td>True</td>\n",
       "      <td>False</td>\n",
       "    </tr>\n",
       "    <tr>\n",
       "      <th>602278</th>\n",
       "      <td>Zombie Invasion : Escape</td>\n",
       "      <td>Action</td>\n",
       "      <td>3.9</td>\n",
       "      <td>18371.0</td>\n",
       "      <td>1000000</td>\n",
       "      <td>True</td>\n",
       "      <td>0.0</td>\n",
       "      <td>22M</td>\n",
       "      <td>May 29, 2013</td>\n",
       "      <td>2016-08-30 19:42:49</td>\n",
       "      <td>Teen</td>\n",
       "      <td>True</td>\n",
       "      <td>True</td>\n",
       "      <td>False</td>\n",
       "    </tr>\n",
       "    <tr>\n",
       "      <th>602281</th>\n",
       "      <td>Prison Break: The Great Escape</td>\n",
       "      <td>Action</td>\n",
       "      <td>3.9</td>\n",
       "      <td>13909.0</td>\n",
       "      <td>1000000</td>\n",
       "      <td>True</td>\n",
       "      <td>0.0</td>\n",
       "      <td>81M</td>\n",
       "      <td>Jul 27, 2017</td>\n",
       "      <td>2019-11-07 20:21:28</td>\n",
       "      <td>Teen</td>\n",
       "      <td>True</td>\n",
       "      <td>True</td>\n",
       "      <td>False</td>\n",
       "    </tr>\n",
       "    <tr>\n",
       "      <th>602282</th>\n",
       "      <td>Prison Break: Lockdown (Free)</td>\n",
       "      <td>Action</td>\n",
       "      <td>4.1</td>\n",
       "      <td>194358.0</td>\n",
       "      <td>1000000</td>\n",
       "      <td>True</td>\n",
       "      <td>0.0</td>\n",
       "      <td>44M</td>\n",
       "      <td>Jun 5, 2015</td>\n",
       "      <td>2019-09-15 21:35:34</td>\n",
       "      <td>Teen</td>\n",
       "      <td>True</td>\n",
       "      <td>True</td>\n",
       "      <td>False</td>\n",
       "    </tr>\n",
       "    <tr>\n",
       "      <th>603005</th>\n",
       "      <td>Hong Kong Toolbar</td>\n",
       "      <td>Entertainment</td>\n",
       "      <td>4.1</td>\n",
       "      <td>12464.0</td>\n",
       "      <td>1000000</td>\n",
       "      <td>True</td>\n",
       "      <td>0.0</td>\n",
       "      <td>10M</td>\n",
       "      <td>Apr 7, 2011</td>\n",
       "      <td>2020-07-06 10:15:32</td>\n",
       "      <td>Everyone</td>\n",
       "      <td>True</td>\n",
       "      <td>False</td>\n",
       "      <td>False</td>\n",
       "    </tr>\n",
       "  </tbody>\n",
       "</table>\n",
       "<p>29125 rows × 14 columns</p>\n",
       "</div>"
      ],
      "text/plain": [
       "                                               App Name        Category  \\\n",
       "0             foodpanda - Local Food & Grocery Delivery    Food & Drink   \n",
       "1       Tripadvisor Hotel, Flight & Restaurant Bookings  Travel & Local   \n",
       "4                      Talabat: Food & Grocery Delivery    Food & Drink   \n",
       "5                              DoorDash - Food Delivery    Food & Drink   \n",
       "9                             Allrecipes Dinner Spinner    Food & Drink   \n",
       "...                                                 ...             ...   \n",
       "602276                               Ghost House Escape       Adventure   \n",
       "602278                         Zombie Invasion : Escape          Action   \n",
       "602281                   Prison Break: The Great Escape          Action   \n",
       "602282                    Prison Break: Lockdown (Free)          Action   \n",
       "603005                                Hong Kong Toolbar   Entertainment   \n",
       "\n",
       "        Rating  Rating Count  Installs  Free  Price                Size  \\\n",
       "0          4.4     1258493.0   1000000  True    0.0                 21M   \n",
       "1          4.4     1360172.0   1000000  True    0.0  Varies with device   \n",
       "4          4.4      197649.0   1000000  True    0.0  Varies with device   \n",
       "5          4.5      784802.0   1000000  True    0.0                 38M   \n",
       "9          4.6       77371.0   1000000  True    0.0  Varies with device   \n",
       "...        ...           ...       ...   ...    ...                 ...   \n",
       "602276     3.9       19759.0   1000000  True    0.0                 72M   \n",
       "602278     3.9       18371.0   1000000  True    0.0                 22M   \n",
       "602281     3.9       13909.0   1000000  True    0.0                 81M   \n",
       "602282     4.1      194358.0   1000000  True    0.0                 44M   \n",
       "603005     4.1       12464.0   1000000  True    0.0                 10M   \n",
       "\n",
       "            Released         Last Updated Content Rating  Ad Supported  \\\n",
       "0       Nov 19, 2013  2020-07-07 00:14:05       Everyone         False   \n",
       "1       Jul 12, 2010  2020-07-02 20:10:48       Everyone          True   \n",
       "4       Jan 19, 2012  2020-07-15 19:21:16     Mature 17+          True   \n",
       "5       Mar 26, 2015  2020-06-26 01:32:02       Everyone         False   \n",
       "9       Mar 11, 2011  2019-06-03 19:58:32       Everyone          True   \n",
       "...              ...                  ...            ...           ...   \n",
       "602276  May 19, 2016  2019-09-02 00:40:57       Everyone          True   \n",
       "602278  May 29, 2013  2016-08-30 19:42:49           Teen          True   \n",
       "602281  Jul 27, 2017  2019-11-07 20:21:28           Teen          True   \n",
       "602282   Jun 5, 2015  2019-09-15 21:35:34           Teen          True   \n",
       "603005   Apr 7, 2011  2020-07-06 10:15:32       Everyone          True   \n",
       "\n",
       "        In App Purchases  Editors Choice  \n",
       "0                  False           False  \n",
       "1                  False           False  \n",
       "4                  False           False  \n",
       "5                  False           False  \n",
       "9                  False           False  \n",
       "...                  ...             ...  \n",
       "602276              True           False  \n",
       "602278              True           False  \n",
       "602281              True           False  \n",
       "602282              True           False  \n",
       "603005             False           False  \n",
       "\n",
       "[29125 rows x 14 columns]"
      ]
     },
     "execution_count": 24,
     "metadata": {},
     "output_type": "execute_result"
    }
   ],
   "source": [
    "# 위 분포에서 양쪽 끝의 데이터들이 너무 작기에 이를 추가로 삭제합니다.\n",
    "# 500000개 초과는 1000000으로 변환\n",
    "df_clean.loc[df_clean['Installs']>500000,'Installs'] = 1000000\n",
    "df_clean[df_clean['Installs']>500000]"
   ]
  },
  {
   "cell_type": "code",
   "execution_count": 25,
   "metadata": {
    "colab": {
     "base_uri": "https://localhost:8080/",
     "height": 407
    },
    "executionInfo": {
     "elapsed": 423085,
     "status": "ok",
     "timestamp": 1606459826234,
     "user": {
      "displayName": "‍안상현[학생](경영대학 경영학과)",
      "photoUrl": "",
      "userId": "15732604784560776108"
     },
     "user_tz": -540
    },
    "id": "jwE-P2MZqZug",
    "outputId": "0ce7f073-313e-4227-e694-7d432046a7f6"
   },
   "outputs": [
    {
     "data": {
      "text/html": [
       "<div>\n",
       "<style scoped>\n",
       "    .dataframe tbody tr th:only-of-type {\n",
       "        vertical-align: middle;\n",
       "    }\n",
       "\n",
       "    .dataframe tbody tr th {\n",
       "        vertical-align: top;\n",
       "    }\n",
       "\n",
       "    .dataframe thead th {\n",
       "        text-align: right;\n",
       "    }\n",
       "</style>\n",
       "<table border=\"1\" class=\"dataframe\">\n",
       "  <thead>\n",
       "    <tr style=\"text-align: right;\">\n",
       "      <th></th>\n",
       "      <th>App Name</th>\n",
       "      <th>Category</th>\n",
       "      <th>Rating</th>\n",
       "      <th>Rating Count</th>\n",
       "      <th>Installs</th>\n",
       "      <th>Free</th>\n",
       "      <th>Price</th>\n",
       "      <th>Size</th>\n",
       "      <th>Released</th>\n",
       "      <th>Last Updated</th>\n",
       "      <th>Content Rating</th>\n",
       "      <th>Ad Supported</th>\n",
       "      <th>In App Purchases</th>\n",
       "      <th>Editors Choice</th>\n",
       "    </tr>\n",
       "  </thead>\n",
       "  <tbody>\n",
       "    <tr>\n",
       "      <th>46</th>\n",
       "      <td>Martha Stewart TV</td>\n",
       "      <td>Lifestyle</td>\n",
       "      <td>4.1</td>\n",
       "      <td>28.0</td>\n",
       "      <td>1000</td>\n",
       "      <td>True</td>\n",
       "      <td>0.0</td>\n",
       "      <td>29M</td>\n",
       "      <td>Sep 25, 2018</td>\n",
       "      <td>2020-07-15 01:44:32</td>\n",
       "      <td>Everyone</td>\n",
       "      <td>False</td>\n",
       "      <td>True</td>\n",
       "      <td>False</td>\n",
       "    </tr>\n",
       "    <tr>\n",
       "      <th>64</th>\n",
       "      <td>Money Manager - Track your expenses</td>\n",
       "      <td>Finance</td>\n",
       "      <td>4.4</td>\n",
       "      <td>163.0</td>\n",
       "      <td>1000</td>\n",
       "      <td>True</td>\n",
       "      <td>0.0</td>\n",
       "      <td>5.0M</td>\n",
       "      <td>Jun 4, 2019</td>\n",
       "      <td>2020-06-02 14:32:02</td>\n",
       "      <td>Everyone</td>\n",
       "      <td>True</td>\n",
       "      <td>True</td>\n",
       "      <td>False</td>\n",
       "    </tr>\n",
       "    <tr>\n",
       "      <th>67</th>\n",
       "      <td>PeaceMe - Meditate &amp; Sleep</td>\n",
       "      <td>Health &amp; Fitness</td>\n",
       "      <td>4.7</td>\n",
       "      <td>39.0</td>\n",
       "      <td>1000</td>\n",
       "      <td>True</td>\n",
       "      <td>0.0</td>\n",
       "      <td>37M</td>\n",
       "      <td>Feb 7, 2020</td>\n",
       "      <td>2020-05-20 15:52:42</td>\n",
       "      <td>Everyone</td>\n",
       "      <td>False</td>\n",
       "      <td>True</td>\n",
       "      <td>False</td>\n",
       "    </tr>\n",
       "    <tr>\n",
       "      <th>68</th>\n",
       "      <td>GreenChoice: Healthy Grocery Shopping</td>\n",
       "      <td>Food &amp; Drink</td>\n",
       "      <td>4.7</td>\n",
       "      <td>19.0</td>\n",
       "      <td>1000</td>\n",
       "      <td>True</td>\n",
       "      <td>0.0</td>\n",
       "      <td>30M</td>\n",
       "      <td>Apr 27, 2019</td>\n",
       "      <td>2020-07-22 01:55:13</td>\n",
       "      <td>Everyone</td>\n",
       "      <td>False</td>\n",
       "      <td>False</td>\n",
       "      <td>False</td>\n",
       "    </tr>\n",
       "    <tr>\n",
       "      <th>85</th>\n",
       "      <td>FIKASO - Livraison de Repas et de Courses</td>\n",
       "      <td>Food &amp; Drink</td>\n",
       "      <td>4.4</td>\n",
       "      <td>15.0</td>\n",
       "      <td>1000</td>\n",
       "      <td>True</td>\n",
       "      <td>0.0</td>\n",
       "      <td>21M</td>\n",
       "      <td>Sep 25, 2019</td>\n",
       "      <td>2019-09-23 09:56:34</td>\n",
       "      <td>Everyone</td>\n",
       "      <td>False</td>\n",
       "      <td>False</td>\n",
       "      <td>False</td>\n",
       "    </tr>\n",
       "    <tr>\n",
       "      <th>...</th>\n",
       "      <td>...</td>\n",
       "      <td>...</td>\n",
       "      <td>...</td>\n",
       "      <td>...</td>\n",
       "      <td>...</td>\n",
       "      <td>...</td>\n",
       "      <td>...</td>\n",
       "      <td>...</td>\n",
       "      <td>...</td>\n",
       "      <td>...</td>\n",
       "      <td>...</td>\n",
       "      <td>...</td>\n",
       "      <td>...</td>\n",
       "      <td>...</td>\n",
       "    </tr>\n",
       "    <tr>\n",
       "      <th>602909</th>\n",
       "      <td>Camping Capo Ferrato</td>\n",
       "      <td>Travel &amp; Local</td>\n",
       "      <td>5.0</td>\n",
       "      <td>11.0</td>\n",
       "      <td>1000</td>\n",
       "      <td>True</td>\n",
       "      <td>0.0</td>\n",
       "      <td>28M</td>\n",
       "      <td>Jun 10, 2016</td>\n",
       "      <td>2019-07-17 20:10:50</td>\n",
       "      <td>Everyone</td>\n",
       "      <td>False</td>\n",
       "      <td>False</td>\n",
       "      <td>False</td>\n",
       "    </tr>\n",
       "    <tr>\n",
       "      <th>602933</th>\n",
       "      <td>Ultimate Rock Ballads</td>\n",
       "      <td>Entertainment</td>\n",
       "      <td>4.9</td>\n",
       "      <td>28.0</td>\n",
       "      <td>1000</td>\n",
       "      <td>True</td>\n",
       "      <td>0.0</td>\n",
       "      <td>3.5M</td>\n",
       "      <td>Oct 5, 2018</td>\n",
       "      <td>2020-04-03 13:22:44</td>\n",
       "      <td>Teen</td>\n",
       "      <td>True</td>\n",
       "      <td>False</td>\n",
       "      <td>False</td>\n",
       "    </tr>\n",
       "    <tr>\n",
       "      <th>602941</th>\n",
       "      <td>8 Ball</td>\n",
       "      <td>Sports</td>\n",
       "      <td>4.1</td>\n",
       "      <td>28.0</td>\n",
       "      <td>1000</td>\n",
       "      <td>True</td>\n",
       "      <td>0.0</td>\n",
       "      <td>16M</td>\n",
       "      <td>Sep 10, 2014</td>\n",
       "      <td>2020-02-16 11:36:47</td>\n",
       "      <td>Everyone</td>\n",
       "      <td>True</td>\n",
       "      <td>False</td>\n",
       "      <td>False</td>\n",
       "    </tr>\n",
       "    <tr>\n",
       "      <th>602943</th>\n",
       "      <td>Billiards:8 Ball 2-Pocket</td>\n",
       "      <td>Sports</td>\n",
       "      <td>4.3</td>\n",
       "      <td>22.0</td>\n",
       "      <td>1000</td>\n",
       "      <td>True</td>\n",
       "      <td>0.0</td>\n",
       "      <td>21M</td>\n",
       "      <td>Apr 8, 2016</td>\n",
       "      <td>2020-02-16 09:41:00</td>\n",
       "      <td>Everyone</td>\n",
       "      <td>True</td>\n",
       "      <td>False</td>\n",
       "      <td>False</td>\n",
       "    </tr>\n",
       "    <tr>\n",
       "      <th>602972</th>\n",
       "      <td>Memorama de las 28 Creencias</td>\n",
       "      <td>Board</td>\n",
       "      <td>4.5</td>\n",
       "      <td>33.0</td>\n",
       "      <td>1000</td>\n",
       "      <td>True</td>\n",
       "      <td>0.0</td>\n",
       "      <td>38M</td>\n",
       "      <td>Sep 4, 2014</td>\n",
       "      <td>2015-11-05 22:31:35</td>\n",
       "      <td>Everyone</td>\n",
       "      <td>False</td>\n",
       "      <td>False</td>\n",
       "      <td>False</td>\n",
       "    </tr>\n",
       "  </tbody>\n",
       "</table>\n",
       "<p>76022 rows × 14 columns</p>\n",
       "</div>"
      ],
      "text/plain": [
       "                                         App Name          Category  Rating  \\\n",
       "46                              Martha Stewart TV         Lifestyle     4.1   \n",
       "64            Money Manager - Track your expenses           Finance     4.4   \n",
       "67                     PeaceMe - Meditate & Sleep  Health & Fitness     4.7   \n",
       "68          GreenChoice: Healthy Grocery Shopping      Food & Drink     4.7   \n",
       "85      FIKASO - Livraison de Repas et de Courses      Food & Drink     4.4   \n",
       "...                                           ...               ...     ...   \n",
       "602909                       Camping Capo Ferrato    Travel & Local     5.0   \n",
       "602933                      Ultimate Rock Ballads     Entertainment     4.9   \n",
       "602941                                     8 Ball            Sports     4.1   \n",
       "602943                  Billiards:8 Ball 2-Pocket            Sports     4.3   \n",
       "602972               Memorama de las 28 Creencias             Board     4.5   \n",
       "\n",
       "        Rating Count  Installs  Free  Price  Size      Released  \\\n",
       "46              28.0      1000  True    0.0   29M  Sep 25, 2018   \n",
       "64             163.0      1000  True    0.0  5.0M   Jun 4, 2019   \n",
       "67              39.0      1000  True    0.0   37M   Feb 7, 2020   \n",
       "68              19.0      1000  True    0.0   30M  Apr 27, 2019   \n",
       "85              15.0      1000  True    0.0   21M  Sep 25, 2019   \n",
       "...              ...       ...   ...    ...   ...           ...   \n",
       "602909          11.0      1000  True    0.0   28M  Jun 10, 2016   \n",
       "602933          28.0      1000  True    0.0  3.5M   Oct 5, 2018   \n",
       "602941          28.0      1000  True    0.0   16M  Sep 10, 2014   \n",
       "602943          22.0      1000  True    0.0   21M   Apr 8, 2016   \n",
       "602972          33.0      1000  True    0.0   38M   Sep 4, 2014   \n",
       "\n",
       "               Last Updated Content Rating  Ad Supported  In App Purchases  \\\n",
       "46      2020-07-15 01:44:32       Everyone         False              True   \n",
       "64      2020-06-02 14:32:02       Everyone          True              True   \n",
       "67      2020-05-20 15:52:42       Everyone         False              True   \n",
       "68      2020-07-22 01:55:13       Everyone         False             False   \n",
       "85      2019-09-23 09:56:34       Everyone         False             False   \n",
       "...                     ...            ...           ...               ...   \n",
       "602909  2019-07-17 20:10:50       Everyone         False             False   \n",
       "602933  2020-04-03 13:22:44           Teen          True             False   \n",
       "602941  2020-02-16 11:36:47       Everyone          True             False   \n",
       "602943  2020-02-16 09:41:00       Everyone          True             False   \n",
       "602972  2015-11-05 22:31:35       Everyone         False             False   \n",
       "\n",
       "        Editors Choice  \n",
       "46               False  \n",
       "64               False  \n",
       "67               False  \n",
       "68               False  \n",
       "85               False  \n",
       "...                ...  \n",
       "602909           False  \n",
       "602933           False  \n",
       "602941           False  \n",
       "602943           False  \n",
       "602972           False  \n",
       "\n",
       "[76022 rows x 14 columns]"
      ]
     },
     "execution_count": 25,
     "metadata": {},
     "output_type": "execute_result"
    }
   ],
   "source": [
    "# 5000개 미만은 1000으로 변환\n",
    "df_clean.loc[df_clean['Installs']<5000,'Installs'] = 1000\n",
    "df_clean[df_clean['Installs']<5000]"
   ]
  },
  {
   "cell_type": "code",
   "execution_count": 26,
   "metadata": {
    "colab": {
     "base_uri": "https://localhost:8080/",
     "height": 445
    },
    "executionInfo": {
     "elapsed": 423070,
     "status": "ok",
     "timestamp": 1606459826235,
     "user": {
      "displayName": "‍안상현[학생](경영대학 경영학과)",
      "photoUrl": "",
      "userId": "15732604784560776108"
     },
     "user_tz": -540
    },
    "id": "BjbtM_8iqZug",
    "outputId": "7165654d-3d45-4776-b8fa-6f8cac4adcc1"
   },
   "outputs": [
    {
     "data": {
      "text/plain": [
       "1000        76022\n",
       "5000        43793\n",
       "10000      104491\n",
       "50000       36418\n",
       "100000      57059\n",
       "500000      14869\n",
       "1000000     29125\n",
       "Name: Installs, dtype: int64"
      ]
     },
     "execution_count": 26,
     "metadata": {},
     "output_type": "execute_result"
    },
    {
     "data": {
      "image/png": "[encoded data removed]",
      "text/plain": [
       "<Figure size 432x288 with 1 Axes>"
      ]
     },
     "metadata": {
      "needs_background": "light"
     },
     "output_type": "display_data"
    }
   ],
   "source": [
    "# 다시 분포를 출력합니다.\n",
    "df_clean['Installs'].value_counts().sort_index(ascending=True).plot(kind='bar')\n",
    "df_clean['Installs'].value_counts().sort_index(ascending=True)"
   ]
  },
  {
   "cell_type": "markdown",
   "metadata": {
    "id": "cuJGVeVHqZug"
   },
   "source": [
    "### 3.3. `Free` 시각화"
   ]
  },
  {
   "cell_type": "code",
   "execution_count": 27,
   "metadata": {
    "colab": {
     "base_uri": "https://localhost:8080/",
     "height": 335
    },
    "executionInfo": {
     "elapsed": 423390,
     "status": "ok",
     "timestamp": 1606459826579,
     "user": {
      "displayName": "‍안상현[학생](경영대학 경영학과)",
      "photoUrl": "",
      "userId": "15732604784560776108"
     },
     "user_tz": -540
    },
    "id": "SK574S7-qZug",
    "outputId": "065b2879-f917-47be-f14d-76afafe34a31"
   },
   "outputs": [
    {
     "data": {
      "text/plain": [
       "True     345154\n",
       "False     16623\n",
       "Name: Free, dtype: int64"
      ]
     },
     "execution_count": 27,
     "metadata": {},
     "output_type": "execute_result"
    },
    {
     "data": {
      "image/png": "[encoded data removed]",
      "text/plain": [
       "<Figure size 432x288 with 1 Axes>"
      ]
     },
     "metadata": {
      "needs_background": "light"
     },
     "output_type": "display_data"
    }
   ],
   "source": [
    "# 분포를 막대 그래프를 사용하여 출력합니다.\n",
    "df_clean['Free'].value_counts().plot(kind='bar')\n",
    "\n",
    "# 분포를 도수분포표로 확인합니다.\n",
    "df_clean['Free'].value_counts()"
   ]
  },
  {
   "cell_type": "markdown",
   "metadata": {
    "id": "41L7ZOIeqZug"
   },
   "source": [
    "### 3.4. `Last Updated` 시각화"
   ]
  },
  {
   "cell_type": "code",
   "execution_count": 28,
   "metadata": {
    "colab": {
     "base_uri": "https://localhost:8080/"
    },
    "executionInfo": {
     "elapsed": 423691,
     "status": "ok",
     "timestamp": 1606459826895,
     "user": {
      "displayName": "‍안상현[학생](경영대학 경영학과)",
      "photoUrl": "",
      "userId": "15732604784560776108"
     },
     "user_tz": -540
    },
    "id": "gxdMoOz0qZug",
    "outputId": "15195ba0-54d9-44f4-91a1-f4bae6f665c8"
   },
   "outputs": [
    {
     "data": {
      "text/plain": [
       "2020-07-13 07:39:47    4\n",
       "2020-07-13 07:38:00    4\n",
       "2020-07-08 14:07:44    4\n",
       "2020-07-13 07:38:25    4\n",
       "2020-07-13 07:39:18    4\n",
       "                      ..\n",
       "2019-03-04 00:53:31    1\n",
       "2018-08-21 01:37:01    1\n",
       "2020-05-25 20:04:41    1\n",
       "2020-07-01 17:52:05    1\n",
       "2020-06-25 11:38:38    1\n",
       "Name: Last Updated, Length: 360090, dtype: int64"
      ]
     },
     "execution_count": 28,
     "metadata": {},
     "output_type": "execute_result"
    }
   ],
   "source": [
    "# 분포를 도수분포표로 확인합니다.\n",
    "df_clean['Last Updated'].value_counts()"
   ]
  },
  {
   "cell_type": "code",
   "execution_count": 29,
   "metadata": {
    "id": "T0EywX6TqZug"
   },
   "outputs": [],
   "source": [
    "# 날짜와 시간 정보인 Last Updated를 가공하여 새로운 정보를 갖는 데이터를 만들어 저장해봅시다.\n",
    "# 간단하게 올해 업데이트가 되었는지 안되었는지를 알 수 있는 'Last update since 2020' 변수를 만들어 추가해봅시다.\n",
    "\n",
    "# 1. df_clean['Last Updated']\n",
    "# 2. for d in df_clean['Last Updated']:\n",
    "#       print(d)\n",
    "\n",
    "#3. for d in df_clean['Last Updated']:\n",
    "#       print(d.split(\"-\")[0])\n",
    "\n",
    "#4. [d.split('-')[0] == '2020' for d in df_clean['Last Updated']]\n",
    "df_clean['Last update since 2020'] = [d.split('-')[0] == '2020' for d in df_clean['Last Updated']]"
   ]
  },
  {
   "cell_type": "code",
   "execution_count": 30,
   "metadata": {
    "colab": {
     "base_uri": "https://localhost:8080/",
     "height": 335
    },
    "executionInfo": {
     "elapsed": 424147,
     "status": "ok",
     "timestamp": 1606459827371,
     "user": {
      "displayName": "‍안상현[학생](경영대학 경영학과)",
      "photoUrl": "",
      "userId": "15732604784560776108"
     },
     "user_tz": -540
    },
    "id": "U_wkhgbOqZug",
    "outputId": "09dca9ae-5f1b-44fe-fe50-3364236e2587"
   },
   "outputs": [
    {
     "data": {
      "text/plain": [
       "False    197957\n",
       "True     163820\n",
       "Name: Last update since 2020, dtype: int64"
      ]
     },
     "execution_count": 30,
     "metadata": {},
     "output_type": "execute_result"
    },
    {
     "data": {
      "image/png": "[encoded data removed]",
      "text/plain": [
       "<Figure size 432x288 with 1 Axes>"
      ]
     },
     "metadata": {
      "needs_background": "light"
     },
     "output_type": "display_data"
    }
   ],
   "source": [
    "# 분포를 막대 그래프를 사용하여 출력합니다.\n",
    "df_clean['Last update since 2020'].value_counts().plot(kind='bar')\n",
    "\n",
    "# 분포를 도수분포표로 확인합니다.\n",
    "df_clean['Last update since 2020'].value_counts()"
   ]
  },
  {
   "cell_type": "markdown",
   "metadata": {
    "id": "JrGKj6_0qZug"
   },
   "source": [
    "### 3.5. `Content Rating` 시각화 "
   ]
  },
  {
   "cell_type": "code",
   "execution_count": 31,
   "metadata": {
    "colab": {
     "base_uri": "https://localhost:8080/",
     "height": 462
    },
    "executionInfo": {
     "elapsed": 424743,
     "status": "ok",
     "timestamp": 1606459827987,
     "user": {
      "displayName": "‍안상현[학생](경영대학 경영학과)",
      "photoUrl": "",
      "userId": "15732604784560776108"
     },
     "user_tz": -540
    },
    "id": "SOPccFXEqZug",
    "outputId": "c8318e27-d857-4534-813c-ee97733e4a88"
   },
   "outputs": [
    {
     "data": {
      "text/plain": [
       "Everyone           316911\n",
       "Teen                29055\n",
       "Everyone 10+         7895\n",
       "Mature 17+           7880\n",
       "Unrated                19\n",
       "Adults only 18+        17\n",
       "Name: Content Rating, dtype: int64"
      ]
     },
     "execution_count": 31,
     "metadata": {},
     "output_type": "execute_result"
    },
    {
     "data": {
      "image/png": "[encoded data removed]",
      "text/plain": [
       "<Figure size 432x288 with 1 Axes>"
      ]
     },
     "metadata": {
      "needs_background": "light"
     },
     "output_type": "display_data"
    }
   ],
   "source": [
    "# 분포를 막대 그래프를 사용하여 출력합니다.\n",
    "df_clean['Content Rating'].value_counts().plot(kind='bar')\n",
    "\n",
    "# 분포를 도수분포표로 확인합니다.\n",
    "df_clean['Content Rating'].value_counts()"
   ]
  },
  {
   "cell_type": "markdown",
   "metadata": {
    "id": "V89FjHKIqZug"
   },
   "source": [
    "### 3.6. `Ad Supported` 시각화 "
   ]
  },
  {
   "cell_type": "code",
   "execution_count": 32,
   "metadata": {
    "colab": {
     "base_uri": "https://localhost:8080/",
     "height": 335
    },
    "executionInfo": {
     "elapsed": 424727,
     "status": "ok",
     "timestamp": 1606459827989,
     "user": {
      "displayName": "‍안상현[학생](경영대학 경영학과)",
      "photoUrl": "",
      "userId": "15732604784560776108"
     },
     "user_tz": -540
    },
    "id": "rxYwKXZmqZug",
    "outputId": "d39fadde-cb69-49ad-9e7d-515b8c7d4784"
   },
   "outputs": [
    {
     "data": {
      "text/plain": [
       "True     219578\n",
       "False    142199\n",
       "Name: Ad Supported, dtype: int64"
      ]
     },
     "execution_count": 32,
     "metadata": {},
     "output_type": "execute_result"
    },
    {
     "data": {
      "image/png": "[encoded data removed]",
      "text/plain": [
       "<Figure size 432x288 with 1 Axes>"
      ]
     },
     "metadata": {
      "needs_background": "light"
     },
     "output_type": "display_data"
    }
   ],
   "source": [
    "# 분포를 막대 그래프를 사용하여 출력합니다.\n",
    "df_clean['Ad Supported'].value_counts().plot(kind='bar')\n",
    "\n",
    "# 분포를 도수분포표로 확인합니다.\n",
    "df_clean['Ad Supported'].value_counts()"
   ]
  },
  {
   "cell_type": "markdown",
   "metadata": {
    "id": "gjNifNJoqZuh"
   },
   "source": [
    "### 3.7. `In App Purchases` 시각화 "
   ]
  },
  {
   "cell_type": "code",
   "execution_count": 33,
   "metadata": {
    "colab": {
     "base_uri": "https://localhost:8080/",
     "height": 335
    },
    "executionInfo": {
     "elapsed": 424709,
     "status": "ok",
     "timestamp": 1606459827990,
     "user": {
      "displayName": "‍안상현[학생](경영대학 경영학과)",
      "photoUrl": "",
      "userId": "15732604784560776108"
     },
     "user_tz": -540
    },
    "id": "bMYE9-9nqZuh",
    "outputId": "c9dc3774-3ce1-476c-f32f-c8dc828f5f4e"
   },
   "outputs": [
    {
     "data": {
      "text/plain": [
       "False    292902\n",
       "True      68875\n",
       "Name: In App Purchases, dtype: int64"
      ]
     },
     "execution_count": 33,
     "metadata": {},
     "output_type": "execute_result"
    },
    {
     "data": {
      "image/png": "[encoded data removed]",
      "text/plain": [
       "<Figure size 432x288 with 1 Axes>"
      ]
     },
     "metadata": {
      "needs_background": "light"
     },
     "output_type": "display_data"
    }
   ],
   "source": [
    "# 분포를 막대 그래프를 사용하여 출력합니다.\n",
    "df_clean['In App Purchases'].value_counts().plot(kind='bar')\n",
    "\n",
    "# 분포를 도수분포표로 확인합니다.\n",
    "df_clean['In App Purchases'].value_counts()"
   ]
  },
  {
   "cell_type": "markdown",
   "metadata": {
    "id": "KgD5knKGqZuh"
   },
   "source": [
    "### 3.8. `Editors Choice` 시각화 "
   ]
  },
  {
   "cell_type": "code",
   "execution_count": 34,
   "metadata": {
    "colab": {
     "base_uri": "https://localhost:8080/",
     "height": 335
    },
    "executionInfo": {
     "elapsed": 425005,
     "status": "ok",
     "timestamp": 1606459828304,
     "user": {
      "displayName": "‍안상현[학생](경영대학 경영학과)",
      "photoUrl": "",
      "userId": "15732604784560776108"
     },
     "user_tz": -540
    },
    "id": "PYkZGXKdqZuh",
    "outputId": "8ace97fd-656e-4754-ee95-b05dfe71ab78",
    "scrolled": true
   },
   "outputs": [
    {
     "data": {
      "text/plain": [
       "False    361005\n",
       "True        772\n",
       "Name: Editors Choice, dtype: int64"
      ]
     },
     "execution_count": 34,
     "metadata": {},
     "output_type": "execute_result"
    },
    {
     "data": {
      "image/png": "[encoded data removed]",
      "text/plain": [
       "<Figure size 432x288 with 1 Axes>"
      ]
     },
     "metadata": {
      "needs_background": "light"
     },
     "output_type": "display_data"
    }
   ],
   "source": [
    "# 분포를 막대 그래프를 사용하여 출력합니다.\n",
    "df_clean['Editors Choice'].value_counts().plot(kind='bar')\n",
    "\n",
    "# 분포를 도수분포표로 확인합니다.\n",
    "df_clean['Editors Choice'].value_counts()"
   ]
  },
  {
   "cell_type": "markdown",
   "metadata": {
    "id": "H8Se0fMpqZuh"
   },
   "source": [
    " "
   ]
  },
  {
   "cell_type": "markdown",
   "metadata": {
    "id": "msoC8LVZqZuh"
   },
   "source": [
    "## 4. 데이터 전처리\n",
    "\n",
    "> 머신러닝 모델을 사용하기 위해서 데이터를 준비하는 파트입니다. 본 실습에서는 특성 엔지니어링 기법 중 더미(dummy) 방식과 학습&테스트 데이터를 분리 하는 과정을 다룹니다. \n",
    "\n",
    "> 본 실습에서의 더미에서는 어떠한 데이터를 머신러닝의 feature로 사용할 것인가를 결정하는 중요한 파트라 생각합니다. 0,1만을 사용하는 더미 방식 외에 object 자료형을 변환하는 다양한 기법들이 있고 이를 어떻게 적용하느냐에 따라 성능에 큰 영향을 줄 수 있다는 지도가 있었으면 합니다.\n",
    "\n",
    "> 학습, 테스트 분리에서는 왜 데이터를 분리에서 사용하는지에 대한 설명이 해주시면 좋을 거 같습니다.\n",
    "\n",
    "\n",
    "> 추가로 데이터 정규화를 수행하는데 StandardScaler 이외의 minmax 정규화 등의 다양한 기법들을 소개해주시고 왜 정규화가 필요한지를 지도하면 좋을 거 같습니다."
   ]
  },
  {
   "cell_type": "markdown",
   "metadata": {
    "id": "Z1BxOMMJqZuh"
   },
   "source": [
    "앱 평점 예측을 수행하기 위해서 주어진 구글 앱 데이터에 대해서 회귀 모델을 사용할 것입니다.\n",
    "\n",
    "이번 파트에서는 11개의 변수만을 사용하여 예측을 수행하지만, 나머지 12개의 변수들을 추가하여 입력 데이터를 확장할 수 있습니다.\n",
    "\n",
    "회귀 모델의 필요한 입력 데이터를 준비 하기위해서 다음과 같은 전처리를 수행하겠습니다.\n",
    "\n",
    "1. Object 자료형 -> 숫자 자료형 변환하기\n",
    "2. 학습 데이터와 테스트 데이터로 나누기"
   ]
  },
  {
   "cell_type": "markdown",
   "metadata": {
    "id": "J9wMyYWbqZuh"
   },
   "source": [
    "### 4.1. 더미변수(Dummy Variable)를 활용하여 Object 자료형을 수치형으로 변환\n",
    "\n",
    "---\n",
    "\n"
   ]
  },
  {
   "cell_type": "markdown",
   "metadata": {
    "id": "tEUXVxZjqZuh"
   },
   "source": [
    "일반적인 머신러닝 모델에서는 수치 자료형만을 입력값으로 사용합니다. 따라서 수치 자료형만을 사용하여 입력값으로 사용할 수 있지만, 신용 예측을 위한 데이터에 존재하는 `Content Rating` 변수의 데이터들은 중요한 정보일 수 잇는 object 자료형을 사용할 수가 없습니다.\n",
    "\n",
    "그렇기에 이러한 object 자료형을 수치 자료형으로 변환하는 dummy 방식을 사용하여 다양한 데이터를 수치형 입력으로 사용해 봅시다."
   ]
  },
  {
   "cell_type": "code",
   "execution_count": 35,
   "metadata": {},
   "outputs": [
    {
     "name": "stdout",
     "output_type": "stream",
     "text": [
      "<class 'pandas.core.frame.DataFrame'>\n",
      "Int64Index: 361777 entries, 0 to 603006\n",
      "Data columns (total 15 columns):\n",
      " #   Column                  Non-Null Count   Dtype  \n",
      "---  ------                  --------------   -----  \n",
      " 0   App Name                361777 non-null  object \n",
      " 1   Category                361777 non-null  object \n",
      " 2   Rating                  361777 non-null  float64\n",
      " 3   Rating Count            361777 non-null  float64\n",
      " 4   Installs                361777 non-null  int64  \n",
      " 5   Free                    361777 non-null  bool   \n",
      " 6   Price                   361777 non-null  float64\n",
      " 7   Size                    361777 non-null  object \n",
      " 8   Released                361777 non-null  object \n",
      " 9   Last Updated            361777 non-null  object \n",
      " 10  Content Rating          361777 non-null  object \n",
      " 11  Ad Supported            361777 non-null  bool   \n",
      " 12  In App Purchases        361777 non-null  bool   \n",
      " 13  Editors Choice          361777 non-null  bool   \n",
      " 14  Last update since 2020  361777 non-null  bool   \n",
      "dtypes: bool(5), float64(3), int64(1), object(6)\n",
      "memory usage: 32.1+ MB\n"
     ]
    }
   ],
   "source": [
    "df_clean.info()"
   ]
  },
  {
   "cell_type": "code",
   "execution_count": 36,
   "metadata": {
    "scrolled": true
   },
   "outputs": [
    {
     "data": {
      "text/html": [
       "<div>\n",
       "<style scoped>\n",
       "    .dataframe tbody tr th:only-of-type {\n",
       "        vertical-align: middle;\n",
       "    }\n",
       "\n",
       "    .dataframe tbody tr th {\n",
       "        vertical-align: top;\n",
       "    }\n",
       "\n",
       "    .dataframe thead th {\n",
       "        text-align: right;\n",
       "    }\n",
       "</style>\n",
       "<table border=\"1\" class=\"dataframe\">\n",
       "  <thead>\n",
       "    <tr style=\"text-align: right;\">\n",
       "      <th></th>\n",
       "      <th>App Name</th>\n",
       "      <th>Category</th>\n",
       "      <th>Rating</th>\n",
       "      <th>Rating Count</th>\n",
       "      <th>Installs</th>\n",
       "      <th>Free</th>\n",
       "      <th>Price</th>\n",
       "      <th>Size</th>\n",
       "      <th>Released</th>\n",
       "      <th>Last Updated</th>\n",
       "      <th>Content Rating</th>\n",
       "      <th>Ad Supported</th>\n",
       "      <th>In App Purchases</th>\n",
       "      <th>Editors Choice</th>\n",
       "      <th>Last update since 2020</th>\n",
       "    </tr>\n",
       "  </thead>\n",
       "  <tbody>\n",
       "    <tr>\n",
       "      <th>0</th>\n",
       "      <td>foodpanda - Local Food &amp; Grocery Delivery</td>\n",
       "      <td>Food &amp; Drink</td>\n",
       "      <td>4.4</td>\n",
       "      <td>1258493.0</td>\n",
       "      <td>1000000</td>\n",
       "      <td>True</td>\n",
       "      <td>0.00</td>\n",
       "      <td>21M</td>\n",
       "      <td>Nov 19, 2013</td>\n",
       "      <td>2020-07-07 00:14:05</td>\n",
       "      <td>Everyone</td>\n",
       "      <td>False</td>\n",
       "      <td>False</td>\n",
       "      <td>False</td>\n",
       "      <td>True</td>\n",
       "    </tr>\n",
       "    <tr>\n",
       "      <th>1</th>\n",
       "      <td>Tripadvisor Hotel, Flight &amp; Restaurant Bookings</td>\n",
       "      <td>Travel &amp; Local</td>\n",
       "      <td>4.4</td>\n",
       "      <td>1360172.0</td>\n",
       "      <td>1000000</td>\n",
       "      <td>True</td>\n",
       "      <td>0.00</td>\n",
       "      <td>Varies with device</td>\n",
       "      <td>Jul 12, 2010</td>\n",
       "      <td>2020-07-02 20:10:48</td>\n",
       "      <td>Everyone</td>\n",
       "      <td>True</td>\n",
       "      <td>False</td>\n",
       "      <td>False</td>\n",
       "      <td>True</td>\n",
       "    </tr>\n",
       "    <tr>\n",
       "      <th>2</th>\n",
       "      <td>Safeway Delivery &amp; Pick Up</td>\n",
       "      <td>Shopping</td>\n",
       "      <td>4.2</td>\n",
       "      <td>5532.0</td>\n",
       "      <td>500000</td>\n",
       "      <td>True</td>\n",
       "      <td>0.00</td>\n",
       "      <td>12M</td>\n",
       "      <td>Sep 5, 2013</td>\n",
       "      <td>2020-07-16 23:21:50</td>\n",
       "      <td>Everyone</td>\n",
       "      <td>False</td>\n",
       "      <td>False</td>\n",
       "      <td>False</td>\n",
       "      <td>True</td>\n",
       "    </tr>\n",
       "    <tr>\n",
       "      <th>3</th>\n",
       "      <td>My CookBook Ad-Free</td>\n",
       "      <td>Food &amp; Drink</td>\n",
       "      <td>4.7</td>\n",
       "      <td>2531.0</td>\n",
       "      <td>10000</td>\n",
       "      <td>False</td>\n",
       "      <td>5.99</td>\n",
       "      <td>Varies with device</td>\n",
       "      <td>Sep 25, 2011</td>\n",
       "      <td>2020-07-07 12:41:28</td>\n",
       "      <td>Everyone</td>\n",
       "      <td>False</td>\n",
       "      <td>False</td>\n",
       "      <td>False</td>\n",
       "      <td>True</td>\n",
       "    </tr>\n",
       "    <tr>\n",
       "      <th>4</th>\n",
       "      <td>Talabat: Food &amp; Grocery Delivery</td>\n",
       "      <td>Food &amp; Drink</td>\n",
       "      <td>4.4</td>\n",
       "      <td>197649.0</td>\n",
       "      <td>1000000</td>\n",
       "      <td>True</td>\n",
       "      <td>0.00</td>\n",
       "      <td>Varies with device</td>\n",
       "      <td>Jan 19, 2012</td>\n",
       "      <td>2020-07-15 19:21:16</td>\n",
       "      <td>Mature 17+</td>\n",
       "      <td>True</td>\n",
       "      <td>False</td>\n",
       "      <td>False</td>\n",
       "      <td>True</td>\n",
       "    </tr>\n",
       "  </tbody>\n",
       "</table>\n",
       "</div>"
      ],
      "text/plain": [
       "                                          App Name        Category  Rating  \\\n",
       "0        foodpanda - Local Food & Grocery Delivery    Food & Drink     4.4   \n",
       "1  Tripadvisor Hotel, Flight & Restaurant Bookings  Travel & Local     4.4   \n",
       "2                       Safeway Delivery & Pick Up        Shopping     4.2   \n",
       "3                              My CookBook Ad-Free    Food & Drink     4.7   \n",
       "4                 Talabat: Food & Grocery Delivery    Food & Drink     4.4   \n",
       "\n",
       "   Rating Count  Installs   Free  Price                Size      Released  \\\n",
       "0     1258493.0   1000000   True   0.00                 21M  Nov 19, 2013   \n",
       "1     1360172.0   1000000   True   0.00  Varies with device  Jul 12, 2010   \n",
       "2        5532.0    500000   True   0.00                 12M   Sep 5, 2013   \n",
       "3        2531.0     10000  False   5.99  Varies with device  Sep 25, 2011   \n",
       "4      197649.0   1000000   True   0.00  Varies with device  Jan 19, 2012   \n",
       "\n",
       "          Last Updated Content Rating  Ad Supported  In App Purchases  \\\n",
       "0  2020-07-07 00:14:05       Everyone         False             False   \n",
       "1  2020-07-02 20:10:48       Everyone          True             False   \n",
       "2  2020-07-16 23:21:50       Everyone         False             False   \n",
       "3  2020-07-07 12:41:28       Everyone         False             False   \n",
       "4  2020-07-15 19:21:16     Mature 17+          True             False   \n",
       "\n",
       "   Editors Choice  Last update since 2020  \n",
       "0           False                    True  \n",
       "1           False                    True  \n",
       "2           False                    True  \n",
       "3           False                    True  \n",
       "4           False                    True  "
      ]
     },
     "execution_count": 36,
     "metadata": {},
     "output_type": "execute_result"
    }
   ],
   "source": [
    "df_clean.head()"
   ]
  },
  {
   "cell_type": "code",
   "execution_count": 42,
   "metadata": {
    "scrolled": true
   },
   "outputs": [
    {
     "name": "stdout",
     "output_type": "stream",
     "text": [
      "<class 'pandas.core.frame.DataFrame'>\n",
      "Int64Index: 361777 entries, 0 to 603006\n",
      "Data columns (total 15 columns):\n",
      " #   Column                  Non-Null Count   Dtype  \n",
      "---  ------                  --------------   -----  \n",
      " 0   App Name                361777 non-null  object \n",
      " 1   Category                361777 non-null  object \n",
      " 2   Rating                  361777 non-null  float64\n",
      " 3   Rating Count            361777 non-null  float64\n",
      " 4   Installs                361777 non-null  int64  \n",
      " 5   Free                    361777 non-null  bool   \n",
      " 6   Price                   361777 non-null  float64\n",
      " 7   Size                    343899 non-null  object \n",
      " 8   Released                361777 non-null  object \n",
      " 9   Last Updated            361777 non-null  object \n",
      " 10  Content Rating          361777 non-null  object \n",
      " 11  Ad Supported            361777 non-null  bool   \n",
      " 12  In App Purchases        361777 non-null  bool   \n",
      " 13  Editors Choice          361777 non-null  bool   \n",
      " 14  Last update since 2020  361777 non-null  bool   \n",
      "dtypes: bool(5), float64(3), int64(1), object(6)\n",
      "memory usage: 32.1+ MB\n"
     ]
    }
   ],
   "source": [
    "df_clean['Size'] = df_clean['Size'].replace('Varies with device', np.nan)\n",
    "df_clean.info()"
   ]
  },
  {
   "cell_type": "code",
   "execution_count": 62,
   "metadata": {},
   "outputs": [],
   "source": [
    "df_clean['Size'] = df_clean['Size'].str.strip(\"M,\")"
   ]
  },
  {
   "cell_type": "code",
   "execution_count": 66,
   "metadata": {
    "scrolled": true
   },
   "outputs": [
    {
     "data": {
      "text/html": [
       "<div>\n",
       "<style scoped>\n",
       "    .dataframe tbody tr th:only-of-type {\n",
       "        vertical-align: middle;\n",
       "    }\n",
       "\n",
       "    .dataframe tbody tr th {\n",
       "        vertical-align: top;\n",
       "    }\n",
       "\n",
       "    .dataframe thead th {\n",
       "        text-align: right;\n",
       "    }\n",
       "</style>\n",
       "<table border=\"1\" class=\"dataframe\">\n",
       "  <thead>\n",
       "    <tr style=\"text-align: right;\">\n",
       "      <th></th>\n",
       "      <th>App Name</th>\n",
       "      <th>Category</th>\n",
       "      <th>Rating</th>\n",
       "      <th>Rating Count</th>\n",
       "      <th>Installs</th>\n",
       "      <th>Free</th>\n",
       "      <th>Price</th>\n",
       "      <th>Size</th>\n",
       "      <th>Released</th>\n",
       "      <th>Last Updated</th>\n",
       "      <th>Content Rating</th>\n",
       "      <th>Ad Supported</th>\n",
       "      <th>In App Purchases</th>\n",
       "      <th>Editors Choice</th>\n",
       "      <th>Last update since 2020</th>\n",
       "    </tr>\n",
       "  </thead>\n",
       "  <tbody>\n",
       "    <tr>\n",
       "      <th>0</th>\n",
       "      <td>foodpanda - Local Food &amp; Grocery Delivery</td>\n",
       "      <td>Food &amp; Drink</td>\n",
       "      <td>4.4</td>\n",
       "      <td>1258493.0</td>\n",
       "      <td>1000000</td>\n",
       "      <td>1</td>\n",
       "      <td>0.0</td>\n",
       "      <td>21</td>\n",
       "      <td>Nov 19, 2013</td>\n",
       "      <td>2020-07-07 00:14:05</td>\n",
       "      <td>Everyone</td>\n",
       "      <td>0</td>\n",
       "      <td>0</td>\n",
       "      <td>0</td>\n",
       "      <td>1</td>\n",
       "    </tr>\n",
       "    <tr>\n",
       "      <th>1</th>\n",
       "      <td>Tripadvisor Hotel, Flight &amp; Restaurant Bookings</td>\n",
       "      <td>Travel &amp; Local</td>\n",
       "      <td>4.4</td>\n",
       "      <td>1360172.0</td>\n",
       "      <td>1000000</td>\n",
       "      <td>1</td>\n",
       "      <td>0.0</td>\n",
       "      <td>NaN</td>\n",
       "      <td>Jul 12, 2010</td>\n",
       "      <td>2020-07-02 20:10:48</td>\n",
       "      <td>Everyone</td>\n",
       "      <td>1</td>\n",
       "      <td>0</td>\n",
       "      <td>0</td>\n",
       "      <td>1</td>\n",
       "    </tr>\n",
       "    <tr>\n",
       "      <th>2</th>\n",
       "      <td>Safeway Delivery &amp; Pick Up</td>\n",
       "      <td>Shopping</td>\n",
       "      <td>4.2</td>\n",
       "      <td>5532.0</td>\n",
       "      <td>500000</td>\n",
       "      <td>1</td>\n",
       "      <td>0.0</td>\n",
       "      <td>12</td>\n",
       "      <td>Sep 5, 2013</td>\n",
       "      <td>2020-07-16 23:21:50</td>\n",
       "      <td>Everyone</td>\n",
       "      <td>0</td>\n",
       "      <td>0</td>\n",
       "      <td>0</td>\n",
       "      <td>1</td>\n",
       "    </tr>\n",
       "  </tbody>\n",
       "</table>\n",
       "</div>"
      ],
      "text/plain": [
       "                                          App Name        Category  Rating  \\\n",
       "0        foodpanda - Local Food & Grocery Delivery    Food & Drink     4.4   \n",
       "1  Tripadvisor Hotel, Flight & Restaurant Bookings  Travel & Local     4.4   \n",
       "2                       Safeway Delivery & Pick Up        Shopping     4.2   \n",
       "\n",
       "   Rating Count  Installs  Free  Price Size      Released  \\\n",
       "0     1258493.0   1000000     1    0.0   21  Nov 19, 2013   \n",
       "1     1360172.0   1000000     1    0.0  NaN  Jul 12, 2010   \n",
       "2        5532.0    500000     1    0.0   12   Sep 5, 2013   \n",
       "\n",
       "          Last Updated Content Rating  Ad Supported  In App Purchases  \\\n",
       "0  2020-07-07 00:14:05       Everyone             0                 0   \n",
       "1  2020-07-02 20:10:48       Everyone             1                 0   \n",
       "2  2020-07-16 23:21:50       Everyone             0                 0   \n",
       "\n",
       "   Editors Choice  Last update since 2020  \n",
       "0               0                       1  \n",
       "1               0                       1  \n",
       "2               0                       1  "
      ]
     },
     "execution_count": 66,
     "metadata": {},
     "output_type": "execute_result"
    }
   ],
   "source": [
    "df_clean.head(3)"
   ]
  },
  {
   "cell_type": "code",
   "execution_count": 67,
   "metadata": {},
   "outputs": [],
   "source": [
    "df_clean = df_clean.dropna()"
   ]
  },
  {
   "cell_type": "code",
   "execution_count": 72,
   "metadata": {},
   "outputs": [
    {
     "data": {
      "text/html": [
       "<div>\n",
       "<style scoped>\n",
       "    .dataframe tbody tr th:only-of-type {\n",
       "        vertical-align: middle;\n",
       "    }\n",
       "\n",
       "    .dataframe tbody tr th {\n",
       "        vertical-align: top;\n",
       "    }\n",
       "\n",
       "    .dataframe thead th {\n",
       "        text-align: right;\n",
       "    }\n",
       "</style>\n",
       "<table border=\"1\" class=\"dataframe\">\n",
       "  <thead>\n",
       "    <tr style=\"text-align: right;\">\n",
       "      <th></th>\n",
       "      <th>App Name</th>\n",
       "      <th>Category</th>\n",
       "      <th>Rating</th>\n",
       "      <th>Rating Count</th>\n",
       "      <th>Installs</th>\n",
       "      <th>Free</th>\n",
       "      <th>Price</th>\n",
       "      <th>Size</th>\n",
       "      <th>Released</th>\n",
       "      <th>Last Updated</th>\n",
       "      <th>Content Rating</th>\n",
       "      <th>Ad Supported</th>\n",
       "      <th>In App Purchases</th>\n",
       "      <th>Editors Choice</th>\n",
       "      <th>Last update since 2020</th>\n",
       "    </tr>\n",
       "  </thead>\n",
       "  <tbody>\n",
       "    <tr>\n",
       "      <th>0</th>\n",
       "      <td>foodpanda - Local Food &amp; Grocery Delivery</td>\n",
       "      <td>Food &amp; Drink</td>\n",
       "      <td>4.4</td>\n",
       "      <td>1258493.0</td>\n",
       "      <td>1000000</td>\n",
       "      <td>1</td>\n",
       "      <td>0.0</td>\n",
       "      <td>21</td>\n",
       "      <td>Nov 19, 2013</td>\n",
       "      <td>2020-07-07 00:14:05</td>\n",
       "      <td>Everyone</td>\n",
       "      <td>0</td>\n",
       "      <td>0</td>\n",
       "      <td>0</td>\n",
       "      <td>1</td>\n",
       "    </tr>\n",
       "    <tr>\n",
       "      <th>2</th>\n",
       "      <td>Safeway Delivery &amp; Pick Up</td>\n",
       "      <td>Shopping</td>\n",
       "      <td>4.2</td>\n",
       "      <td>5532.0</td>\n",
       "      <td>500000</td>\n",
       "      <td>1</td>\n",
       "      <td>0.0</td>\n",
       "      <td>12</td>\n",
       "      <td>Sep 5, 2013</td>\n",
       "      <td>2020-07-16 23:21:50</td>\n",
       "      <td>Everyone</td>\n",
       "      <td>0</td>\n",
       "      <td>0</td>\n",
       "      <td>0</td>\n",
       "      <td>1</td>\n",
       "    </tr>\n",
       "    <tr>\n",
       "      <th>5</th>\n",
       "      <td>DoorDash - Food Delivery</td>\n",
       "      <td>Food &amp; Drink</td>\n",
       "      <td>4.5</td>\n",
       "      <td>784802.0</td>\n",
       "      <td>1000000</td>\n",
       "      <td>1</td>\n",
       "      <td>0.0</td>\n",
       "      <td>38</td>\n",
       "      <td>Mar 26, 2015</td>\n",
       "      <td>2020-06-26 01:32:02</td>\n",
       "      <td>Everyone</td>\n",
       "      <td>0</td>\n",
       "      <td>0</td>\n",
       "      <td>0</td>\n",
       "      <td>1</td>\n",
       "    </tr>\n",
       "    <tr>\n",
       "      <th>6</th>\n",
       "      <td>Peapod Delivery</td>\n",
       "      <td>Shopping</td>\n",
       "      <td>2.8</td>\n",
       "      <td>2487.0</td>\n",
       "      <td>500000</td>\n",
       "      <td>1</td>\n",
       "      <td>0.0</td>\n",
       "      <td>30</td>\n",
       "      <td>Sep 2, 2010</td>\n",
       "      <td>2020-07-12 01:31:51</td>\n",
       "      <td>Everyone</td>\n",
       "      <td>1</td>\n",
       "      <td>0</td>\n",
       "      <td>0</td>\n",
       "      <td>1</td>\n",
       "    </tr>\n",
       "    <tr>\n",
       "      <th>8</th>\n",
       "      <td>FreshDirect</td>\n",
       "      <td>Shopping</td>\n",
       "      <td>2.1</td>\n",
       "      <td>893.0</td>\n",
       "      <td>100000</td>\n",
       "      <td>1</td>\n",
       "      <td>0.0</td>\n",
       "      <td>59</td>\n",
       "      <td>Aug 25, 2011</td>\n",
       "      <td>2020-07-02 20:15:03</td>\n",
       "      <td>Everyone</td>\n",
       "      <td>1</td>\n",
       "      <td>0</td>\n",
       "      <td>0</td>\n",
       "      <td>1</td>\n",
       "    </tr>\n",
       "    <tr>\n",
       "      <th>10</th>\n",
       "      <td>Fast Food Locator | Worldwide Fast Food Finder</td>\n",
       "      <td>Travel &amp; Local</td>\n",
       "      <td>3.7</td>\n",
       "      <td>91.0</td>\n",
       "      <td>10000</td>\n",
       "      <td>1</td>\n",
       "      <td>0.0</td>\n",
       "      <td>4.9</td>\n",
       "      <td>Jun 1, 2014</td>\n",
       "      <td>2020-07-01 00:56:54</td>\n",
       "      <td>Everyone</td>\n",
       "      <td>1</td>\n",
       "      <td>1</td>\n",
       "      <td>0</td>\n",
       "      <td>1</td>\n",
       "    </tr>\n",
       "  </tbody>\n",
       "</table>\n",
       "</div>"
      ],
      "text/plain": [
       "                                          App Name        Category  Rating  \\\n",
       "0        foodpanda - Local Food & Grocery Delivery    Food & Drink     4.4   \n",
       "2                       Safeway Delivery & Pick Up        Shopping     4.2   \n",
       "5                         DoorDash - Food Delivery    Food & Drink     4.5   \n",
       "6                                  Peapod Delivery        Shopping     2.8   \n",
       "8                                      FreshDirect        Shopping     2.1   \n",
       "10  Fast Food Locator | Worldwide Fast Food Finder  Travel & Local     3.7   \n",
       "\n",
       "    Rating Count  Installs  Free  Price Size      Released  \\\n",
       "0      1258493.0   1000000     1    0.0   21  Nov 19, 2013   \n",
       "2         5532.0    500000     1    0.0   12   Sep 5, 2013   \n",
       "5       784802.0   1000000     1    0.0   38  Mar 26, 2015   \n",
       "6         2487.0    500000     1    0.0   30   Sep 2, 2010   \n",
       "8          893.0    100000     1    0.0   59  Aug 25, 2011   \n",
       "10          91.0     10000     1    0.0  4.9   Jun 1, 2014   \n",
       "\n",
       "           Last Updated Content Rating  Ad Supported  In App Purchases  \\\n",
       "0   2020-07-07 00:14:05       Everyone             0                 0   \n",
       "2   2020-07-16 23:21:50       Everyone             0                 0   \n",
       "5   2020-06-26 01:32:02       Everyone             0                 0   \n",
       "6   2020-07-12 01:31:51       Everyone             1                 0   \n",
       "8   2020-07-02 20:15:03       Everyone             1                 0   \n",
       "10  2020-07-01 00:56:54       Everyone             1                 1   \n",
       "\n",
       "    Editors Choice  Last update since 2020  \n",
       "0                0                       1  \n",
       "2                0                       1  \n",
       "5                0                       1  \n",
       "6                0                       1  \n",
       "8                0                       1  \n",
       "10               0                       1  "
      ]
     },
     "execution_count": 72,
     "metadata": {},
     "output_type": "execute_result"
    }
   ],
   "source": [
    "df_clean.loc[0:11]"
   ]
  },
  {
   "cell_type": "code",
   "execution_count": 73,
   "metadata": {
    "scrolled": true
   },
   "outputs": [
    {
     "ename": "ValueError",
     "evalue": "could not convert string to float: '297k'",
     "output_type": "error",
     "traceback": [
      "\u001b[1;31m---------------------------------------------------------------------------\u001b[0m",
      "\u001b[1;31mValueError\u001b[0m                                Traceback (most recent call last)",
      "\u001b[1;32m<ipython-input-73-77b6eb4c5f88>\u001b[0m in \u001b[0;36m<module>\u001b[1;34m\u001b[0m\n\u001b[1;32m----> 1\u001b[1;33m \u001b[0mdf_clean\u001b[0m\u001b[1;33m.\u001b[0m\u001b[0mastype\u001b[0m\u001b[1;33m(\u001b[0m\u001b[1;33m{\u001b[0m\u001b[1;34m'Size'\u001b[0m\u001b[1;33m:\u001b[0m\u001b[1;34m'float'\u001b[0m\u001b[1;33m}\u001b[0m\u001b[1;33m)\u001b[0m\u001b[1;33m.\u001b[0m\u001b[0mdtypes\u001b[0m\u001b[1;33m\u001b[0m\u001b[1;33m\u001b[0m\u001b[0m\n\u001b[0m",
      "\u001b[1;32m~\\Anaconda3\\lib\\site-packages\\pandas\\core\\generic.py\u001b[0m in \u001b[0;36mastype\u001b[1;34m(self, dtype, copy, errors)\u001b[0m\n\u001b[0;32m   5529\u001b[0m                 \u001b[1;32mif\u001b[0m \u001b[0mcol_name\u001b[0m \u001b[1;32min\u001b[0m \u001b[0mdtype\u001b[0m\u001b[1;33m:\u001b[0m\u001b[1;33m\u001b[0m\u001b[1;33m\u001b[0m\u001b[0m\n\u001b[0;32m   5530\u001b[0m                     results.append(\n\u001b[1;32m-> 5531\u001b[1;33m                         \u001b[0mcol\u001b[0m\u001b[1;33m.\u001b[0m\u001b[0mastype\u001b[0m\u001b[1;33m(\u001b[0m\u001b[0mdtype\u001b[0m\u001b[1;33m=\u001b[0m\u001b[0mdtype\u001b[0m\u001b[1;33m[\u001b[0m\u001b[0mcol_name\u001b[0m\u001b[1;33m]\u001b[0m\u001b[1;33m,\u001b[0m \u001b[0mcopy\u001b[0m\u001b[1;33m=\u001b[0m\u001b[0mcopy\u001b[0m\u001b[1;33m,\u001b[0m \u001b[0merrors\u001b[0m\u001b[1;33m=\u001b[0m\u001b[0merrors\u001b[0m\u001b[1;33m)\u001b[0m\u001b[1;33m\u001b[0m\u001b[1;33m\u001b[0m\u001b[0m\n\u001b[0m\u001b[0;32m   5532\u001b[0m                     )\n\u001b[0;32m   5533\u001b[0m                 \u001b[1;32melse\u001b[0m\u001b[1;33m:\u001b[0m\u001b[1;33m\u001b[0m\u001b[1;33m\u001b[0m\u001b[0m\n",
      "\u001b[1;32m~\\Anaconda3\\lib\\site-packages\\pandas\\core\\generic.py\u001b[0m in \u001b[0;36mastype\u001b[1;34m(self, dtype, copy, errors)\u001b[0m\n\u001b[0;32m   5544\u001b[0m         \u001b[1;32melse\u001b[0m\u001b[1;33m:\u001b[0m\u001b[1;33m\u001b[0m\u001b[1;33m\u001b[0m\u001b[0m\n\u001b[0;32m   5545\u001b[0m             \u001b[1;31m# else, only a single dtype is given\u001b[0m\u001b[1;33m\u001b[0m\u001b[1;33m\u001b[0m\u001b[1;33m\u001b[0m\u001b[0m\n\u001b[1;32m-> 5546\u001b[1;33m             \u001b[0mnew_data\u001b[0m \u001b[1;33m=\u001b[0m \u001b[0mself\u001b[0m\u001b[1;33m.\u001b[0m\u001b[0m_mgr\u001b[0m\u001b[1;33m.\u001b[0m\u001b[0mastype\u001b[0m\u001b[1;33m(\u001b[0m\u001b[0mdtype\u001b[0m\u001b[1;33m=\u001b[0m\u001b[0mdtype\u001b[0m\u001b[1;33m,\u001b[0m \u001b[0mcopy\u001b[0m\u001b[1;33m=\u001b[0m\u001b[0mcopy\u001b[0m\u001b[1;33m,\u001b[0m \u001b[0merrors\u001b[0m\u001b[1;33m=\u001b[0m\u001b[0merrors\u001b[0m\u001b[1;33m,\u001b[0m\u001b[1;33m)\u001b[0m\u001b[1;33m\u001b[0m\u001b[1;33m\u001b[0m\u001b[0m\n\u001b[0m\u001b[0;32m   5547\u001b[0m             \u001b[1;32mreturn\u001b[0m \u001b[0mself\u001b[0m\u001b[1;33m.\u001b[0m\u001b[0m_constructor\u001b[0m\u001b[1;33m(\u001b[0m\u001b[0mnew_data\u001b[0m\u001b[1;33m)\u001b[0m\u001b[1;33m.\u001b[0m\u001b[0m__finalize__\u001b[0m\u001b[1;33m(\u001b[0m\u001b[0mself\u001b[0m\u001b[1;33m,\u001b[0m \u001b[0mmethod\u001b[0m\u001b[1;33m=\u001b[0m\u001b[1;34m\"astype\"\u001b[0m\u001b[1;33m)\u001b[0m\u001b[1;33m\u001b[0m\u001b[1;33m\u001b[0m\u001b[0m\n\u001b[0;32m   5548\u001b[0m \u001b[1;33m\u001b[0m\u001b[0m\n",
      "\u001b[1;32m~\\Anaconda3\\lib\\site-packages\\pandas\\core\\internals\\managers.py\u001b[0m in \u001b[0;36mastype\u001b[1;34m(self, dtype, copy, errors)\u001b[0m\n\u001b[0;32m    593\u001b[0m         \u001b[0mself\u001b[0m\u001b[1;33m,\u001b[0m \u001b[0mdtype\u001b[0m\u001b[1;33m,\u001b[0m \u001b[0mcopy\u001b[0m\u001b[1;33m:\u001b[0m \u001b[0mbool\u001b[0m \u001b[1;33m=\u001b[0m \u001b[1;32mFalse\u001b[0m\u001b[1;33m,\u001b[0m \u001b[0merrors\u001b[0m\u001b[1;33m:\u001b[0m \u001b[0mstr\u001b[0m \u001b[1;33m=\u001b[0m \u001b[1;34m\"raise\"\u001b[0m\u001b[1;33m\u001b[0m\u001b[1;33m\u001b[0m\u001b[0m\n\u001b[0;32m    594\u001b[0m     ) -> \"BlockManager\":\n\u001b[1;32m--> 595\u001b[1;33m         \u001b[1;32mreturn\u001b[0m \u001b[0mself\u001b[0m\u001b[1;33m.\u001b[0m\u001b[0mapply\u001b[0m\u001b[1;33m(\u001b[0m\u001b[1;34m\"astype\"\u001b[0m\u001b[1;33m,\u001b[0m \u001b[0mdtype\u001b[0m\u001b[1;33m=\u001b[0m\u001b[0mdtype\u001b[0m\u001b[1;33m,\u001b[0m \u001b[0mcopy\u001b[0m\u001b[1;33m=\u001b[0m\u001b[0mcopy\u001b[0m\u001b[1;33m,\u001b[0m \u001b[0merrors\u001b[0m\u001b[1;33m=\u001b[0m\u001b[0merrors\u001b[0m\u001b[1;33m)\u001b[0m\u001b[1;33m\u001b[0m\u001b[1;33m\u001b[0m\u001b[0m\n\u001b[0m\u001b[0;32m    596\u001b[0m \u001b[1;33m\u001b[0m\u001b[0m\n\u001b[0;32m    597\u001b[0m     def convert(\n",
      "\u001b[1;32m~\\Anaconda3\\lib\\site-packages\\pandas\\core\\internals\\managers.py\u001b[0m in \u001b[0;36mapply\u001b[1;34m(self, f, align_keys, **kwargs)\u001b[0m\n\u001b[0;32m    404\u001b[0m                 \u001b[0mapplied\u001b[0m \u001b[1;33m=\u001b[0m \u001b[0mb\u001b[0m\u001b[1;33m.\u001b[0m\u001b[0mapply\u001b[0m\u001b[1;33m(\u001b[0m\u001b[0mf\u001b[0m\u001b[1;33m,\u001b[0m \u001b[1;33m**\u001b[0m\u001b[0mkwargs\u001b[0m\u001b[1;33m)\u001b[0m\u001b[1;33m\u001b[0m\u001b[1;33m\u001b[0m\u001b[0m\n\u001b[0;32m    405\u001b[0m             \u001b[1;32melse\u001b[0m\u001b[1;33m:\u001b[0m\u001b[1;33m\u001b[0m\u001b[1;33m\u001b[0m\u001b[0m\n\u001b[1;32m--> 406\u001b[1;33m                 \u001b[0mapplied\u001b[0m \u001b[1;33m=\u001b[0m \u001b[0mgetattr\u001b[0m\u001b[1;33m(\u001b[0m\u001b[0mb\u001b[0m\u001b[1;33m,\u001b[0m \u001b[0mf\u001b[0m\u001b[1;33m)\u001b[0m\u001b[1;33m(\u001b[0m\u001b[1;33m**\u001b[0m\u001b[0mkwargs\u001b[0m\u001b[1;33m)\u001b[0m\u001b[1;33m\u001b[0m\u001b[1;33m\u001b[0m\u001b[0m\n\u001b[0m\u001b[0;32m    407\u001b[0m             \u001b[0mresult_blocks\u001b[0m \u001b[1;33m=\u001b[0m \u001b[0m_extend_blocks\u001b[0m\u001b[1;33m(\u001b[0m\u001b[0mapplied\u001b[0m\u001b[1;33m,\u001b[0m \u001b[0mresult_blocks\u001b[0m\u001b[1;33m)\u001b[0m\u001b[1;33m\u001b[0m\u001b[1;33m\u001b[0m\u001b[0m\n\u001b[0;32m    408\u001b[0m \u001b[1;33m\u001b[0m\u001b[0m\n",
      "\u001b[1;32m~\\Anaconda3\\lib\\site-packages\\pandas\\core\\internals\\blocks.py\u001b[0m in \u001b[0;36mastype\u001b[1;34m(self, dtype, copy, errors)\u001b[0m\n\u001b[0;32m    593\u001b[0m             \u001b[0mvals1d\u001b[0m \u001b[1;33m=\u001b[0m \u001b[0mvalues\u001b[0m\u001b[1;33m.\u001b[0m\u001b[0mravel\u001b[0m\u001b[1;33m(\u001b[0m\u001b[1;33m)\u001b[0m\u001b[1;33m\u001b[0m\u001b[1;33m\u001b[0m\u001b[0m\n\u001b[0;32m    594\u001b[0m             \u001b[1;32mtry\u001b[0m\u001b[1;33m:\u001b[0m\u001b[1;33m\u001b[0m\u001b[1;33m\u001b[0m\u001b[0m\n\u001b[1;32m--> 595\u001b[1;33m                 \u001b[0mvalues\u001b[0m \u001b[1;33m=\u001b[0m \u001b[0mastype_nansafe\u001b[0m\u001b[1;33m(\u001b[0m\u001b[0mvals1d\u001b[0m\u001b[1;33m,\u001b[0m \u001b[0mdtype\u001b[0m\u001b[1;33m,\u001b[0m \u001b[0mcopy\u001b[0m\u001b[1;33m=\u001b[0m\u001b[1;32mTrue\u001b[0m\u001b[1;33m)\u001b[0m\u001b[1;33m\u001b[0m\u001b[1;33m\u001b[0m\u001b[0m\n\u001b[0m\u001b[0;32m    596\u001b[0m             \u001b[1;32mexcept\u001b[0m \u001b[1;33m(\u001b[0m\u001b[0mValueError\u001b[0m\u001b[1;33m,\u001b[0m \u001b[0mTypeError\u001b[0m\u001b[1;33m)\u001b[0m\u001b[1;33m:\u001b[0m\u001b[1;33m\u001b[0m\u001b[1;33m\u001b[0m\u001b[0m\n\u001b[0;32m    597\u001b[0m                 \u001b[1;31m# e.g. astype_nansafe can fail on object-dtype of strings\u001b[0m\u001b[1;33m\u001b[0m\u001b[1;33m\u001b[0m\u001b[1;33m\u001b[0m\u001b[0m\n",
      "\u001b[1;32m~\\Anaconda3\\lib\\site-packages\\pandas\\core\\dtypes\\cast.py\u001b[0m in \u001b[0;36mastype_nansafe\u001b[1;34m(arr, dtype, copy, skipna)\u001b[0m\n\u001b[0;32m    995\u001b[0m     \u001b[1;32mif\u001b[0m \u001b[0mcopy\u001b[0m \u001b[1;32mor\u001b[0m \u001b[0mis_object_dtype\u001b[0m\u001b[1;33m(\u001b[0m\u001b[0marr\u001b[0m\u001b[1;33m)\u001b[0m \u001b[1;32mor\u001b[0m \u001b[0mis_object_dtype\u001b[0m\u001b[1;33m(\u001b[0m\u001b[0mdtype\u001b[0m\u001b[1;33m)\u001b[0m\u001b[1;33m:\u001b[0m\u001b[1;33m\u001b[0m\u001b[1;33m\u001b[0m\u001b[0m\n\u001b[0;32m    996\u001b[0m         \u001b[1;31m# Explicit copy, or required since NumPy can't view from / to object.\u001b[0m\u001b[1;33m\u001b[0m\u001b[1;33m\u001b[0m\u001b[1;33m\u001b[0m\u001b[0m\n\u001b[1;32m--> 997\u001b[1;33m         \u001b[1;32mreturn\u001b[0m \u001b[0marr\u001b[0m\u001b[1;33m.\u001b[0m\u001b[0mastype\u001b[0m\u001b[1;33m(\u001b[0m\u001b[0mdtype\u001b[0m\u001b[1;33m,\u001b[0m \u001b[0mcopy\u001b[0m\u001b[1;33m=\u001b[0m\u001b[1;32mTrue\u001b[0m\u001b[1;33m)\u001b[0m\u001b[1;33m\u001b[0m\u001b[1;33m\u001b[0m\u001b[0m\n\u001b[0m\u001b[0;32m    998\u001b[0m \u001b[1;33m\u001b[0m\u001b[0m\n\u001b[0;32m    999\u001b[0m     \u001b[1;32mreturn\u001b[0m \u001b[0marr\u001b[0m\u001b[1;33m.\u001b[0m\u001b[0mview\u001b[0m\u001b[1;33m(\u001b[0m\u001b[0mdtype\u001b[0m\u001b[1;33m)\u001b[0m\u001b[1;33m\u001b[0m\u001b[1;33m\u001b[0m\u001b[0m\n",
      "\u001b[1;31mValueError\u001b[0m: could not convert string to float: '297k'"
     ]
    }
   ],
   "source": [
    "df_clean.astype({'Size':'float'}).dtypes"
   ]
  },
  {
   "cell_type": "code",
   "execution_count": null,
   "metadata": {},
   "outputs": [],
   "source": []
  },
  {
   "cell_type": "code",
   "execution_count": 49,
   "metadata": {
    "id": "S3l5sBdhqZuh"
   },
   "outputs": [],
   "source": [
    "# 2개의 카테고리를 갖는 데이터는 replace를 사용하여 0,1로 변환 합니다.\n",
    "df_clean = df_clean.replace([True,False],[1,0])\n",
    "\n",
    "# object 자료형 데이터의 변수를 정리합니다.\n",
    "chr_features = ['Content Rating','Category']\n",
    "\n",
    "# 수치 자료형 데이터의 변수를 정리합니다.\n",
    "num_features=['Rating Count', 'Installs', 'Size', 'Free', 'Price', 'Last update since 2020', 'Ad Supported','In App Purchases', 'Editors Choice']\n",
    "\n",
    "# 더미를 기법을 사용하여 변환합니다.\n",
    "for variable in chr_features:\n",
    "    \n",
    "    # pandas의 더미 방식을 사용하여 object 자료형 데이터를 변환한 dataframe을 생성합니다.\n",
    "    dummies = pd.get_dummies(df_clean[chr_features])\n",
    "    # 기존 수치형 데이터에 더미로 새로 생성된 데이터를 추가합니다.\n",
    "    df_dummy= pd.concat([df_clean[num_features], dummies],axis=1)"
   ]
  },
  {
   "cell_type": "code",
   "execution_count": 50,
   "metadata": {
    "colab": {
     "base_uri": "https://localhost:8080/"
    },
    "executionInfo": {
     "elapsed": 425819,
     "status": "ok",
     "timestamp": 1606459829137,
     "user": {
      "displayName": "‍안상현[학생](경영대학 경영학과)",
      "photoUrl": "",
      "userId": "15732604784560776108"
     },
     "user_tz": -540
    },
    "id": "yYEDfvT2qZuh",
    "outputId": "88e79107-17cc-48d0-cccd-86260846042f"
   },
   "outputs": [
    {
     "data": {
      "text/plain": [
       "Index(['Rating Count', 'Installs', 'Size', 'Free', 'Price',\n",
       "       'Last update since 2020', 'Ad Supported', 'In App Purchases',\n",
       "       'Editors Choice', 'Content Rating_Adults only 18+',\n",
       "       'Content Rating_Everyone', 'Content Rating_Everyone 10+',\n",
       "       'Content Rating_Mature 17+', 'Content Rating_Teen',\n",
       "       'Content Rating_Unrated', 'Category_Action', 'Category_Adventure',\n",
       "       'Category_Arcade', 'Category_Art & Design', 'Category_Auto & Vehicles',\n",
       "       'Category_Beauty', 'Category_Board', 'Category_Books & Reference',\n",
       "       'Category_Business', 'Category_Card', 'Category_Casino',\n",
       "       'Category_Casual', 'Category_Comics', 'Category_Communication',\n",
       "       'Category_Dating', 'Category_Education', 'Category_Educational',\n",
       "       'Category_Entertainment', 'Category_Events', 'Category_Finance',\n",
       "       'Category_Food & Drink', 'Category_Health & Fitness',\n",
       "       'Category_House & Home', 'Category_Libraries & Demo',\n",
       "       'Category_Lifestyle', 'Category_Maps & Navigation', 'Category_Medical',\n",
       "       'Category_Music', 'Category_Music & Audio', 'Category_News & Magazines',\n",
       "       'Category_Parenting', 'Category_Personalization',\n",
       "       'Category_Photography', 'Category_Productivity', 'Category_Puzzle',\n",
       "       'Category_Racing', 'Category_Role Playing', 'Category_Shopping',\n",
       "       'Category_Simulation', 'Category_Social', 'Category_Sports',\n",
       "       'Category_Strategy', 'Category_Tools', 'Category_Travel & Local',\n",
       "       'Category_Trivia', 'Category_Video Players & Editors',\n",
       "       'Category_Weather', 'Category_Word'],\n",
       "      dtype='object')"
      ]
     },
     "execution_count": 50,
     "metadata": {},
     "output_type": "execute_result"
    }
   ],
   "source": [
    "df_dummy.columns"
   ]
  },
  {
   "cell_type": "code",
   "execution_count": 51,
   "metadata": {
    "colab": {
     "base_uri": "https://localhost:8080/"
    },
    "executionInfo": {
     "elapsed": 425806,
     "status": "ok",
     "timestamp": 1606459829138,
     "user": {
      "displayName": "‍안상현[학생](경영대학 경영학과)",
      "photoUrl": "",
      "userId": "15732604784560776108"
     },
     "user_tz": -540
    },
    "id": "uG6oD5ApqZuh",
    "outputId": "bbcedae5-f20b-489d-eca9-e81d11734816"
   },
   "outputs": [
    {
     "name": "stdout",
     "output_type": "stream",
     "text": [
      "(361777, 63)\n"
     ]
    }
   ],
   "source": [
    "# 더미로 구한 데이터를 numpy 형태로 머신러닝 입력값인 x에 저장합니다.\n",
    "x = df_dummy.to_numpy()\n",
    "print(np.shape(x))"
   ]
  },
  {
   "cell_type": "code",
   "execution_count": 52,
   "metadata": {
    "colab": {
     "base_uri": "https://localhost:8080/"
    },
    "executionInfo": {
     "elapsed": 425793,
     "status": "ok",
     "timestamp": 1606459829139,
     "user": {
      "displayName": "‍안상현[학생](경영대학 경영학과)",
      "photoUrl": "",
      "userId": "15732604784560776108"
     },
     "user_tz": -540
    },
    "id": "doyI3TL1qZuh",
    "outputId": "092f2891-1166-4e34-a517-40787c9c35f6"
   },
   "outputs": [
    {
     "name": "stdout",
     "output_type": "stream",
     "text": [
      "(361777,)\n"
     ]
    }
   ],
   "source": [
    "# 예측해야 할 변수 `Rating`만을 선택하여 numpy 형태로 y에 저장합니다.\n",
    "y = df_clean['Rating']\n",
    "#dimension check\n",
    "print(np.shape(y.to_numpy()))\n",
    "y = y.to_numpy()\n",
    "#y = y.to_numpy().ravel() # 1 차원 벡터 형태로 출력하기 위해 ravel 사용 => 이미 1차원이므로 딱히 필요 없음\n"
   ]
  },
  {
   "cell_type": "markdown",
   "metadata": {
    "id": "eLSxkEZCqZuh"
   },
   "source": [
    "### 4.2. 학습, 테스트 데이터 분리\n",
    "\n",
    "---\n",
    "\n"
   ]
  },
  {
   "cell_type": "markdown",
   "metadata": {
    "id": "e3xOdmgCqZuh"
   },
   "source": [
    "머신러닝의 성능을 평가 하기 위해서는 전체 데이터를 학습에 사용하지 않고 학습용 데이터와 테스트용 데이터를 나누어 사용합니다."
   ]
  },
  {
   "cell_type": "markdown",
   "metadata": {
    "id": "HBV9fo4RQJwX"
   },
   "source": [
    "<Train set과 Test set을 나누는 이유> \n",
    "\n",
    "우리는 새로운 데이터에 이 모델이 얼마나 잘 들어맞는지 알고 싶습니다. 그런데 가지고 있는 데이터를 모두 모델 만드는데 써버리면, 그 모델이 새로운 데이터에 얼마나 잘 들어맞는지 모르게 됩니다. 그래서 보유한 데이터에서 test set을 따로 떼어놓고 training set으로만 모델을 만든 다음, test set으로 새로운 데이터에 얼마나 잘 들어맞는지 확인합니다"
   ]
  },
  {
   "cell_type": "code",
   "execution_count": 53,
   "metadata": {
    "id": "2QWO95HdqZuh"
   },
   "outputs": [],
   "source": [
    "from sklearn.model_selection import train_test_split\n",
    "\n",
    "# sklearn에서 제공하는 train_test_split을 사용하여 손 쉽게 분리 할 수 있습니다.\n",
    "x_train, x_test, y_train, y_test = train_test_split(x, y, test_size = 0.3, random_state = 50)"
   ]
  },
  {
   "cell_type": "markdown",
   "metadata": {
    "id": "q3-vJpvYqZuh"
   },
   "source": [
    "### 4.3. 데이터 정규화"
   ]
  },
  {
   "cell_type": "markdown",
   "metadata": {
    "id": "N2ls8LFJ33xE"
   },
   "source": [
    "정규화 이유\n",
    "1. 정규화하지 않으면 스케일이 큰 변수가 영향을 크게 받아 다른 변수를 잡아먹는다 \n",
    "\n",
    "2. 단위가 모두 다르기 때문에 모든 변수를 같은 스케일로 맞춤\n",
    "\n",
    "a. min-max\n",
    "\n",
    "b. standardization → 표준정규분포로 만들기 \n"
   ]
  },
  {
   "cell_type": "markdown",
   "metadata": {
    "id": "-I3y1Qs_qZuh"
   },
   "source": [
    "각 변수 마다의 스케일 차이를 맞추기 위하여 정규화를 수행합니다."
   ]
  },
  {
   "cell_type": "code",
   "execution_count": 54,
   "metadata": {
    "id": "tF7ZZtPxqZuh"
   },
   "outputs": [
    {
     "ename": "ValueError",
     "evalue": "could not convert string to float: '593k'",
     "output_type": "error",
     "traceback": [
      "\u001b[1;31m---------------------------------------------------------------------------\u001b[0m",
      "\u001b[1;31mValueError\u001b[0m                                Traceback (most recent call last)",
      "\u001b[1;32m<ipython-input-54-70bee08e7114>\u001b[0m in \u001b[0;36m<module>\u001b[1;34m\u001b[0m\n\u001b[0;32m      5\u001b[0m \u001b[1;33m\u001b[0m\u001b[0m\n\u001b[0;32m      6\u001b[0m \u001b[1;31m# x_train에 있는 데이터에 맞춰 정규화를 진행\u001b[0m\u001b[1;33m\u001b[0m\u001b[1;33m\u001b[0m\u001b[1;33m\u001b[0m\u001b[0m\n\u001b[1;32m----> 7\u001b[1;33m \u001b[0mx_train\u001b[0m \u001b[1;33m=\u001b[0m \u001b[0msc\u001b[0m\u001b[1;33m.\u001b[0m\u001b[0mfit_transform\u001b[0m\u001b[1;33m(\u001b[0m\u001b[0mx_train\u001b[0m\u001b[1;33m)\u001b[0m\u001b[1;33m\u001b[0m\u001b[1;33m\u001b[0m\u001b[0m\n\u001b[0m\u001b[0;32m      8\u001b[0m \u001b[0mx_test\u001b[0m \u001b[1;33m=\u001b[0m \u001b[0msc\u001b[0m\u001b[1;33m.\u001b[0m\u001b[0mtransform\u001b[0m\u001b[1;33m(\u001b[0m\u001b[0mx_test\u001b[0m\u001b[1;33m)\u001b[0m\u001b[1;33m\u001b[0m\u001b[1;33m\u001b[0m\u001b[0m\n",
      "\u001b[1;32m~\\Anaconda3\\lib\\site-packages\\sklearn\\base.py\u001b[0m in \u001b[0;36mfit_transform\u001b[1;34m(self, X, y, **fit_params)\u001b[0m\n\u001b[0;32m    688\u001b[0m         \u001b[1;32mif\u001b[0m \u001b[0my\u001b[0m \u001b[1;32mis\u001b[0m \u001b[1;32mNone\u001b[0m\u001b[1;33m:\u001b[0m\u001b[1;33m\u001b[0m\u001b[1;33m\u001b[0m\u001b[0m\n\u001b[0;32m    689\u001b[0m             \u001b[1;31m# fit method of arity 1 (unsupervised transformation)\u001b[0m\u001b[1;33m\u001b[0m\u001b[1;33m\u001b[0m\u001b[1;33m\u001b[0m\u001b[0m\n\u001b[1;32m--> 690\u001b[1;33m             \u001b[1;32mreturn\u001b[0m \u001b[0mself\u001b[0m\u001b[1;33m.\u001b[0m\u001b[0mfit\u001b[0m\u001b[1;33m(\u001b[0m\u001b[0mX\u001b[0m\u001b[1;33m,\u001b[0m \u001b[1;33m**\u001b[0m\u001b[0mfit_params\u001b[0m\u001b[1;33m)\u001b[0m\u001b[1;33m.\u001b[0m\u001b[0mtransform\u001b[0m\u001b[1;33m(\u001b[0m\u001b[0mX\u001b[0m\u001b[1;33m)\u001b[0m\u001b[1;33m\u001b[0m\u001b[1;33m\u001b[0m\u001b[0m\n\u001b[0m\u001b[0;32m    691\u001b[0m         \u001b[1;32melse\u001b[0m\u001b[1;33m:\u001b[0m\u001b[1;33m\u001b[0m\u001b[1;33m\u001b[0m\u001b[0m\n\u001b[0;32m    692\u001b[0m             \u001b[1;31m# fit method of arity 2 (supervised transformation)\u001b[0m\u001b[1;33m\u001b[0m\u001b[1;33m\u001b[0m\u001b[1;33m\u001b[0m\u001b[0m\n",
      "\u001b[1;32m~\\Anaconda3\\lib\\site-packages\\sklearn\\preprocessing\\_data.py\u001b[0m in \u001b[0;36mfit\u001b[1;34m(self, X, y)\u001b[0m\n\u001b[0;32m    665\u001b[0m         \u001b[1;31m# Reset internal state before fitting\u001b[0m\u001b[1;33m\u001b[0m\u001b[1;33m\u001b[0m\u001b[1;33m\u001b[0m\u001b[0m\n\u001b[0;32m    666\u001b[0m         \u001b[0mself\u001b[0m\u001b[1;33m.\u001b[0m\u001b[0m_reset\u001b[0m\u001b[1;33m(\u001b[0m\u001b[1;33m)\u001b[0m\u001b[1;33m\u001b[0m\u001b[1;33m\u001b[0m\u001b[0m\n\u001b[1;32m--> 667\u001b[1;33m         \u001b[1;32mreturn\u001b[0m \u001b[0mself\u001b[0m\u001b[1;33m.\u001b[0m\u001b[0mpartial_fit\u001b[0m\u001b[1;33m(\u001b[0m\u001b[0mX\u001b[0m\u001b[1;33m,\u001b[0m \u001b[0my\u001b[0m\u001b[1;33m)\u001b[0m\u001b[1;33m\u001b[0m\u001b[1;33m\u001b[0m\u001b[0m\n\u001b[0m\u001b[0;32m    668\u001b[0m \u001b[1;33m\u001b[0m\u001b[0m\n\u001b[0;32m    669\u001b[0m     \u001b[1;32mdef\u001b[0m \u001b[0mpartial_fit\u001b[0m\u001b[1;33m(\u001b[0m\u001b[0mself\u001b[0m\u001b[1;33m,\u001b[0m \u001b[0mX\u001b[0m\u001b[1;33m,\u001b[0m \u001b[0my\u001b[0m\u001b[1;33m=\u001b[0m\u001b[1;32mNone\u001b[0m\u001b[1;33m)\u001b[0m\u001b[1;33m:\u001b[0m\u001b[1;33m\u001b[0m\u001b[1;33m\u001b[0m\u001b[0m\n",
      "\u001b[1;32m~\\Anaconda3\\lib\\site-packages\\sklearn\\preprocessing\\_data.py\u001b[0m in \u001b[0;36mpartial_fit\u001b[1;34m(self, X, y)\u001b[0m\n\u001b[0;32m    696\u001b[0m         X = self._validate_data(X, accept_sparse=('csr', 'csc'),\n\u001b[0;32m    697\u001b[0m                                 \u001b[0mestimator\u001b[0m\u001b[1;33m=\u001b[0m\u001b[0mself\u001b[0m\u001b[1;33m,\u001b[0m \u001b[0mdtype\u001b[0m\u001b[1;33m=\u001b[0m\u001b[0mFLOAT_DTYPES\u001b[0m\u001b[1;33m,\u001b[0m\u001b[1;33m\u001b[0m\u001b[1;33m\u001b[0m\u001b[0m\n\u001b[1;32m--> 698\u001b[1;33m                                 force_all_finite='allow-nan')\n\u001b[0m\u001b[0;32m    699\u001b[0m \u001b[1;33m\u001b[0m\u001b[0m\n\u001b[0;32m    700\u001b[0m         \u001b[1;31m# Even in the case of `with_mean=False`, we update the mean anyway\u001b[0m\u001b[1;33m\u001b[0m\u001b[1;33m\u001b[0m\u001b[1;33m\u001b[0m\u001b[0m\n",
      "\u001b[1;32m~\\Anaconda3\\lib\\site-packages\\sklearn\\base.py\u001b[0m in \u001b[0;36m_validate_data\u001b[1;34m(self, X, y, reset, validate_separately, **check_params)\u001b[0m\n\u001b[0;32m    418\u001b[0m                     \u001b[1;34mf\"requires y to be passed, but the target y is None.\"\u001b[0m\u001b[1;33m\u001b[0m\u001b[1;33m\u001b[0m\u001b[0m\n\u001b[0;32m    419\u001b[0m                 )\n\u001b[1;32m--> 420\u001b[1;33m             \u001b[0mX\u001b[0m \u001b[1;33m=\u001b[0m \u001b[0mcheck_array\u001b[0m\u001b[1;33m(\u001b[0m\u001b[0mX\u001b[0m\u001b[1;33m,\u001b[0m \u001b[1;33m**\u001b[0m\u001b[0mcheck_params\u001b[0m\u001b[1;33m)\u001b[0m\u001b[1;33m\u001b[0m\u001b[1;33m\u001b[0m\u001b[0m\n\u001b[0m\u001b[0;32m    421\u001b[0m             \u001b[0mout\u001b[0m \u001b[1;33m=\u001b[0m \u001b[0mX\u001b[0m\u001b[1;33m\u001b[0m\u001b[1;33m\u001b[0m\u001b[0m\n\u001b[0;32m    422\u001b[0m         \u001b[1;32melse\u001b[0m\u001b[1;33m:\u001b[0m\u001b[1;33m\u001b[0m\u001b[1;33m\u001b[0m\u001b[0m\n",
      "\u001b[1;32m~\\Anaconda3\\lib\\site-packages\\sklearn\\utils\\validation.py\u001b[0m in \u001b[0;36minner_f\u001b[1;34m(*args, **kwargs)\u001b[0m\n\u001b[0;32m     70\u001b[0m                           FutureWarning)\n\u001b[0;32m     71\u001b[0m         \u001b[0mkwargs\u001b[0m\u001b[1;33m.\u001b[0m\u001b[0mupdate\u001b[0m\u001b[1;33m(\u001b[0m\u001b[1;33m{\u001b[0m\u001b[0mk\u001b[0m\u001b[1;33m:\u001b[0m \u001b[0marg\u001b[0m \u001b[1;32mfor\u001b[0m \u001b[0mk\u001b[0m\u001b[1;33m,\u001b[0m \u001b[0marg\u001b[0m \u001b[1;32min\u001b[0m \u001b[0mzip\u001b[0m\u001b[1;33m(\u001b[0m\u001b[0msig\u001b[0m\u001b[1;33m.\u001b[0m\u001b[0mparameters\u001b[0m\u001b[1;33m,\u001b[0m \u001b[0margs\u001b[0m\u001b[1;33m)\u001b[0m\u001b[1;33m}\u001b[0m\u001b[1;33m)\u001b[0m\u001b[1;33m\u001b[0m\u001b[1;33m\u001b[0m\u001b[0m\n\u001b[1;32m---> 72\u001b[1;33m         \u001b[1;32mreturn\u001b[0m \u001b[0mf\u001b[0m\u001b[1;33m(\u001b[0m\u001b[1;33m**\u001b[0m\u001b[0mkwargs\u001b[0m\u001b[1;33m)\u001b[0m\u001b[1;33m\u001b[0m\u001b[1;33m\u001b[0m\u001b[0m\n\u001b[0m\u001b[0;32m     73\u001b[0m     \u001b[1;32mreturn\u001b[0m \u001b[0minner_f\u001b[0m\u001b[1;33m\u001b[0m\u001b[1;33m\u001b[0m\u001b[0m\n\u001b[0;32m     74\u001b[0m \u001b[1;33m\u001b[0m\u001b[0m\n",
      "\u001b[1;32m~\\Anaconda3\\lib\\site-packages\\sklearn\\utils\\validation.py\u001b[0m in \u001b[0;36mcheck_array\u001b[1;34m(array, accept_sparse, accept_large_sparse, dtype, order, copy, force_all_finite, ensure_2d, allow_nd, ensure_min_samples, ensure_min_features, estimator)\u001b[0m\n\u001b[0;32m    596\u001b[0m                     \u001b[0marray\u001b[0m \u001b[1;33m=\u001b[0m \u001b[0marray\u001b[0m\u001b[1;33m.\u001b[0m\u001b[0mastype\u001b[0m\u001b[1;33m(\u001b[0m\u001b[0mdtype\u001b[0m\u001b[1;33m,\u001b[0m \u001b[0mcasting\u001b[0m\u001b[1;33m=\u001b[0m\u001b[1;34m\"unsafe\"\u001b[0m\u001b[1;33m,\u001b[0m \u001b[0mcopy\u001b[0m\u001b[1;33m=\u001b[0m\u001b[1;32mFalse\u001b[0m\u001b[1;33m)\u001b[0m\u001b[1;33m\u001b[0m\u001b[1;33m\u001b[0m\u001b[0m\n\u001b[0;32m    597\u001b[0m                 \u001b[1;32melse\u001b[0m\u001b[1;33m:\u001b[0m\u001b[1;33m\u001b[0m\u001b[1;33m\u001b[0m\u001b[0m\n\u001b[1;32m--> 598\u001b[1;33m                     \u001b[0marray\u001b[0m \u001b[1;33m=\u001b[0m \u001b[0mnp\u001b[0m\u001b[1;33m.\u001b[0m\u001b[0masarray\u001b[0m\u001b[1;33m(\u001b[0m\u001b[0marray\u001b[0m\u001b[1;33m,\u001b[0m \u001b[0morder\u001b[0m\u001b[1;33m=\u001b[0m\u001b[0morder\u001b[0m\u001b[1;33m,\u001b[0m \u001b[0mdtype\u001b[0m\u001b[1;33m=\u001b[0m\u001b[0mdtype\u001b[0m\u001b[1;33m)\u001b[0m\u001b[1;33m\u001b[0m\u001b[1;33m\u001b[0m\u001b[0m\n\u001b[0m\u001b[0;32m    599\u001b[0m             \u001b[1;32mexcept\u001b[0m \u001b[0mComplexWarning\u001b[0m\u001b[1;33m:\u001b[0m\u001b[1;33m\u001b[0m\u001b[1;33m\u001b[0m\u001b[0m\n\u001b[0;32m    600\u001b[0m                 raise ValueError(\"Complex data not supported\\n\"\n",
      "\u001b[1;32m~\\Anaconda3\\lib\\site-packages\\numpy\\core\\_asarray.py\u001b[0m in \u001b[0;36masarray\u001b[1;34m(a, dtype, order)\u001b[0m\n\u001b[0;32m     81\u001b[0m \u001b[1;33m\u001b[0m\u001b[0m\n\u001b[0;32m     82\u001b[0m     \"\"\"\n\u001b[1;32m---> 83\u001b[1;33m     \u001b[1;32mreturn\u001b[0m \u001b[0marray\u001b[0m\u001b[1;33m(\u001b[0m\u001b[0ma\u001b[0m\u001b[1;33m,\u001b[0m \u001b[0mdtype\u001b[0m\u001b[1;33m,\u001b[0m \u001b[0mcopy\u001b[0m\u001b[1;33m=\u001b[0m\u001b[1;32mFalse\u001b[0m\u001b[1;33m,\u001b[0m \u001b[0morder\u001b[0m\u001b[1;33m=\u001b[0m\u001b[0morder\u001b[0m\u001b[1;33m)\u001b[0m\u001b[1;33m\u001b[0m\u001b[1;33m\u001b[0m\u001b[0m\n\u001b[0m\u001b[0;32m     84\u001b[0m \u001b[1;33m\u001b[0m\u001b[0m\n\u001b[0;32m     85\u001b[0m \u001b[1;33m\u001b[0m\u001b[0m\n",
      "\u001b[1;31mValueError\u001b[0m: could not convert string to float: '593k'"
     ]
    }
   ],
   "source": [
    "from sklearn.preprocessing import StandardScaler #사이킷런\n",
    "\n",
    "# 정규화를 위해서 StandardScaler 불러오기\n",
    "sc = StandardScaler()\n",
    "\n",
    "# x_train에 있는 데이터에 맞춰 정규화를 진행\n",
    "x_train = sc.fit_transform(x_train)\n",
    "x_test = sc.transform(x_test)"
   ]
  },
  {
   "cell_type": "markdown",
   "metadata": {
    "id": "VdJ1cuuXqZuh"
   },
   "source": [
    " "
   ]
  },
  {
   "cell_type": "markdown",
   "metadata": {
    "id": "kg2kCdcBqZuh"
   },
   "source": [
    "## 5. 머신러닝 모델 수행\n",
    "\n",
    "> 머신러닝 모델의 경우에는 단순 선형 회귀, 다항 회귀, 트리모델 간의 장단점을 위주로 설명해주셨으면 좋겠습니다. 각 모델의 원리와 파라미터와 특징에 대해서 설명하게 되면 너무나 많은 힘이 들기에 간단하게 sklearn에서의 사용법과 평가 방식에 힘을 들여 설명해주시면 좋을 거 같습니다.\n",
    "\n",
    "> 평가 방식으로는 RMSE와 R2를 사용하기에 이에 대한 설명을 꼭 해주셨으면 좋겠습니다."
   ]
  },
  {
   "cell_type": "markdown",
   "metadata": {
    "id": "xOLf4-E6tR_-"
   },
   "source": [
    "> 평가방법: \n",
    "> RMSE(Root Mean Square Error, 평균 제곱근 오차)\n",
    "\n",
    "![128958_2016-06-23 13_45_36-Root Mean Squared Error _ Kaggle.png](data:image/png;base64,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)"
   ]
  },
  {
   "cell_type": "markdown",
   "metadata": {
    "id": "QnIrIpWIqZuh"
   },
   "source": [
    "전처리된 데이터를 바탕으로 회귀 모델을 학습을 수행하고 학습 결과를 출력 해봅니다.\n",
    "\n",
    "먼저 기본적인 회귀 모델인 **단순 선형 회귀(Simple linear regression)**를 사용하여 학습을 수행하고, 다양한 모델들을 살펴봅시다."
   ]
  },
  {
   "cell_type": "markdown",
   "metadata": {
    "id": "MerLaeGGqZui"
   },
   "source": [
    "### 5.1. 단순 선형 회귀"
   ]
  },
  {
   "cell_type": "markdown",
   "metadata": {
    "id": "S6Rx2mLus72v"
   },
   "source": [
    "회귀(Regression) 라는 개념은 "
   ]
  },
  {
   "cell_type": "markdown",
   "metadata": {
    "id": "8BSRgpQXqZui"
   },
   "source": [
    "#### 5.1.1. 학습"
   ]
  },
  {
   "cell_type": "code",
   "execution_count": 56,
   "metadata": {
    "colab": {
     "base_uri": "https://localhost:8080/"
    },
    "executionInfo": {
     "elapsed": 426098,
     "status": "ok",
     "timestamp": 1606459829465,
     "user": {
      "displayName": "‍안상현[학생](경영대학 경영학과)",
      "photoUrl": "",
      "userId": "15732604784560776108"
     },
     "user_tz": -540
    },
    "id": "PaSsbuBmqZui",
    "outputId": "c6d71852-8e47-4f27-956c-3c9495ce7265"
   },
   "outputs": [
    {
     "ename": "ValueError",
     "evalue": "could not convert string to float: '593k'",
     "output_type": "error",
     "traceback": [
      "\u001b[1;31m---------------------------------------------------------------------------\u001b[0m",
      "\u001b[1;31mValueError\u001b[0m                                Traceback (most recent call last)",
      "\u001b[1;32m<ipython-input-56-a5cb8d0066bc>\u001b[0m in \u001b[0;36m<module>\u001b[1;34m\u001b[0m\n\u001b[0;32m      5\u001b[0m \u001b[1;33m\u001b[0m\u001b[0m\n\u001b[0;32m      6\u001b[0m \u001b[1;31m# fit 함수를 사용하여 학습을 수행합니다.\u001b[0m\u001b[1;33m\u001b[0m\u001b[1;33m\u001b[0m\u001b[1;33m\u001b[0m\u001b[0m\n\u001b[1;32m----> 7\u001b[1;33m \u001b[0mmodel\u001b[0m\u001b[1;33m.\u001b[0m\u001b[0mfit\u001b[0m\u001b[1;33m(\u001b[0m\u001b[0mx_train\u001b[0m\u001b[1;33m,\u001b[0m \u001b[0my_train\u001b[0m\u001b[1;33m)\u001b[0m\u001b[1;33m\u001b[0m\u001b[1;33m\u001b[0m\u001b[0m\n\u001b[0m",
      "\u001b[1;32m~\\Anaconda3\\lib\\site-packages\\sklearn\\linear_model\\_base.py\u001b[0m in \u001b[0;36mfit\u001b[1;34m(self, X, y, sample_weight)\u001b[0m\n\u001b[0;32m    504\u001b[0m         \u001b[0mn_jobs_\u001b[0m \u001b[1;33m=\u001b[0m \u001b[0mself\u001b[0m\u001b[1;33m.\u001b[0m\u001b[0mn_jobs\u001b[0m\u001b[1;33m\u001b[0m\u001b[1;33m\u001b[0m\u001b[0m\n\u001b[0;32m    505\u001b[0m         X, y = self._validate_data(X, y, accept_sparse=['csr', 'csc', 'coo'],\n\u001b[1;32m--> 506\u001b[1;33m                                    y_numeric=True, multi_output=True)\n\u001b[0m\u001b[0;32m    507\u001b[0m \u001b[1;33m\u001b[0m\u001b[0m\n\u001b[0;32m    508\u001b[0m         \u001b[1;32mif\u001b[0m \u001b[0msample_weight\u001b[0m \u001b[1;32mis\u001b[0m \u001b[1;32mnot\u001b[0m \u001b[1;32mNone\u001b[0m\u001b[1;33m:\u001b[0m\u001b[1;33m\u001b[0m\u001b[1;33m\u001b[0m\u001b[0m\n",
      "\u001b[1;32m~\\Anaconda3\\lib\\site-packages\\sklearn\\base.py\u001b[0m in \u001b[0;36m_validate_data\u001b[1;34m(self, X, y, reset, validate_separately, **check_params)\u001b[0m\n\u001b[0;32m    430\u001b[0m                 \u001b[0my\u001b[0m \u001b[1;33m=\u001b[0m \u001b[0mcheck_array\u001b[0m\u001b[1;33m(\u001b[0m\u001b[0my\u001b[0m\u001b[1;33m,\u001b[0m \u001b[1;33m**\u001b[0m\u001b[0mcheck_y_params\u001b[0m\u001b[1;33m)\u001b[0m\u001b[1;33m\u001b[0m\u001b[1;33m\u001b[0m\u001b[0m\n\u001b[0;32m    431\u001b[0m             \u001b[1;32melse\u001b[0m\u001b[1;33m:\u001b[0m\u001b[1;33m\u001b[0m\u001b[1;33m\u001b[0m\u001b[0m\n\u001b[1;32m--> 432\u001b[1;33m                 \u001b[0mX\u001b[0m\u001b[1;33m,\u001b[0m \u001b[0my\u001b[0m \u001b[1;33m=\u001b[0m \u001b[0mcheck_X_y\u001b[0m\u001b[1;33m(\u001b[0m\u001b[0mX\u001b[0m\u001b[1;33m,\u001b[0m \u001b[0my\u001b[0m\u001b[1;33m,\u001b[0m \u001b[1;33m**\u001b[0m\u001b[0mcheck_params\u001b[0m\u001b[1;33m)\u001b[0m\u001b[1;33m\u001b[0m\u001b[1;33m\u001b[0m\u001b[0m\n\u001b[0m\u001b[0;32m    433\u001b[0m             \u001b[0mout\u001b[0m \u001b[1;33m=\u001b[0m \u001b[0mX\u001b[0m\u001b[1;33m,\u001b[0m \u001b[0my\u001b[0m\u001b[1;33m\u001b[0m\u001b[1;33m\u001b[0m\u001b[0m\n\u001b[0;32m    434\u001b[0m \u001b[1;33m\u001b[0m\u001b[0m\n",
      "\u001b[1;32m~\\Anaconda3\\lib\\site-packages\\sklearn\\utils\\validation.py\u001b[0m in \u001b[0;36minner_f\u001b[1;34m(*args, **kwargs)\u001b[0m\n\u001b[0;32m     70\u001b[0m                           FutureWarning)\n\u001b[0;32m     71\u001b[0m         \u001b[0mkwargs\u001b[0m\u001b[1;33m.\u001b[0m\u001b[0mupdate\u001b[0m\u001b[1;33m(\u001b[0m\u001b[1;33m{\u001b[0m\u001b[0mk\u001b[0m\u001b[1;33m:\u001b[0m \u001b[0marg\u001b[0m \u001b[1;32mfor\u001b[0m \u001b[0mk\u001b[0m\u001b[1;33m,\u001b[0m \u001b[0marg\u001b[0m \u001b[1;32min\u001b[0m \u001b[0mzip\u001b[0m\u001b[1;33m(\u001b[0m\u001b[0msig\u001b[0m\u001b[1;33m.\u001b[0m\u001b[0mparameters\u001b[0m\u001b[1;33m,\u001b[0m \u001b[0margs\u001b[0m\u001b[1;33m)\u001b[0m\u001b[1;33m}\u001b[0m\u001b[1;33m)\u001b[0m\u001b[1;33m\u001b[0m\u001b[1;33m\u001b[0m\u001b[0m\n\u001b[1;32m---> 72\u001b[1;33m         \u001b[1;32mreturn\u001b[0m \u001b[0mf\u001b[0m\u001b[1;33m(\u001b[0m\u001b[1;33m**\u001b[0m\u001b[0mkwargs\u001b[0m\u001b[1;33m)\u001b[0m\u001b[1;33m\u001b[0m\u001b[1;33m\u001b[0m\u001b[0m\n\u001b[0m\u001b[0;32m     73\u001b[0m     \u001b[1;32mreturn\u001b[0m \u001b[0minner_f\u001b[0m\u001b[1;33m\u001b[0m\u001b[1;33m\u001b[0m\u001b[0m\n\u001b[0;32m     74\u001b[0m \u001b[1;33m\u001b[0m\u001b[0m\n",
      "\u001b[1;32m~\\Anaconda3\\lib\\site-packages\\sklearn\\utils\\validation.py\u001b[0m in \u001b[0;36mcheck_X_y\u001b[1;34m(X, y, accept_sparse, accept_large_sparse, dtype, order, copy, force_all_finite, ensure_2d, allow_nd, multi_output, ensure_min_samples, ensure_min_features, y_numeric, estimator)\u001b[0m\n\u001b[0;32m    800\u001b[0m                     \u001b[0mensure_min_samples\u001b[0m\u001b[1;33m=\u001b[0m\u001b[0mensure_min_samples\u001b[0m\u001b[1;33m,\u001b[0m\u001b[1;33m\u001b[0m\u001b[1;33m\u001b[0m\u001b[0m\n\u001b[0;32m    801\u001b[0m                     \u001b[0mensure_min_features\u001b[0m\u001b[1;33m=\u001b[0m\u001b[0mensure_min_features\u001b[0m\u001b[1;33m,\u001b[0m\u001b[1;33m\u001b[0m\u001b[1;33m\u001b[0m\u001b[0m\n\u001b[1;32m--> 802\u001b[1;33m                     estimator=estimator)\n\u001b[0m\u001b[0;32m    803\u001b[0m     \u001b[1;32mif\u001b[0m \u001b[0mmulti_output\u001b[0m\u001b[1;33m:\u001b[0m\u001b[1;33m\u001b[0m\u001b[1;33m\u001b[0m\u001b[0m\n\u001b[0;32m    804\u001b[0m         y = check_array(y, accept_sparse='csr', force_all_finite=True,\n",
      "\u001b[1;32m~\\Anaconda3\\lib\\site-packages\\sklearn\\utils\\validation.py\u001b[0m in \u001b[0;36minner_f\u001b[1;34m(*args, **kwargs)\u001b[0m\n\u001b[0;32m     70\u001b[0m                           FutureWarning)\n\u001b[0;32m     71\u001b[0m         \u001b[0mkwargs\u001b[0m\u001b[1;33m.\u001b[0m\u001b[0mupdate\u001b[0m\u001b[1;33m(\u001b[0m\u001b[1;33m{\u001b[0m\u001b[0mk\u001b[0m\u001b[1;33m:\u001b[0m \u001b[0marg\u001b[0m \u001b[1;32mfor\u001b[0m \u001b[0mk\u001b[0m\u001b[1;33m,\u001b[0m \u001b[0marg\u001b[0m \u001b[1;32min\u001b[0m \u001b[0mzip\u001b[0m\u001b[1;33m(\u001b[0m\u001b[0msig\u001b[0m\u001b[1;33m.\u001b[0m\u001b[0mparameters\u001b[0m\u001b[1;33m,\u001b[0m \u001b[0margs\u001b[0m\u001b[1;33m)\u001b[0m\u001b[1;33m}\u001b[0m\u001b[1;33m)\u001b[0m\u001b[1;33m\u001b[0m\u001b[1;33m\u001b[0m\u001b[0m\n\u001b[1;32m---> 72\u001b[1;33m         \u001b[1;32mreturn\u001b[0m \u001b[0mf\u001b[0m\u001b[1;33m(\u001b[0m\u001b[1;33m**\u001b[0m\u001b[0mkwargs\u001b[0m\u001b[1;33m)\u001b[0m\u001b[1;33m\u001b[0m\u001b[1;33m\u001b[0m\u001b[0m\n\u001b[0m\u001b[0;32m     73\u001b[0m     \u001b[1;32mreturn\u001b[0m \u001b[0minner_f\u001b[0m\u001b[1;33m\u001b[0m\u001b[1;33m\u001b[0m\u001b[0m\n\u001b[0;32m     74\u001b[0m \u001b[1;33m\u001b[0m\u001b[0m\n",
      "\u001b[1;32m~\\Anaconda3\\lib\\site-packages\\sklearn\\utils\\validation.py\u001b[0m in \u001b[0;36mcheck_array\u001b[1;34m(array, accept_sparse, accept_large_sparse, dtype, order, copy, force_all_finite, ensure_2d, allow_nd, ensure_min_samples, ensure_min_features, estimator)\u001b[0m\n\u001b[0;32m    596\u001b[0m                     \u001b[0marray\u001b[0m \u001b[1;33m=\u001b[0m \u001b[0marray\u001b[0m\u001b[1;33m.\u001b[0m\u001b[0mastype\u001b[0m\u001b[1;33m(\u001b[0m\u001b[0mdtype\u001b[0m\u001b[1;33m,\u001b[0m \u001b[0mcasting\u001b[0m\u001b[1;33m=\u001b[0m\u001b[1;34m\"unsafe\"\u001b[0m\u001b[1;33m,\u001b[0m \u001b[0mcopy\u001b[0m\u001b[1;33m=\u001b[0m\u001b[1;32mFalse\u001b[0m\u001b[1;33m)\u001b[0m\u001b[1;33m\u001b[0m\u001b[1;33m\u001b[0m\u001b[0m\n\u001b[0;32m    597\u001b[0m                 \u001b[1;32melse\u001b[0m\u001b[1;33m:\u001b[0m\u001b[1;33m\u001b[0m\u001b[1;33m\u001b[0m\u001b[0m\n\u001b[1;32m--> 598\u001b[1;33m                     \u001b[0marray\u001b[0m \u001b[1;33m=\u001b[0m \u001b[0mnp\u001b[0m\u001b[1;33m.\u001b[0m\u001b[0masarray\u001b[0m\u001b[1;33m(\u001b[0m\u001b[0marray\u001b[0m\u001b[1;33m,\u001b[0m \u001b[0morder\u001b[0m\u001b[1;33m=\u001b[0m\u001b[0morder\u001b[0m\u001b[1;33m,\u001b[0m \u001b[0mdtype\u001b[0m\u001b[1;33m=\u001b[0m\u001b[0mdtype\u001b[0m\u001b[1;33m)\u001b[0m\u001b[1;33m\u001b[0m\u001b[1;33m\u001b[0m\u001b[0m\n\u001b[0m\u001b[0;32m    599\u001b[0m             \u001b[1;32mexcept\u001b[0m \u001b[0mComplexWarning\u001b[0m\u001b[1;33m:\u001b[0m\u001b[1;33m\u001b[0m\u001b[1;33m\u001b[0m\u001b[0m\n\u001b[0;32m    600\u001b[0m                 raise ValueError(\"Complex data not supported\\n\"\n",
      "\u001b[1;32m~\\Anaconda3\\lib\\site-packages\\numpy\\core\\_asarray.py\u001b[0m in \u001b[0;36masarray\u001b[1;34m(a, dtype, order)\u001b[0m\n\u001b[0;32m     81\u001b[0m \u001b[1;33m\u001b[0m\u001b[0m\n\u001b[0;32m     82\u001b[0m     \"\"\"\n\u001b[1;32m---> 83\u001b[1;33m     \u001b[1;32mreturn\u001b[0m \u001b[0marray\u001b[0m\u001b[1;33m(\u001b[0m\u001b[0ma\u001b[0m\u001b[1;33m,\u001b[0m \u001b[0mdtype\u001b[0m\u001b[1;33m,\u001b[0m \u001b[0mcopy\u001b[0m\u001b[1;33m=\u001b[0m\u001b[1;32mFalse\u001b[0m\u001b[1;33m,\u001b[0m \u001b[0morder\u001b[0m\u001b[1;33m=\u001b[0m\u001b[0morder\u001b[0m\u001b[1;33m)\u001b[0m\u001b[1;33m\u001b[0m\u001b[1;33m\u001b[0m\u001b[0m\n\u001b[0m\u001b[0;32m     84\u001b[0m \u001b[1;33m\u001b[0m\u001b[0m\n\u001b[0;32m     85\u001b[0m \u001b[1;33m\u001b[0m\u001b[0m\n",
      "\u001b[1;31mValueError\u001b[0m: could not convert string to float: '593k'"
     ]
    }
   ],
   "source": [
    "from sklearn.linear_model import LinearRegression\n",
    "\n",
    "# 선형 회귀 모델 class를 불러옵니다.\n",
    "model = LinearRegression()\n",
    "\n",
    "# fit 함수를 사용하여 학습을 수행합니다.\n",
    "model.fit(x_train, y_train)"
   ]
  },
  {
   "cell_type": "markdown",
   "metadata": {
    "id": "dF_oxCloqZui"
   },
   "source": [
    "#### 5.1.2. 평가"
   ]
  },
  {
   "cell_type": "markdown",
   "metadata": {
    "id": "wZB0Unf86ucK"
   },
   "source": [
    "회귀분석에서는 결정계수(R^2)라는 평가 방법도 추가로 활용합니다.\n",
    "결정계수란, 해당 모델이 데이터를 얼마나 잘 설명하는지를 나타냅니다.\n"
   ]
  },
  {
   "cell_type": "code",
   "execution_count": 57,
   "metadata": {
    "colab": {
     "base_uri": "https://localhost:8080/"
    },
    "executionInfo": {
     "elapsed": 426085,
     "status": "ok",
     "timestamp": 1606459829466,
     "user": {
      "displayName": "‍안상현[학생](경영대학 경영학과)",
      "photoUrl": "",
      "userId": "15732604784560776108"
     },
     "user_tz": -540
    },
    "id": "hmaAMR94qZui",
    "outputId": "65a249d1-25fc-4de0-a9ae-37187aae2f4c"
   },
   "outputs": [
    {
     "ename": "NotFittedError",
     "evalue": "This LinearRegression instance is not fitted yet. Call 'fit' with appropriate arguments before using this estimator.",
     "output_type": "error",
     "traceback": [
      "\u001b[1;31m---------------------------------------------------------------------------\u001b[0m",
      "\u001b[1;31mNotFittedError\u001b[0m                            Traceback (most recent call last)",
      "\u001b[1;32m<ipython-input-57-e572fca5f605>\u001b[0m in \u001b[0;36m<module>\u001b[1;34m\u001b[0m\n\u001b[0;32m      2\u001b[0m \u001b[1;33m\u001b[0m\u001b[0m\n\u001b[0;32m      3\u001b[0m \u001b[1;31m# 학습 데이터의 예측값을 저장합니다.\u001b[0m\u001b[1;33m\u001b[0m\u001b[1;33m\u001b[0m\u001b[1;33m\u001b[0m\u001b[0m\n\u001b[1;32m----> 4\u001b[1;33m \u001b[0mpred_train\u001b[0m \u001b[1;33m=\u001b[0m \u001b[0mmodel\u001b[0m\u001b[1;33m.\u001b[0m\u001b[0mpredict\u001b[0m\u001b[1;33m(\u001b[0m\u001b[0mx_train\u001b[0m\u001b[1;33m)\u001b[0m\u001b[1;33m\u001b[0m\u001b[1;33m\u001b[0m\u001b[0m\n\u001b[0m\u001b[0;32m      5\u001b[0m \u001b[1;33m\u001b[0m\u001b[0m\n\u001b[0;32m      6\u001b[0m \u001b[1;31m# 학습 데이터의 성능을 저장합니다.\u001b[0m\u001b[1;33m\u001b[0m\u001b[1;33m\u001b[0m\u001b[1;33m\u001b[0m\u001b[0m\n",
      "\u001b[1;32m~\\Anaconda3\\lib\\site-packages\\sklearn\\linear_model\\_base.py\u001b[0m in \u001b[0;36mpredict\u001b[1;34m(self, X)\u001b[0m\n\u001b[0;32m    234\u001b[0m             \u001b[0mReturns\u001b[0m \u001b[0mpredicted\u001b[0m \u001b[0mvalues\u001b[0m\u001b[1;33m.\u001b[0m\u001b[1;33m\u001b[0m\u001b[1;33m\u001b[0m\u001b[0m\n\u001b[0;32m    235\u001b[0m         \"\"\"\n\u001b[1;32m--> 236\u001b[1;33m         \u001b[1;32mreturn\u001b[0m \u001b[0mself\u001b[0m\u001b[1;33m.\u001b[0m\u001b[0m_decision_function\u001b[0m\u001b[1;33m(\u001b[0m\u001b[0mX\u001b[0m\u001b[1;33m)\u001b[0m\u001b[1;33m\u001b[0m\u001b[1;33m\u001b[0m\u001b[0m\n\u001b[0m\u001b[0;32m    237\u001b[0m \u001b[1;33m\u001b[0m\u001b[0m\n\u001b[0;32m    238\u001b[0m     \u001b[0m_preprocess_data\u001b[0m \u001b[1;33m=\u001b[0m \u001b[0mstaticmethod\u001b[0m\u001b[1;33m(\u001b[0m\u001b[0m_preprocess_data\u001b[0m\u001b[1;33m)\u001b[0m\u001b[1;33m\u001b[0m\u001b[1;33m\u001b[0m\u001b[0m\n",
      "\u001b[1;32m~\\Anaconda3\\lib\\site-packages\\sklearn\\linear_model\\_base.py\u001b[0m in \u001b[0;36m_decision_function\u001b[1;34m(self, X)\u001b[0m\n\u001b[0;32m    214\u001b[0m \u001b[1;33m\u001b[0m\u001b[0m\n\u001b[0;32m    215\u001b[0m     \u001b[1;32mdef\u001b[0m \u001b[0m_decision_function\u001b[0m\u001b[1;33m(\u001b[0m\u001b[0mself\u001b[0m\u001b[1;33m,\u001b[0m \u001b[0mX\u001b[0m\u001b[1;33m)\u001b[0m\u001b[1;33m:\u001b[0m\u001b[1;33m\u001b[0m\u001b[1;33m\u001b[0m\u001b[0m\n\u001b[1;32m--> 216\u001b[1;33m         \u001b[0mcheck_is_fitted\u001b[0m\u001b[1;33m(\u001b[0m\u001b[0mself\u001b[0m\u001b[1;33m)\u001b[0m\u001b[1;33m\u001b[0m\u001b[1;33m\u001b[0m\u001b[0m\n\u001b[0m\u001b[0;32m    217\u001b[0m \u001b[1;33m\u001b[0m\u001b[0m\n\u001b[0;32m    218\u001b[0m         \u001b[0mX\u001b[0m \u001b[1;33m=\u001b[0m \u001b[0mcheck_array\u001b[0m\u001b[1;33m(\u001b[0m\u001b[0mX\u001b[0m\u001b[1;33m,\u001b[0m \u001b[0maccept_sparse\u001b[0m\u001b[1;33m=\u001b[0m\u001b[1;33m[\u001b[0m\u001b[1;34m'csr'\u001b[0m\u001b[1;33m,\u001b[0m \u001b[1;34m'csc'\u001b[0m\u001b[1;33m,\u001b[0m \u001b[1;34m'coo'\u001b[0m\u001b[1;33m]\u001b[0m\u001b[1;33m)\u001b[0m\u001b[1;33m\u001b[0m\u001b[1;33m\u001b[0m\u001b[0m\n",
      "\u001b[1;32m~\\Anaconda3\\lib\\site-packages\\sklearn\\utils\\validation.py\u001b[0m in \u001b[0;36minner_f\u001b[1;34m(*args, **kwargs)\u001b[0m\n\u001b[0;32m     70\u001b[0m                           FutureWarning)\n\u001b[0;32m     71\u001b[0m         \u001b[0mkwargs\u001b[0m\u001b[1;33m.\u001b[0m\u001b[0mupdate\u001b[0m\u001b[1;33m(\u001b[0m\u001b[1;33m{\u001b[0m\u001b[0mk\u001b[0m\u001b[1;33m:\u001b[0m \u001b[0marg\u001b[0m \u001b[1;32mfor\u001b[0m \u001b[0mk\u001b[0m\u001b[1;33m,\u001b[0m \u001b[0marg\u001b[0m \u001b[1;32min\u001b[0m \u001b[0mzip\u001b[0m\u001b[1;33m(\u001b[0m\u001b[0msig\u001b[0m\u001b[1;33m.\u001b[0m\u001b[0mparameters\u001b[0m\u001b[1;33m,\u001b[0m \u001b[0margs\u001b[0m\u001b[1;33m)\u001b[0m\u001b[1;33m}\u001b[0m\u001b[1;33m)\u001b[0m\u001b[1;33m\u001b[0m\u001b[1;33m\u001b[0m\u001b[0m\n\u001b[1;32m---> 72\u001b[1;33m         \u001b[1;32mreturn\u001b[0m \u001b[0mf\u001b[0m\u001b[1;33m(\u001b[0m\u001b[1;33m**\u001b[0m\u001b[0mkwargs\u001b[0m\u001b[1;33m)\u001b[0m\u001b[1;33m\u001b[0m\u001b[1;33m\u001b[0m\u001b[0m\n\u001b[0m\u001b[0;32m     73\u001b[0m     \u001b[1;32mreturn\u001b[0m \u001b[0minner_f\u001b[0m\u001b[1;33m\u001b[0m\u001b[1;33m\u001b[0m\u001b[0m\n\u001b[0;32m     74\u001b[0m \u001b[1;33m\u001b[0m\u001b[0m\n",
      "\u001b[1;32m~\\Anaconda3\\lib\\site-packages\\sklearn\\utils\\validation.py\u001b[0m in \u001b[0;36mcheck_is_fitted\u001b[1;34m(estimator, attributes, msg, all_or_any)\u001b[0m\n\u001b[0;32m   1017\u001b[0m \u001b[1;33m\u001b[0m\u001b[0m\n\u001b[0;32m   1018\u001b[0m     \u001b[1;32mif\u001b[0m \u001b[1;32mnot\u001b[0m \u001b[0mattrs\u001b[0m\u001b[1;33m:\u001b[0m\u001b[1;33m\u001b[0m\u001b[1;33m\u001b[0m\u001b[0m\n\u001b[1;32m-> 1019\u001b[1;33m         \u001b[1;32mraise\u001b[0m \u001b[0mNotFittedError\u001b[0m\u001b[1;33m(\u001b[0m\u001b[0mmsg\u001b[0m \u001b[1;33m%\u001b[0m \u001b[1;33m{\u001b[0m\u001b[1;34m'name'\u001b[0m\u001b[1;33m:\u001b[0m \u001b[0mtype\u001b[0m\u001b[1;33m(\u001b[0m\u001b[0mestimator\u001b[0m\u001b[1;33m)\u001b[0m\u001b[1;33m.\u001b[0m\u001b[0m__name__\u001b[0m\u001b[1;33m}\u001b[0m\u001b[1;33m)\u001b[0m\u001b[1;33m\u001b[0m\u001b[1;33m\u001b[0m\u001b[0m\n\u001b[0m\u001b[0;32m   1020\u001b[0m \u001b[1;33m\u001b[0m\u001b[0m\n\u001b[0;32m   1021\u001b[0m \u001b[1;33m\u001b[0m\u001b[0m\n",
      "\u001b[1;31mNotFittedError\u001b[0m: This LinearRegression instance is not fitted yet. Call 'fit' with appropriate arguments before using this estimator."
     ]
    }
   ],
   "source": [
    "from sklearn.metrics import r2_score, mean_squared_error\n",
    "\n",
    "# 학습 데이터의 예측값을 저장합니다.\n",
    "pred_train = model.predict(x_train)\n",
    "\n",
    "# 학습 데이터의 성능을 저장합니다.\n",
    "mse_train = mean_squared_error(y_train, pred_train)\n",
    "r2_train = r2_score(y_train, pred_train)\n",
    "\n",
    "# 테스트 데이터의 예측값을 저장합니다.\n",
    "pred_test = model.predict(x_test)\n",
    "\n",
    "# 테스트 데이터의 성능을 저장합니다.\n",
    "mse_test = mean_squared_error(y_test, pred_test)\n",
    "r2_test = r2_score(y_test, pred_test)\n",
    "\n",
    "# 성능을 출력합니다.\n",
    "print('train data RMSE: ', np.sqrt(mse_train))\n",
    "print('train data R2: ', r2_train)\n",
    "\n",
    "print('test data RMSE: ', np.sqrt(mse_test))\n",
    "print('test data R2: ', r2_test)"
   ]
  },
  {
   "cell_type": "markdown",
   "metadata": {
    "id": "JAHlwUNdqZui"
   },
   "source": [
    "#### 5.1.3. 예측"
   ]
  },
  {
   "cell_type": "code",
   "execution_count": 58,
   "metadata": {
    "colab": {
     "base_uri": "https://localhost:8080/"
    },
    "executionInfo": {
     "elapsed": 426073,
     "status": "ok",
     "timestamp": 1606459829467,
     "user": {
      "displayName": "‍안상현[학생](경영대학 경영학과)",
      "photoUrl": "",
      "userId": "15732604784560776108"
     },
     "user_tz": -540
    },
    "id": "NR3vTJ9xqZui",
    "outputId": "35a2ee1d-dbc3-4d25-871d-9d7f66906be4"
   },
   "outputs": [
    {
     "ename": "NotFittedError",
     "evalue": "This LinearRegression instance is not fitted yet. Call 'fit' with appropriate arguments before using this estimator.",
     "output_type": "error",
     "traceback": [
      "\u001b[1;31m---------------------------------------------------------------------------\u001b[0m",
      "\u001b[1;31mNotFittedError\u001b[0m                            Traceback (most recent call last)",
      "\u001b[1;32m<ipython-input-58-ba207e4ee86a>\u001b[0m in \u001b[0;36m<module>\u001b[1;34m\u001b[0m\n\u001b[0;32m      7\u001b[0m     \u001b[1;31m#4.print(prediction[0])\u001b[0m\u001b[1;33m\u001b[0m\u001b[1;33m\u001b[0m\u001b[1;33m\u001b[0m\u001b[0m\n\u001b[0;32m      8\u001b[0m \u001b[1;33m\u001b[0m\u001b[0m\n\u001b[1;32m----> 9\u001b[1;33m     \u001b[0mprediction\u001b[0m \u001b[1;33m=\u001b[0m \u001b[0mmodel\u001b[0m\u001b[1;33m.\u001b[0m\u001b[0mpredict\u001b[0m\u001b[1;33m(\u001b[0m\u001b[0mx_test\u001b[0m\u001b[1;33m[\u001b[0m\u001b[0mi\u001b[0m\u001b[1;33m]\u001b[0m\u001b[1;33m.\u001b[0m\u001b[0mreshape\u001b[0m\u001b[1;33m(\u001b[0m\u001b[1;36m1\u001b[0m\u001b[1;33m,\u001b[0m\u001b[1;33m-\u001b[0m\u001b[1;36m1\u001b[0m\u001b[1;33m)\u001b[0m\u001b[1;33m)\u001b[0m\u001b[1;33m\u001b[0m\u001b[1;33m\u001b[0m\u001b[0m\n\u001b[0m\u001b[0;32m     10\u001b[0m     \u001b[0mprint\u001b[0m\u001b[1;33m(\u001b[0m\u001b[1;34m\"{} 번째 테스트 데이터의 예측 결과: {}, 실제 데이터: {}\"\u001b[0m\u001b[1;33m.\u001b[0m\u001b[0mformat\u001b[0m\u001b[1;33m(\u001b[0m\u001b[0mi\u001b[0m\u001b[1;33m,\u001b[0m \u001b[0mprediction\u001b[0m\u001b[1;33m[\u001b[0m\u001b[1;36m0\u001b[0m\u001b[1;33m]\u001b[0m\u001b[1;33m,\u001b[0m \u001b[0my_test\u001b[0m\u001b[1;33m[\u001b[0m\u001b[0mi\u001b[0m\u001b[1;33m]\u001b[0m\u001b[1;33m)\u001b[0m\u001b[1;33m)\u001b[0m\u001b[1;33m\u001b[0m\u001b[1;33m\u001b[0m\u001b[0m\n",
      "\u001b[1;32m~\\Anaconda3\\lib\\site-packages\\sklearn\\linear_model\\_base.py\u001b[0m in \u001b[0;36mpredict\u001b[1;34m(self, X)\u001b[0m\n\u001b[0;32m    234\u001b[0m             \u001b[0mReturns\u001b[0m \u001b[0mpredicted\u001b[0m \u001b[0mvalues\u001b[0m\u001b[1;33m.\u001b[0m\u001b[1;33m\u001b[0m\u001b[1;33m\u001b[0m\u001b[0m\n\u001b[0;32m    235\u001b[0m         \"\"\"\n\u001b[1;32m--> 236\u001b[1;33m         \u001b[1;32mreturn\u001b[0m \u001b[0mself\u001b[0m\u001b[1;33m.\u001b[0m\u001b[0m_decision_function\u001b[0m\u001b[1;33m(\u001b[0m\u001b[0mX\u001b[0m\u001b[1;33m)\u001b[0m\u001b[1;33m\u001b[0m\u001b[1;33m\u001b[0m\u001b[0m\n\u001b[0m\u001b[0;32m    237\u001b[0m \u001b[1;33m\u001b[0m\u001b[0m\n\u001b[0;32m    238\u001b[0m     \u001b[0m_preprocess_data\u001b[0m \u001b[1;33m=\u001b[0m \u001b[0mstaticmethod\u001b[0m\u001b[1;33m(\u001b[0m\u001b[0m_preprocess_data\u001b[0m\u001b[1;33m)\u001b[0m\u001b[1;33m\u001b[0m\u001b[1;33m\u001b[0m\u001b[0m\n",
      "\u001b[1;32m~\\Anaconda3\\lib\\site-packages\\sklearn\\linear_model\\_base.py\u001b[0m in \u001b[0;36m_decision_function\u001b[1;34m(self, X)\u001b[0m\n\u001b[0;32m    214\u001b[0m \u001b[1;33m\u001b[0m\u001b[0m\n\u001b[0;32m    215\u001b[0m     \u001b[1;32mdef\u001b[0m \u001b[0m_decision_function\u001b[0m\u001b[1;33m(\u001b[0m\u001b[0mself\u001b[0m\u001b[1;33m,\u001b[0m \u001b[0mX\u001b[0m\u001b[1;33m)\u001b[0m\u001b[1;33m:\u001b[0m\u001b[1;33m\u001b[0m\u001b[1;33m\u001b[0m\u001b[0m\n\u001b[1;32m--> 216\u001b[1;33m         \u001b[0mcheck_is_fitted\u001b[0m\u001b[1;33m(\u001b[0m\u001b[0mself\u001b[0m\u001b[1;33m)\u001b[0m\u001b[1;33m\u001b[0m\u001b[1;33m\u001b[0m\u001b[0m\n\u001b[0m\u001b[0;32m    217\u001b[0m \u001b[1;33m\u001b[0m\u001b[0m\n\u001b[0;32m    218\u001b[0m         \u001b[0mX\u001b[0m \u001b[1;33m=\u001b[0m \u001b[0mcheck_array\u001b[0m\u001b[1;33m(\u001b[0m\u001b[0mX\u001b[0m\u001b[1;33m,\u001b[0m \u001b[0maccept_sparse\u001b[0m\u001b[1;33m=\u001b[0m\u001b[1;33m[\u001b[0m\u001b[1;34m'csr'\u001b[0m\u001b[1;33m,\u001b[0m \u001b[1;34m'csc'\u001b[0m\u001b[1;33m,\u001b[0m \u001b[1;34m'coo'\u001b[0m\u001b[1;33m]\u001b[0m\u001b[1;33m)\u001b[0m\u001b[1;33m\u001b[0m\u001b[1;33m\u001b[0m\u001b[0m\n",
      "\u001b[1;32m~\\Anaconda3\\lib\\site-packages\\sklearn\\utils\\validation.py\u001b[0m in \u001b[0;36minner_f\u001b[1;34m(*args, **kwargs)\u001b[0m\n\u001b[0;32m     70\u001b[0m                           FutureWarning)\n\u001b[0;32m     71\u001b[0m         \u001b[0mkwargs\u001b[0m\u001b[1;33m.\u001b[0m\u001b[0mupdate\u001b[0m\u001b[1;33m(\u001b[0m\u001b[1;33m{\u001b[0m\u001b[0mk\u001b[0m\u001b[1;33m:\u001b[0m \u001b[0marg\u001b[0m \u001b[1;32mfor\u001b[0m \u001b[0mk\u001b[0m\u001b[1;33m,\u001b[0m \u001b[0marg\u001b[0m \u001b[1;32min\u001b[0m \u001b[0mzip\u001b[0m\u001b[1;33m(\u001b[0m\u001b[0msig\u001b[0m\u001b[1;33m.\u001b[0m\u001b[0mparameters\u001b[0m\u001b[1;33m,\u001b[0m \u001b[0margs\u001b[0m\u001b[1;33m)\u001b[0m\u001b[1;33m}\u001b[0m\u001b[1;33m)\u001b[0m\u001b[1;33m\u001b[0m\u001b[1;33m\u001b[0m\u001b[0m\n\u001b[1;32m---> 72\u001b[1;33m         \u001b[1;32mreturn\u001b[0m \u001b[0mf\u001b[0m\u001b[1;33m(\u001b[0m\u001b[1;33m**\u001b[0m\u001b[0mkwargs\u001b[0m\u001b[1;33m)\u001b[0m\u001b[1;33m\u001b[0m\u001b[1;33m\u001b[0m\u001b[0m\n\u001b[0m\u001b[0;32m     73\u001b[0m     \u001b[1;32mreturn\u001b[0m \u001b[0minner_f\u001b[0m\u001b[1;33m\u001b[0m\u001b[1;33m\u001b[0m\u001b[0m\n\u001b[0;32m     74\u001b[0m \u001b[1;33m\u001b[0m\u001b[0m\n",
      "\u001b[1;32m~\\Anaconda3\\lib\\site-packages\\sklearn\\utils\\validation.py\u001b[0m in \u001b[0;36mcheck_is_fitted\u001b[1;34m(estimator, attributes, msg, all_or_any)\u001b[0m\n\u001b[0;32m   1017\u001b[0m \u001b[1;33m\u001b[0m\u001b[0m\n\u001b[0;32m   1018\u001b[0m     \u001b[1;32mif\u001b[0m \u001b[1;32mnot\u001b[0m \u001b[0mattrs\u001b[0m\u001b[1;33m:\u001b[0m\u001b[1;33m\u001b[0m\u001b[1;33m\u001b[0m\u001b[0m\n\u001b[1;32m-> 1019\u001b[1;33m         \u001b[1;32mraise\u001b[0m \u001b[0mNotFittedError\u001b[0m\u001b[1;33m(\u001b[0m\u001b[0mmsg\u001b[0m \u001b[1;33m%\u001b[0m \u001b[1;33m{\u001b[0m\u001b[1;34m'name'\u001b[0m\u001b[1;33m:\u001b[0m \u001b[0mtype\u001b[0m\u001b[1;33m(\u001b[0m\u001b[0mestimator\u001b[0m\u001b[1;33m)\u001b[0m\u001b[1;33m.\u001b[0m\u001b[0m__name__\u001b[0m\u001b[1;33m}\u001b[0m\u001b[1;33m)\u001b[0m\u001b[1;33m\u001b[0m\u001b[1;33m\u001b[0m\u001b[0m\n\u001b[0m\u001b[0;32m   1020\u001b[0m \u001b[1;33m\u001b[0m\u001b[0m\n\u001b[0;32m   1021\u001b[0m \u001b[1;33m\u001b[0m\u001b[0m\n",
      "\u001b[1;31mNotFittedError\u001b[0m: This LinearRegression instance is not fitted yet. Call 'fit' with appropriate arguments before using this estimator."
     ]
    }
   ],
   "source": [
    "# 0번부터 9번까지 10개를 출력해 보겠습니다.\n",
    "for i in range(10): \n",
    "    \n",
    "    #1.prediction = model.predict(x_test[i]) => 에러\n",
    "    #2.prediction = model.predict(x_test[i].reshape(1,-1))\n",
    "    #3.print(predition)\n",
    "    #4.print(prediction[0])\n",
    "\n",
    "    prediction = model.predict(x_test[i].reshape(1,-1))\n",
    "    print(\"{} 번째 테스트 데이터의 예측 결과: {}, 실제 데이터: {}\".format(i, prediction[0], y_test[i]))"
   ]
  },
  {
   "cell_type": "markdown",
   "metadata": {
    "id": "Y2nSpK9oqZui"
   },
   "source": [
    "### 5.2. 다항 회귀 모델"
   ]
  },
  {
   "cell_type": "markdown",
   "metadata": {
    "id": "8NWLp-DgqZui"
   },
   "source": [
    "#### 5.2.1. 학습"
   ]
  },
  {
   "cell_type": "code",
   "execution_count": null,
   "metadata": {
    "colab": {
     "base_uri": "https://localhost:8080/"
    },
    "executionInfo": {
     "elapsed": 427424,
     "status": "ok",
     "timestamp": 1606459830843,
     "user": {
      "displayName": "‍안상현[학생](경영대학 경영학과)",
      "photoUrl": "",
      "userId": "15732604784560776108"
     },
     "user_tz": -540
    },
    "id": "vRal6L9hqZui",
    "outputId": "0a5be42f-ff1a-4ccd-b91e-80304baf7043"
   },
   "outputs": [],
   "source": [
    "from sklearn.preprocessing import PolynomialFeatures\n",
    "\n",
    "# 우리가 위에서 사용한 모델은 선형회귀 => 직선\n",
    "# 다항 회귀 모델을 사용하기 위해서는 PolynomialFeatures를 사용하여 고차항 변수를 생성합니다.\n",
    "# interaction_only=True 를 사용하면 변수 간의 곱을 고려하지 않기에 모델이 간소화 됩니다.\n",
    "# interaction_only=False 사용 시 모델은 복잡해지고 학습 시간이 매우 증가합니다. => 계량적(?)으로 고려해야한다. interaction Term\n",
    "poly = PolynomialFeatures(degree=3, interaction_only=True) #데이터가 3차원식으로 생겼을 때 이렇게 쓰면 선형보다 잘 나올 것임\n",
    "\n",
    "# x_train 데이터를 다항 회귀에 필요한 입력값으로 변환합니다.\n",
    "x_train_poly = poly.fit_transform(x_train)\n",
    "x_train_poly"
   ]
  },
  {
   "cell_type": "code",
   "execution_count": null,
   "metadata": {
    "id": "etKKEq7nqZuj"
   },
   "outputs": [],
   "source": [
    "# 선형 회귀 모델을 선언합니다.\n",
    "# 선형 회귀 모델이지만 다항 회귀도 수행할 수 있습니다.\n",
    "# n_jobs=-1을 설정하여 모든 프로세서를 사용하여 학습의 속도를 높입니다. #멀티코어 #default = 싱글코어\n",
    "model_poly = LinearRegression(n_jobs=-1)\n",
    "\n",
    "# 학습을 수행합니다.\n",
    "model_poly = model_poly.fit(x_train_poly, y_train)"
   ]
  },
  {
   "cell_type": "markdown",
   "metadata": {
    "id": "XOeEvgscqZuj"
   },
   "source": [
    "#### 5.2.2. 평가"
   ]
  },
  {
   "cell_type": "code",
   "execution_count": null,
   "metadata": {
    "colab": {
     "base_uri": "https://localhost:8080/"
    },
    "executionInfo": {
     "elapsed": 435752,
     "status": "ok",
     "timestamp": 1606459839186,
     "user": {
      "displayName": "‍안상현[학생](경영대학 경영학과)",
      "photoUrl": "",
      "userId": "15732604784560776108"
     },
     "user_tz": -540
    },
    "id": "2k-VIV8qqZuj",
    "outputId": "8585fb40-3c96-42e8-ca6f-25d40979b445",
    "scrolled": true
   },
   "outputs": [],
   "source": [
    "# 테스트 데이터를 변환합니다.\n",
    "x_test_poly = poly.fit_transform(x_test)\n",
    "\n",
    "# 학습 데이터의 예측값을 저장합니다.\n",
    "pred_train = model_poly.predict(x_train_poly)\n",
    "\n",
    "# 학습 데이터의 성능을 저장합니다.\n",
    "mse_train = mean_squared_error(y_train, pred_train)\n",
    "rmse_train = np.sqrt(mse_train)\n",
    "r2_train = r2_score(y_train, pred_train)\n",
    "\n",
    "# 테스트 데이터의 예측값을 저장합니다.\n",
    "pred_test = model_poly.predict(x_test_poly)\n",
    "\n",
    "# 테스트 데이터의 성능을 저장합니다.\n",
    "mse_test = mean_squared_error(y_test, pred_test)\n",
    "rmse_test = np.sqrt(mse_test)\n",
    "r2_test = r2_score(y_test, pred_test)\n",
    "\n",
    "# 성능을 출력합니다.\n",
    "print('train data RMSE: ', rmse_train)\n",
    "print('train data R2: ', r2_train)\n",
    "\n",
    "print('test data RMSE: ', rmse_test)\n",
    "print('test data R2: ', r2_test)"
   ]
  },
  {
   "cell_type": "markdown",
   "metadata": {
    "id": "90r2M7GKqZuk"
   },
   "source": [
    "#### 5.2.3. 예측"
   ]
  },
  {
   "cell_type": "code",
   "execution_count": null,
   "metadata": {
    "colab": {
     "base_uri": "https://localhost:8080/"
    },
    "executionInfo": {
     "elapsed": 435741,
     "status": "ok",
     "timestamp": 1606459839188,
     "user": {
      "displayName": "‍안상현[학생](경영대학 경영학과)",
      "photoUrl": "",
      "userId": "15732604784560776108"
     },
     "user_tz": -540
    },
    "id": "S7ZVUYrqqZuk",
    "outputId": "fee1bc16-49a8-45ff-cd4b-16dccb108280"
   },
   "outputs": [],
   "source": [
    "# 0번부터 9번까지 10개를 출력해 보겠습니다.\n",
    "for i in range(10): \n",
    "    \n",
    "    prediction = model_poly.predict(x_test_poly[i].reshape(1,-1))\n",
    "    print(\"{} 번째 테스트 데이터의 예측 결과: {}, 실제 데이터: {}\".format(i, prediction[0], y_test[i]))"
   ]
  },
  {
   "cell_type": "markdown",
   "metadata": {
    "id": "xJ73jGIcqZuk"
   },
   "source": [
    "### 5.3. 의사결정나무 & 랜덤포레스트 & 앙상블기법들"
   ]
  },
  {
   "cell_type": "code",
   "execution_count": null,
   "metadata": {
    "id": "hvyWC55MskdK"
   },
   "outputs": [],
   "source": [
    "!pip install xgboost\n",
    "!pip install lightgbm"
   ]
  },
  {
   "cell_type": "code",
   "execution_count": 59,
   "metadata": {
    "colab": {
     "base_uri": "https://localhost:8080/"
    },
    "executionInfo": {
     "elapsed": 47120,
     "status": "ok",
     "timestamp": 1606461727438,
     "user": {
      "displayName": "‍안상현[학생](경영대학 경영학과)",
      "photoUrl": "",
      "userId": "15732604784560776108"
     },
     "user_tz": -540
    },
    "id": "WWs-YA0tqZuk",
    "outputId": "db91ab6f-7f13-41fb-c61d-61cabc7525bf"
   },
   "outputs": [
    {
     "ename": "ValueError",
     "evalue": "could not convert string to float: '593k'",
     "output_type": "error",
     "traceback": [
      "\u001b[1;31m---------------------------------------------------------------------------\u001b[0m",
      "\u001b[1;31mValueError\u001b[0m                                Traceback (most recent call last)",
      "\u001b[1;32m<ipython-input-59-806c91a1b15f>\u001b[0m in \u001b[0;36m<module>\u001b[1;34m\u001b[0m\n\u001b[0;32m     11\u001b[0m \u001b[1;33m\u001b[0m\u001b[0m\n\u001b[0;32m     12\u001b[0m \u001b[1;32mfor\u001b[0m \u001b[0mname\u001b[0m\u001b[1;33m,\u001b[0m \u001b[0mmodel\u001b[0m \u001b[1;32min\u001b[0m \u001b[0mmodels\u001b[0m\u001b[1;33m:\u001b[0m\u001b[1;33m\u001b[0m\u001b[1;33m\u001b[0m\u001b[0m\n\u001b[1;32m---> 13\u001b[1;33m     \u001b[0mmodel\u001b[0m\u001b[1;33m.\u001b[0m\u001b[0mfit\u001b[0m\u001b[1;33m(\u001b[0m\u001b[0mx_train\u001b[0m\u001b[1;33m,\u001b[0m \u001b[0my_train\u001b[0m\u001b[1;33m)\u001b[0m\u001b[1;33m\u001b[0m\u001b[1;33m\u001b[0m\u001b[0m\n\u001b[0m\u001b[0;32m     14\u001b[0m     \u001b[0mmodel\u001b[0m\u001b[1;33m.\u001b[0m\u001b[0mpredict\u001b[0m\u001b[1;33m(\u001b[0m\u001b[0mx_train\u001b[0m\u001b[1;33m)\u001b[0m\u001b[1;33m\u001b[0m\u001b[1;33m\u001b[0m\u001b[0m\n\u001b[0;32m     15\u001b[0m \u001b[1;33m\u001b[0m\u001b[0m\n",
      "\u001b[1;32m~\\Anaconda3\\lib\\site-packages\\sklearn\\tree\\_classes.py\u001b[0m in \u001b[0;36mfit\u001b[1;34m(self, X, y, sample_weight, check_input, X_idx_sorted)\u001b[0m\n\u001b[0;32m   1244\u001b[0m             \u001b[0msample_weight\u001b[0m\u001b[1;33m=\u001b[0m\u001b[0msample_weight\u001b[0m\u001b[1;33m,\u001b[0m\u001b[1;33m\u001b[0m\u001b[1;33m\u001b[0m\u001b[0m\n\u001b[0;32m   1245\u001b[0m             \u001b[0mcheck_input\u001b[0m\u001b[1;33m=\u001b[0m\u001b[0mcheck_input\u001b[0m\u001b[1;33m,\u001b[0m\u001b[1;33m\u001b[0m\u001b[1;33m\u001b[0m\u001b[0m\n\u001b[1;32m-> 1246\u001b[1;33m             X_idx_sorted=X_idx_sorted)\n\u001b[0m\u001b[0;32m   1247\u001b[0m         \u001b[1;32mreturn\u001b[0m \u001b[0mself\u001b[0m\u001b[1;33m\u001b[0m\u001b[1;33m\u001b[0m\u001b[0m\n\u001b[0;32m   1248\u001b[0m \u001b[1;33m\u001b[0m\u001b[0m\n",
      "\u001b[1;32m~\\Anaconda3\\lib\\site-packages\\sklearn\\tree\\_classes.py\u001b[0m in \u001b[0;36mfit\u001b[1;34m(self, X, y, sample_weight, check_input, X_idx_sorted)\u001b[0m\n\u001b[0;32m    156\u001b[0m             X, y = self._validate_data(X, y,\n\u001b[0;32m    157\u001b[0m                                        validate_separately=(check_X_params,\n\u001b[1;32m--> 158\u001b[1;33m                                                             check_y_params))\n\u001b[0m\u001b[0;32m    159\u001b[0m             \u001b[1;32mif\u001b[0m \u001b[0missparse\u001b[0m\u001b[1;33m(\u001b[0m\u001b[0mX\u001b[0m\u001b[1;33m)\u001b[0m\u001b[1;33m:\u001b[0m\u001b[1;33m\u001b[0m\u001b[1;33m\u001b[0m\u001b[0m\n\u001b[0;32m    160\u001b[0m                 \u001b[0mX\u001b[0m\u001b[1;33m.\u001b[0m\u001b[0msort_indices\u001b[0m\u001b[1;33m(\u001b[0m\u001b[1;33m)\u001b[0m\u001b[1;33m\u001b[0m\u001b[1;33m\u001b[0m\u001b[0m\n",
      "\u001b[1;32m~\\Anaconda3\\lib\\site-packages\\sklearn\\base.py\u001b[0m in \u001b[0;36m_validate_data\u001b[1;34m(self, X, y, reset, validate_separately, **check_params)\u001b[0m\n\u001b[0;32m    427\u001b[0m                 \u001b[1;31m# :(\u001b[0m\u001b[1;33m\u001b[0m\u001b[1;33m\u001b[0m\u001b[1;33m\u001b[0m\u001b[0m\n\u001b[0;32m    428\u001b[0m                 \u001b[0mcheck_X_params\u001b[0m\u001b[1;33m,\u001b[0m \u001b[0mcheck_y_params\u001b[0m \u001b[1;33m=\u001b[0m \u001b[0mvalidate_separately\u001b[0m\u001b[1;33m\u001b[0m\u001b[1;33m\u001b[0m\u001b[0m\n\u001b[1;32m--> 429\u001b[1;33m                 \u001b[0mX\u001b[0m \u001b[1;33m=\u001b[0m \u001b[0mcheck_array\u001b[0m\u001b[1;33m(\u001b[0m\u001b[0mX\u001b[0m\u001b[1;33m,\u001b[0m \u001b[1;33m**\u001b[0m\u001b[0mcheck_X_params\u001b[0m\u001b[1;33m)\u001b[0m\u001b[1;33m\u001b[0m\u001b[1;33m\u001b[0m\u001b[0m\n\u001b[0m\u001b[0;32m    430\u001b[0m                 \u001b[0my\u001b[0m \u001b[1;33m=\u001b[0m \u001b[0mcheck_array\u001b[0m\u001b[1;33m(\u001b[0m\u001b[0my\u001b[0m\u001b[1;33m,\u001b[0m \u001b[1;33m**\u001b[0m\u001b[0mcheck_y_params\u001b[0m\u001b[1;33m)\u001b[0m\u001b[1;33m\u001b[0m\u001b[1;33m\u001b[0m\u001b[0m\n\u001b[0;32m    431\u001b[0m             \u001b[1;32melse\u001b[0m\u001b[1;33m:\u001b[0m\u001b[1;33m\u001b[0m\u001b[1;33m\u001b[0m\u001b[0m\n",
      "\u001b[1;32m~\\Anaconda3\\lib\\site-packages\\sklearn\\utils\\validation.py\u001b[0m in \u001b[0;36minner_f\u001b[1;34m(*args, **kwargs)\u001b[0m\n\u001b[0;32m     70\u001b[0m                           FutureWarning)\n\u001b[0;32m     71\u001b[0m         \u001b[0mkwargs\u001b[0m\u001b[1;33m.\u001b[0m\u001b[0mupdate\u001b[0m\u001b[1;33m(\u001b[0m\u001b[1;33m{\u001b[0m\u001b[0mk\u001b[0m\u001b[1;33m:\u001b[0m \u001b[0marg\u001b[0m \u001b[1;32mfor\u001b[0m \u001b[0mk\u001b[0m\u001b[1;33m,\u001b[0m \u001b[0marg\u001b[0m \u001b[1;32min\u001b[0m \u001b[0mzip\u001b[0m\u001b[1;33m(\u001b[0m\u001b[0msig\u001b[0m\u001b[1;33m.\u001b[0m\u001b[0mparameters\u001b[0m\u001b[1;33m,\u001b[0m \u001b[0margs\u001b[0m\u001b[1;33m)\u001b[0m\u001b[1;33m}\u001b[0m\u001b[1;33m)\u001b[0m\u001b[1;33m\u001b[0m\u001b[1;33m\u001b[0m\u001b[0m\n\u001b[1;32m---> 72\u001b[1;33m         \u001b[1;32mreturn\u001b[0m \u001b[0mf\u001b[0m\u001b[1;33m(\u001b[0m\u001b[1;33m**\u001b[0m\u001b[0mkwargs\u001b[0m\u001b[1;33m)\u001b[0m\u001b[1;33m\u001b[0m\u001b[1;33m\u001b[0m\u001b[0m\n\u001b[0m\u001b[0;32m     73\u001b[0m     \u001b[1;32mreturn\u001b[0m \u001b[0minner_f\u001b[0m\u001b[1;33m\u001b[0m\u001b[1;33m\u001b[0m\u001b[0m\n\u001b[0;32m     74\u001b[0m \u001b[1;33m\u001b[0m\u001b[0m\n",
      "\u001b[1;32m~\\Anaconda3\\lib\\site-packages\\sklearn\\utils\\validation.py\u001b[0m in \u001b[0;36mcheck_array\u001b[1;34m(array, accept_sparse, accept_large_sparse, dtype, order, copy, force_all_finite, ensure_2d, allow_nd, ensure_min_samples, ensure_min_features, estimator)\u001b[0m\n\u001b[0;32m    596\u001b[0m                     \u001b[0marray\u001b[0m \u001b[1;33m=\u001b[0m \u001b[0marray\u001b[0m\u001b[1;33m.\u001b[0m\u001b[0mastype\u001b[0m\u001b[1;33m(\u001b[0m\u001b[0mdtype\u001b[0m\u001b[1;33m,\u001b[0m \u001b[0mcasting\u001b[0m\u001b[1;33m=\u001b[0m\u001b[1;34m\"unsafe\"\u001b[0m\u001b[1;33m,\u001b[0m \u001b[0mcopy\u001b[0m\u001b[1;33m=\u001b[0m\u001b[1;32mFalse\u001b[0m\u001b[1;33m)\u001b[0m\u001b[1;33m\u001b[0m\u001b[1;33m\u001b[0m\u001b[0m\n\u001b[0;32m    597\u001b[0m                 \u001b[1;32melse\u001b[0m\u001b[1;33m:\u001b[0m\u001b[1;33m\u001b[0m\u001b[1;33m\u001b[0m\u001b[0m\n\u001b[1;32m--> 598\u001b[1;33m                     \u001b[0marray\u001b[0m \u001b[1;33m=\u001b[0m \u001b[0mnp\u001b[0m\u001b[1;33m.\u001b[0m\u001b[0masarray\u001b[0m\u001b[1;33m(\u001b[0m\u001b[0marray\u001b[0m\u001b[1;33m,\u001b[0m \u001b[0morder\u001b[0m\u001b[1;33m=\u001b[0m\u001b[0morder\u001b[0m\u001b[1;33m,\u001b[0m \u001b[0mdtype\u001b[0m\u001b[1;33m=\u001b[0m\u001b[0mdtype\u001b[0m\u001b[1;33m)\u001b[0m\u001b[1;33m\u001b[0m\u001b[1;33m\u001b[0m\u001b[0m\n\u001b[0m\u001b[0;32m    599\u001b[0m             \u001b[1;32mexcept\u001b[0m \u001b[0mComplexWarning\u001b[0m\u001b[1;33m:\u001b[0m\u001b[1;33m\u001b[0m\u001b[1;33m\u001b[0m\u001b[0m\n\u001b[0;32m    600\u001b[0m                 raise ValueError(\"Complex data not supported\\n\"\n",
      "\u001b[1;32m~\\Anaconda3\\lib\\site-packages\\numpy\\core\\_asarray.py\u001b[0m in \u001b[0;36masarray\u001b[1;34m(a, dtype, order)\u001b[0m\n\u001b[0;32m     81\u001b[0m \u001b[1;33m\u001b[0m\u001b[0m\n\u001b[0;32m     82\u001b[0m     \"\"\"\n\u001b[1;32m---> 83\u001b[1;33m     \u001b[1;32mreturn\u001b[0m \u001b[0marray\u001b[0m\u001b[1;33m(\u001b[0m\u001b[0ma\u001b[0m\u001b[1;33m,\u001b[0m \u001b[0mdtype\u001b[0m\u001b[1;33m,\u001b[0m \u001b[0mcopy\u001b[0m\u001b[1;33m=\u001b[0m\u001b[1;32mFalse\u001b[0m\u001b[1;33m,\u001b[0m \u001b[0morder\u001b[0m\u001b[1;33m=\u001b[0m\u001b[0morder\u001b[0m\u001b[1;33m)\u001b[0m\u001b[1;33m\u001b[0m\u001b[1;33m\u001b[0m\u001b[0m\n\u001b[0m\u001b[0;32m     84\u001b[0m \u001b[1;33m\u001b[0m\u001b[0m\n\u001b[0;32m     85\u001b[0m \u001b[1;33m\u001b[0m\u001b[0m\n",
      "\u001b[1;31mValueError\u001b[0m: could not convert string to float: '593k'"
     ]
    }
   ],
   "source": [
    "from sklearn.tree import DecisionTreeRegressor\n",
    "from sklearn.ensemble import RandomForestRegressor\n",
    "from xgboost.sklearn import XGBRegressor\n",
    "from lightgbm import LGBMRegressor\n",
    "\n",
    "models = []\n",
    "models.append(('CART', DecisionTreeRegressor())) # 의사결정나무 모델 #CART는 의사결정나무 중 알고리즘 이름\n",
    "models.append(('RandomForest', RandomForestRegressor(n_jobs=-1))) # 랜덤포레스트 모델\n",
    "models.append(('XGB', XGBRegressor(n_jobs=-1))) \n",
    "models.append(('lightGBM', LGBMRegressor(n_jobs=-1)))\n",
    "\n",
    "for name, model in models:\n",
    "    model.fit(x_train, y_train)\n",
    "    model.predict(x_train)\n",
    "\n",
    "    pred_train = model.predict(x_train)\n",
    "    pred_test = model.predict(x_test)\n",
    "\n",
    "    mse_train = mean_squared_error(y_train, pred_train)\n",
    "    mse_test = mean_squared_error(y_test, pred_test)\n",
    "\n",
    "    r2_train = r2_score(y_train, model.predict(x_train))\n",
    "    r2_test = r2_score(y_test, model.predict(x_test))\n",
    "\n",
    "    result_1 = \"%s - train_RMSE_score : %f, test_RMSE_score : %f\" % (name, mse_train, mse_test)\n",
    "    result_2 = \"%s - train_R2_score : %f, test_R2_score : %f\" % (name, r2_train , r2_test) \n",
    "    print(result_1)\n",
    "    print(result_2)\n",
    "    print(\"=\"*80)"
   ]
  },
  {
   "cell_type": "code",
   "execution_count": null,
   "metadata": {
    "colab": {
     "base_uri": "https://localhost:8080/"
    },
    "executionInfo": {
     "elapsed": 1564,
     "status": "ok",
     "timestamp": 1606461999790,
     "user": {
      "displayName": "‍안상현[학생](경영대학 경영학과)",
      "photoUrl": "",
      "userId": "15732604784560776108"
     },
     "user_tz": -540
    },
    "id": "HqEmUpM8qZuk",
    "outputId": "f5015834-e006-4989-b535-5ea225766135"
   },
   "outputs": [],
   "source": [
    "# 각 모델마다 0번부터 9번까지 10개의 예측 결과를 출력해 보겠습니다.\n",
    "\n",
    "for i in range(len(models)):\n",
    "    print(\"{} 모델\".format(models[i][0]))\n",
    "    for j in range(10): \n",
    "    \n",
    "        prediction = models[i][1].predict(x_test[j].reshape(1,-1))\n",
    "        print(\"{} 번째 테스트 데이터의 예측 결과: {}, 실제 데이터: {}\".format(j, prediction[0], y_test[j]))\n",
    "    print(\"=\"*80)"
   ]
  },
  {
   "cell_type": "markdown",
   "metadata": {},
   "source": [
    "## 위 과정의 결과 Xgb & lightGBM의 모델이 가장 결과가 좋게 나와서 해당 모델을 적용하였습니다."
   ]
  },
  {
   "cell_type": "code",
   "execution_count": null,
   "metadata": {},
   "outputs": [],
   "source": [
    "df_origin2 = pd.read_csv('webapp_test_feature.csv')"
   ]
  },
  {
   "cell_type": "code",
   "execution_count": null,
   "metadata": {
    "scrolled": false
   },
   "outputs": [],
   "source": [
    "df_origin2.head()"
   ]
  },
  {
   "cell_type": "code",
   "execution_count": null,
   "metadata": {},
   "outputs": [],
   "source": [
    "df_origin2.info()"
   ]
  },
  {
   "cell_type": "code",
   "execution_count": null,
   "metadata": {},
   "outputs": [],
   "source": [
    "#trn 정제 과정\n",
    "def cleansing(df):\n",
    "    df_clean = df.drop(columns=[\n",
    "    'App Id', 'Developer Id', 'Developer Website', 'Developer Email', \n",
    "    'Privacy Policy', 'Released', 'Minimum Installs', 'Maximum Installs',\n",
    "    'Minimum Android','Currency'], axis=1)\n",
    "    for element in set(df_clean['Installs']):\n",
    "    # (1) element.split('+')\n",
    "    # (2) element.split('+')[0]\n",
    "    # (3) element.split('+')[0].replace(',', '')\n",
    "    # (4) int(element.split('+')[0].replace(',', '')))\n",
    "    # (5) \n",
    "        df_clean = df_clean.replace(element,int(element.split('+')[0].replace(',', '')))\n",
    "    # 위 분포에서 양쪽 끝의 데이터들이 너무 작기에 이를 추가로 삭제합니다.\n",
    "    # 500000개 초과는 1000000으로 변환\n",
    "    df_clean.loc[df_clean['Installs']>500000,'Installs'] = 1000000\n",
    "    df_clean[df_clean['Installs']>500000]\n",
    "    # 5000개 미만은 1000으로 변환\n",
    "    df_clean.loc[df_clean['Installs']<5000,'Installs'] = 1000\n",
    "    df_clean[df_clean['Installs']<5000]\n",
    "    df_clean['Last update since 2020'] = [d.split('-')[0] == '2020' for d in df_clean['Last Updated']]\n",
    "    df_clean = df_clean.replace([True,False],[1,0])\n",
    "\n",
    "# object 자료형 데이터의 변수를 정리합니다.\n",
    "    chr_features = ['Content Rating', 'Category']\n",
    "\n",
    "# 수치 자료형 데이터의 변수를 정리합니다.\n",
    "    num_features=['Rating Count', 'Installs', 'Free','Last update since 2020', 'Ad Supported','In App Purchases', 'Editors Choice', 'Price']\n",
    "\n",
    "# 더미를 기법을 사용하여 변환합니다.\n",
    "    for variable in chr_features:\n",
    "    \n",
    "    # pandas의 더미 방식을 사용하여 object 자료형 데이터를 변환한 dataframe을 생성합니다.\n",
    "        dummies = pd.get_dummies(df_clean[chr_features])\n",
    "    # 기존 수치형 데이터에 더미로 새로 생성된 데이터를 추가합니다.\n",
    "        df_dummy= pd.concat([df_clean[num_features], dummies],axis=1)\n",
    "        x = df_dummy.to_numpy()\n",
    "    return(x)"
   ]
  },
  {
   "cell_type": "code",
   "execution_count": null,
   "metadata": {},
   "outputs": [],
   "source": [
    "# tst 적용\n",
    "x = cleansing(df_origin2)\n",
    "print(x)"
   ]
  },
  {
   "cell_type": "code",
   "execution_count": null,
   "metadata": {},
   "outputs": [],
   "source": [
    "from sklearn.tree import DecisionTreeRegressor\n",
    "from sklearn.ensemble import RandomForestRegressor\n",
    "from xgboost.sklearn import XGBRegressor\n",
    "from lightgbm import LGBMRegressor\n",
    "\n",
    "models = []\n",
    "#models.append(('CART', DecisionTreeRegressor())) # 의사결정나무 모델 #CART는 의사결정나무 중 알고리즘 이름\n",
    "#models.append(('RandomForest', RandomForestRegressor(n_jobs=-1))) # 랜덤포레스트 모델\n",
    "models.append(('XGB', XGBRegressor(n_jobs=-1))) \n",
    "models.append(('lightGBM', LGBMRegressor(n_jobs=-1)))\n",
    "\n",
    "for name, model in models:\n",
    "    model.fit(x_train, y_train)\n",
    "    model.predict(x_train)\n",
    "\n",
    "    pred_train = model.predict(x_train)\n",
    "    pred_test = model.predict(x_test)\n",
    "\n",
    "    mse_train = mean_squared_error(y_train, pred_train)\n",
    "    mse_test = mean_squared_error(y_test, pred_test)\n",
    "\n",
    "    r2_train = r2_score(y_train, model.predict(x_train))\n",
    "    r2_test = r2_score(y_test, model.predict(x_test))\n",
    "\n",
    "    result_1 = \"%s - train_RMSE_score : %f, test_RMSE_score : %f\" % (name, mse_train, mse_test)\n",
    "    result_2 = \"%s - train_R2_score : %f, test_R2_score : %f\" % (name, r2_train , r2_test) \n",
    "    print(result_1)\n",
    "    print(result_2)\n",
    "    print(\"=\"*80)"
   ]
  },
  {
   "cell_type": "code",
   "execution_count": null,
   "metadata": {
    "scrolled": true
   },
   "outputs": [],
   "source": [
    "for i in range(len(models)):\n",
    "    print(\"{} 모델\".format(models[i][0]))\n",
    "    for j in range(10): \n",
    "    \n",
    "        prediction = models[i][1].predict(x[j].reshape(1,-1))\n",
    "        print(\"{} 번째 테스트 데이터의 예측 결과: {}, 실제 데이터: {}\".format(j, prediction[0], y_test[j]))\n",
    "    print(\"=\"*80)"
   ]
  },
  {
   "cell_type": "code",
   "execution_count": null,
   "metadata": {
    "scrolled": false
   },
   "outputs": [],
   "source": [
    "import pandas as pd\n",
    "y_pred = model.predict(x)\n",
    "result = pd.DataFrame(y_pred)\n",
    "print(result)"
   ]
  },
  {
   "cell_type": "code",
   "execution_count": 55,
   "metadata": {},
   "outputs": [
    {
     "ename": "NameError",
     "evalue": "name 'result' is not defined",
     "output_type": "error",
     "traceback": [
      "\u001b[1;31m---------------------------------------------------------------------------\u001b[0m",
      "\u001b[1;31mNameError\u001b[0m                                 Traceback (most recent call last)",
      "\u001b[1;32m<ipython-input-55-3a4ab6fcdb2c>\u001b[0m in \u001b[0;36m<module>\u001b[1;34m\u001b[0m\n\u001b[1;32m----> 1\u001b[1;33m \u001b[0mresult\u001b[0m\u001b[1;33m.\u001b[0m\u001b[0mto_csv\u001b[0m\u001b[1;33m(\u001b[0m\u001b[1;34m\"result_조은정_final8.csv\"\u001b[0m\u001b[1;33m)\u001b[0m\u001b[1;33m\u001b[0m\u001b[1;33m\u001b[0m\u001b[0m\n\u001b[0m",
      "\u001b[1;31mNameError\u001b[0m: name 'result' is not defined"
     ]
    }
   ],
   "source": [
    "result.to_csv(\"result_조은정_final8.csv\")"
   ]
  },
  {
   "cell_type": "code",
   "execution_count": null,
   "metadata": {},
   "outputs": [],
   "source": []
  },
  {
   "cell_type": "markdown",
   "metadata": {
    "id": "yXdEvTKnqZul"
   },
   "source": [
    "---"
   ]
  }
 ],
 "metadata": {
  "colab": {
   "collapsed_sections": [],
   "name": "[강사용]웹/앱_실습코드.ipynb",
   "provenance": [
    {
     "file_id": "1VCvysXkmYJRlkChGwDDgy3CSCNwhjxnq",
     "timestamp": 1606195270041
    }
   ],
   "toc_visible": true
  },
  "kernelspec": {
   "display_name": "Python 3",
   "language": "python",
   "name": "python3"
  },
  "language_info": {
   "codemirror_mode": {
    "name": "ipython",
    "version": 3
   },
   "file_extension": ".py",
   "mimetype": "text/x-python",
   "name": "python",
   "nbconvert_exporter": "python",
   "pygments_lexer": "ipython3",
   "version": "3.7.4"
  },
  "toc": {
   "base_numbering": 1,
   "nav_menu": {},
   "number_sections": false,
   "sideBar": true,
   "skip_h1_title": false,
   "title_cell": "Table of Contents",
   "title_sidebar": "Contents",
   "toc_cell": false,
   "toc_position": {
    "height": "calc(100% - 180px)",
    "left": "10px",
    "top": "150px",
    "width": "384px"
   },
   "toc_section_display": true,
   "toc_window_display": true
  }
 },
 "nbformat": 4,
 "nbformat_minor": 1
}
