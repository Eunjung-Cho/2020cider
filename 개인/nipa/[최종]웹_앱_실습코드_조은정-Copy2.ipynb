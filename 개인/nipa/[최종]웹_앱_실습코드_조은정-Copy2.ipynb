{
 "cells": [
  {
   "cell_type": "markdown",
   "metadata": {
    "id": "qCbjpjcqqZub"
   },
   "source": [
    "# [NIPA 활용과정] 앱 데이터 분석을 통한 평점 예측 실습"
   ]
  },
  {
   "cell_type": "markdown",
   "metadata": {
    "id": "gM3-9xOKqZub"
   },
   "source": [
    "Kaggle에서 제공하는 구글 앱 데이터를 바탕으로 앱 평점을 예측해보는 머신러닝 실습을 수행해 보겠습니다.\n",
    "\n",
    "데이터 출처: https://www.kaggle.com/gauthamp10/google-playstore-apps\n",
    "\n",
    "이번 실습은 다음과 같은 과정으로 진행합니다.\n",
    "\n",
    "1. **데이터 읽기:** 구글 앱 데이터를 불러오고 Dataframe 구조를 확인\n",
    "\n",
    "2. **데이터 정제:** 비어 있는 데이터 또는 쓸모 없는 데이터를 삭제\n",
    "\n",
    "3. **데이터 시각화:** 변수 시각화를 통하여 분포 파악\n",
    "\n",
    "4. **데이터 전처리:** 머신러닝 모델에 필요한 입력값 형식으로 데이터 처리\n",
    "\n",
    "5. **머신러닝 모델 수행:** 회귀 모델을 사용하여 학습 수행, 평가 및 예측 수행\n",
    "\n",
    "> 이번 실습에서의 **최소한의 학습 목표**는 **데이터를 바탕으로 머신러닝의 결과물을 수행하는 전체적인 과정을 이해**하기입니다.\n",
    "더욱 확실하게 목표를 이루기 위해서 학생들에게 기존 데이터에서 랜덤하게 뽑은 테스트 데이터를 바탕으로 배웠던 과정을 수행하여 결과물을 제출하게 합니다. 따라서 모든 학생이 위 목표를 달성 할 수 있는 방향으로 지도 부탁드립니다.\n",
    "\n",
    "> 최소한의 학습 목표를 만족할 수 있는 학생이라면 **성능 지표를 높일 수 있는 방법을 찾는 것**이 **두 번째 목표**가 될 것입니다. 성능 지표를 높일 방법으로 본 실습에서는 크게 2가지 방식이 있습니다. \n",
    "\n",
    "> 1. **EDA 과정에서의 데이터 정제 및 특성 엔지니어링을 통한 성능 향상 방식**: EDA 과정은 데이터를 이해하는데 있어서 매우 중요한 과정이라 생각합니다. 사실 디테일하게 다루려면 온종일 할 수 있는 분량의 콘텐츠를 제작할 수 있지만, 본 실습을 수행하는데 많은 시간이 주어지지 않는다는 한계가 있기에 최소한의 EDA 과정만 다루게 됩니다. 따라서 변수마다 추가적인 이상치 처리 및 특성 엔지니어링을 통하여 성능을 높일 방법은 다양하게 있다 생각하며, 이 부분은 강의자께서도 여러 가지로 시도해보시면서 학생들에게 인사이트를 주면 좋을 거 같습니다.\n",
    "\n",
    "> 2. **머신러닝 모델을 통한 성능 향상 방식**: EDA를 통한 데이터에 대한 이해 이후로 머신러닝 특징에 맞추어 모델을 선택하고 다양한 튜닝 방법을 통하여 성능을 높일 수 있습니다. 하지만 본 과정을 수강하는 학생들은 머신러닝 모델별로의 심도 있는 이해는 못 하는 단계라고 생각하기에 이 방식을 통한 성능 향상은 구현하기는 쉽지 않아 보입니다. "
   ]
  },
  {
   "cell_type": "code",
   "execution_count": 1,
   "metadata": {},
   "outputs": [
    {
     "name": "stdout",
     "output_type": "stream",
     "text": [
      "Requirement already up-to-date: pip in c:\\users\\eunju\\anaconda3\\lib\\site-packages (20.2.4)\n",
      "Requirement already up-to-date: pandas in c:\\users\\eunju\\anaconda3\\lib\\site-packages (1.1.4)\n",
      "Requirement already satisfied, skipping upgrade: python-dateutil>=2.7.3 in c:\\users\\eunju\\anaconda3\\lib\\site-packages (from pandas) (2.8.0)\n",
      "Requirement already satisfied, skipping upgrade: numpy>=1.15.4 in c:\\users\\eunju\\anaconda3\\lib\\site-packages (from pandas) (1.19.4)\n",
      "Requirement already satisfied, skipping upgrade: pytz>=2017.2 in c:\\users\\eunju\\anaconda3\\lib\\site-packages (from pandas) (2019.3)\n",
      "Requirement already satisfied, skipping upgrade: six>=1.5 in c:\\users\\eunju\\anaconda3\\lib\\site-packages (from python-dateutil>=2.7.3->pandas) (1.12.0)\n",
      "Requirement already up-to-date: numpy in c:\\users\\eunju\\anaconda3\\lib\\site-packages (1.19.4)\n",
      "Requirement already up-to-date: scipy in c:\\users\\eunju\\anaconda3\\lib\\site-packages (1.5.4)\n",
      "Requirement already satisfied, skipping upgrade: numpy>=1.14.5 in c:\\users\\eunju\\anaconda3\\lib\\site-packages (from scipy) (1.19.4)\n",
      "Requirement already up-to-date: scikit-learn in c:\\users\\eunju\\anaconda3\\lib\\site-packages (0.23.2)\n",
      "Requirement already satisfied, skipping upgrade: threadpoolctl>=2.0.0 in c:\\users\\eunju\\anaconda3\\lib\\site-packages (from scikit-learn) (2.1.0)\n",
      "Requirement already satisfied, skipping upgrade: numpy>=1.13.3 in c:\\users\\eunju\\anaconda3\\lib\\site-packages (from scikit-learn) (1.19.4)\n",
      "Requirement already satisfied, skipping upgrade: scipy>=0.19.1 in c:\\users\\eunju\\anaconda3\\lib\\site-packages (from scikit-learn) (1.5.4)\n",
      "Requirement already satisfied, skipping upgrade: joblib>=0.11 in c:\\users\\eunju\\anaconda3\\lib\\site-packages (from scikit-learn) (0.13.2)\n",
      "Requirement already satisfied: xgboost in c:\\users\\eunju\\anaconda3\\lib\\site-packages (1.2.1)\n",
      "Requirement already satisfied: scipy in c:\\users\\eunju\\anaconda3\\lib\\site-packages (from xgboost) (1.5.4)\n",
      "Requirement already satisfied: numpy in c:\\users\\eunju\\anaconda3\\lib\\site-packages (from xgboost) (1.19.4)\n",
      "Requirement already satisfied: lightgbm in c:\\users\\eunju\\anaconda3\\lib\\site-packages (3.1.0)\n",
      "Requirement already satisfied: scipy in c:\\users\\eunju\\anaconda3\\lib\\site-packages (from lightgbm) (1.5.4)\n",
      "Requirement already satisfied: numpy in c:\\users\\eunju\\anaconda3\\lib\\site-packages (from lightgbm) (1.19.4)\n",
      "Requirement already satisfied: scikit-learn!=0.22.0 in c:\\users\\eunju\\anaconda3\\lib\\site-packages (from lightgbm) (0.23.2)\n",
      "Requirement already satisfied: joblib>=0.11 in c:\\users\\eunju\\anaconda3\\lib\\site-packages (from scikit-learn!=0.22.0->lightgbm) (0.13.2)\n",
      "Requirement already satisfied: threadpoolctl>=2.0.0 in c:\\users\\eunju\\anaconda3\\lib\\site-packages (from scikit-learn!=0.22.0->lightgbm) (2.1.0)\n"
     ]
    }
   ],
   "source": [
    "!pip install --upgrade pip\n",
    "!pip install -U pandas\n",
    "!pip install -U numpy\n",
    "!pip install -U scipy\n",
    "!pip install -U scikit-learn\n",
    "!pip install xgboost\n",
    "!pip install lightgbm"
   ]
  },
  {
   "cell_type": "markdown",
   "metadata": {
    "id": "02kBamprqZub"
   },
   "source": [
    " "
   ]
  },
  {
   "cell_type": "markdown",
   "metadata": {
    "id": "CWoOzkBDqZuc"
   },
   "source": [
    "## 1. 데이터 읽기\n",
    "\n",
    "> 이 파트에서는 **데이터를 읽는 방법을 익히고 어떠한 변수가 있는지 확인하는 방법**을 수행하는 것을 목표로 합니다. head, info 등의 함수에 대해서 설명해주시고 강의자분이 또 다른 방법들을 추가하여 설명하셔도 될 거 같습니다."
   ]
  },
  {
   "cell_type": "markdown",
   "metadata": {
    "id": "BreBjlhzqZuc"
   },
   "source": [
    "pandas를 사용하여 `Google-Playstore.csv` 데이터를 읽고 dataframe 형태로 저장해 봅시다."
   ]
  },
  {
   "cell_type": "code",
   "execution_count": 1,
   "metadata": {
    "id": "UUQvWx-oqZuc"
   },
   "outputs": [
    {
     "name": "stderr",
     "output_type": "stream",
     "text": [
      "C:\\Users\\eunju\\Anaconda3\\lib\\site-packages\\statsmodels\\tools\\_testing.py:19: FutureWarning: pandas.util.testing is deprecated. Use the functions in the public API at pandas.testing instead.\n",
      "  import pandas.util.testing as tm\n"
     ]
    }
   ],
   "source": [
    "import numpy as np \n",
    "import pandas as pd \n",
    "import matplotlib.pyplot as plt\n",
    "import seaborn as sns"
   ]
  },
  {
   "cell_type": "markdown",
   "metadata": {
    "id": "1Fgi1Yinnafd"
   },
   "source": [
    "### 1.1 디렉토리 체크"
   ]
  },
  {
   "cell_type": "markdown",
   "metadata": {
    "id": "uEE7VgSOnPHp"
   },
   "source": [
    "작업을 하기 전에 현재 디렉토리가 어떻게 설정되어있는지 확인해줍니다."
   ]
  },
  {
   "cell_type": "markdown",
   "metadata": {
    "colab": {
     "base_uri": "https://localhost:8080/"
    },
    "executionInfo": {
     "elapsed": 409766,
     "status": "ok",
     "timestamp": 1606459812616,
     "user": {
      "displayName": "‍안상현[학생](경영대학 경영학과)",
      "photoUrl": "",
      "userId": "15732604784560776108"
     },
     "user_tz": -540
    },
    "id": "fLEdUF7utrgn",
    "outputId": "98a76983-435a-4a76-c441-85bcc50d2cc8"
   },
   "source": [
    "current_path = os.chdir(\"/content/drive/MyDrive/Colab Notebooks/강의자료\")\n",
    "print(os.listdir(current_path))\n",
    "print(os.getcwd()) #=> get current working directory"
   ]
  },
  {
   "cell_type": "markdown",
   "metadata": {
    "id": "hh3yxvwRogfX"
   },
   "source": [
    "### 1.2 Google-Playstore.csv 데이터 불러오기"
   ]
  },
  {
   "cell_type": "code",
   "execution_count": 2,
   "metadata": {
    "id": "9AJR0fjYqZuc"
   },
   "outputs": [],
   "source": [
    "# Google-Playstore.csv 데이터를 pandas를 사용하여 dataframe 형태로 불러옵니다.\n",
    "df_origin = pd.read_csv('Google-Playstore.csv')"
   ]
  },
  {
   "cell_type": "code",
   "execution_count": 64,
   "metadata": {},
   "outputs": [
    {
     "data": {
      "text/plain": [
       "Rating              1.000000\n",
       "Rating Count        0.016980\n",
       "Minimum Installs    0.012640\n",
       "Maximum Installs    0.014608\n",
       "Free                0.029064\n",
       "Price              -0.014955\n",
       "Ad Supported        0.153105\n",
       "In App Purchases    0.164163\n",
       "Editors Choice      0.025952\n",
       "Name: Rating, dtype: float64"
      ]
     },
     "execution_count": 64,
     "metadata": {},
     "output_type": "execute_result"
    }
   ],
   "source": [
    "df_origin.corr()[\"Rating\"]\n",
    "\n",
    "#위의 상관관계에서 Free,Ad Supported,In App Purchases,Editors Choice가 주요 변수라 생각되어 해당 변수는 남기기로 했다."
   ]
  },
  {
   "cell_type": "code",
   "execution_count": 65,
   "metadata": {
    "colab": {
     "base_uri": "https://localhost:8080/",
     "height": 407
    },
    "executionInfo": {
     "elapsed": 419317,
     "status": "ok",
     "timestamp": 1606459822242,
     "user": {
      "displayName": "‍안상현[학생](경영대학 경영학과)",
      "photoUrl": "",
      "userId": "15732604784560776108"
     },
     "user_tz": -540
    },
    "id": "TYdrger8qZud",
    "outputId": "fae165f0-bf0c-4438-a4d3-9b5f337731f3"
   },
   "outputs": [
    {
     "data": {
      "text/html": [
       "<div>\n",
       "<style scoped>\n",
       "    .dataframe tbody tr th:only-of-type {\n",
       "        vertical-align: middle;\n",
       "    }\n",
       "\n",
       "    .dataframe tbody tr th {\n",
       "        vertical-align: top;\n",
       "    }\n",
       "\n",
       "    .dataframe thead th {\n",
       "        text-align: right;\n",
       "    }\n",
       "</style>\n",
       "<table border=\"1\" class=\"dataframe\">\n",
       "  <thead>\n",
       "    <tr style=\"text-align: right;\">\n",
       "      <th></th>\n",
       "      <th>App Name</th>\n",
       "      <th>Category</th>\n",
       "      <th>Rating</th>\n",
       "      <th>Rating Count</th>\n",
       "      <th>Installs</th>\n",
       "      <th>Free</th>\n",
       "      <th>Price</th>\n",
       "      <th>Size</th>\n",
       "      <th>Released</th>\n",
       "      <th>Last Updated</th>\n",
       "      <th>Content Rating</th>\n",
       "      <th>Ad Supported</th>\n",
       "      <th>In App Purchases</th>\n",
       "      <th>Editors Choice</th>\n",
       "    </tr>\n",
       "  </thead>\n",
       "  <tbody>\n",
       "    <tr>\n",
       "      <th>0</th>\n",
       "      <td>foodpanda - Local Food &amp; Grocery Delivery</td>\n",
       "      <td>Food &amp; Drink</td>\n",
       "      <td>4.4</td>\n",
       "      <td>1258493.0</td>\n",
       "      <td>10,000,000+</td>\n",
       "      <td>True</td>\n",
       "      <td>0.00</td>\n",
       "      <td>21M</td>\n",
       "      <td>Nov 19, 2013</td>\n",
       "      <td>2020-07-07 00:14:05</td>\n",
       "      <td>Everyone</td>\n",
       "      <td>False</td>\n",
       "      <td>False</td>\n",
       "      <td>False</td>\n",
       "    </tr>\n",
       "    <tr>\n",
       "      <th>1</th>\n",
       "      <td>Tripadvisor Hotel, Flight &amp; Restaurant Bookings</td>\n",
       "      <td>Travel &amp; Local</td>\n",
       "      <td>4.4</td>\n",
       "      <td>1360172.0</td>\n",
       "      <td>100,000,000+</td>\n",
       "      <td>True</td>\n",
       "      <td>0.00</td>\n",
       "      <td>Varies with device</td>\n",
       "      <td>Jul 12, 2010</td>\n",
       "      <td>2020-07-02 20:10:48</td>\n",
       "      <td>Everyone</td>\n",
       "      <td>True</td>\n",
       "      <td>False</td>\n",
       "      <td>False</td>\n",
       "    </tr>\n",
       "    <tr>\n",
       "      <th>2</th>\n",
       "      <td>Safeway Delivery &amp; Pick Up</td>\n",
       "      <td>Shopping</td>\n",
       "      <td>4.2</td>\n",
       "      <td>5532.0</td>\n",
       "      <td>500,000+</td>\n",
       "      <td>True</td>\n",
       "      <td>0.00</td>\n",
       "      <td>12M</td>\n",
       "      <td>Sep 5, 2013</td>\n",
       "      <td>2020-07-16 23:21:50</td>\n",
       "      <td>Everyone</td>\n",
       "      <td>False</td>\n",
       "      <td>False</td>\n",
       "      <td>False</td>\n",
       "    </tr>\n",
       "    <tr>\n",
       "      <th>3</th>\n",
       "      <td>My CookBook Ad-Free</td>\n",
       "      <td>Food &amp; Drink</td>\n",
       "      <td>4.7</td>\n",
       "      <td>2531.0</td>\n",
       "      <td>10,000+</td>\n",
       "      <td>False</td>\n",
       "      <td>5.99</td>\n",
       "      <td>Varies with device</td>\n",
       "      <td>Sep 25, 2011</td>\n",
       "      <td>2020-07-07 12:41:28</td>\n",
       "      <td>Everyone</td>\n",
       "      <td>False</td>\n",
       "      <td>False</td>\n",
       "      <td>False</td>\n",
       "    </tr>\n",
       "    <tr>\n",
       "      <th>4</th>\n",
       "      <td>Talabat: Food &amp; Grocery Delivery</td>\n",
       "      <td>Food &amp; Drink</td>\n",
       "      <td>4.4</td>\n",
       "      <td>197649.0</td>\n",
       "      <td>5,000,000+</td>\n",
       "      <td>True</td>\n",
       "      <td>0.00</td>\n",
       "      <td>Varies with device</td>\n",
       "      <td>Jan 19, 2012</td>\n",
       "      <td>2020-07-15 19:21:16</td>\n",
       "      <td>Mature 17+</td>\n",
       "      <td>True</td>\n",
       "      <td>False</td>\n",
       "      <td>False</td>\n",
       "    </tr>\n",
       "  </tbody>\n",
       "</table>\n",
       "</div>"
      ],
      "text/plain": [
       "                                          App Name        Category  Rating  \\\n",
       "0        foodpanda - Local Food & Grocery Delivery    Food & Drink     4.4   \n",
       "1  Tripadvisor Hotel, Flight & Restaurant Bookings  Travel & Local     4.4   \n",
       "2                       Safeway Delivery & Pick Up        Shopping     4.2   \n",
       "3                              My CookBook Ad-Free    Food & Drink     4.7   \n",
       "4                 Talabat: Food & Grocery Delivery    Food & Drink     4.4   \n",
       "\n",
       "   Rating Count      Installs   Free  Price                Size      Released  \\\n",
       "0     1258493.0   10,000,000+   True   0.00                 21M  Nov 19, 2013   \n",
       "1     1360172.0  100,000,000+   True   0.00  Varies with device  Jul 12, 2010   \n",
       "2        5532.0      500,000+   True   0.00                 12M   Sep 5, 2013   \n",
       "3        2531.0       10,000+  False   5.99  Varies with device  Sep 25, 2011   \n",
       "4      197649.0    5,000,000+   True   0.00  Varies with device  Jan 19, 2012   \n",
       "\n",
       "          Last Updated Content Rating  Ad Supported  In App Purchases  \\\n",
       "0  2020-07-07 00:14:05       Everyone         False             False   \n",
       "1  2020-07-02 20:10:48       Everyone          True             False   \n",
       "2  2020-07-16 23:21:50       Everyone         False             False   \n",
       "3  2020-07-07 12:41:28       Everyone         False             False   \n",
       "4  2020-07-15 19:21:16     Mature 17+          True             False   \n",
       "\n",
       "   Editors Choice  \n",
       "0           False  \n",
       "1           False  \n",
       "2           False  \n",
       "3           False  \n",
       "4           False  "
      ]
     },
     "execution_count": 65,
     "metadata": {},
     "output_type": "execute_result"
    }
   ],
   "source": [
    "# drop 함수를 사용하여 변수들을 삭제합니다.\n",
    "df_clean= df_origin.drop(columns=[\n",
    "    'App Id', 'Developer Id', 'Developer Website', 'Developer Email', \n",
    "    'Privacy Policy', 'Minimum Installs', 'Maximum Installs',\n",
    "    'Minimum Android','Currency'\n",
    "], axis=1)\n",
    "df_clean.head()"
   ]
  },
  {
   "cell_type": "code",
   "execution_count": 59,
   "metadata": {
    "colab": {
     "base_uri": "https://localhost:8080/"
    },
    "executionInfo": {
     "elapsed": 419304,
     "status": "ok",
     "timestamp": 1606459822245,
     "user": {
      "displayName": "‍안상현[학생](경영대학 경영학과)",
      "photoUrl": "",
      "userId": "15732604784560776108"
     },
     "user_tz": -540
    },
    "id": "BBV0eKxFqZud",
    "outputId": "df643c10-070f-4b7e-bcfa-5bd51a1a74b5",
    "scrolled": true
   },
   "outputs": [
    {
     "data": {
      "text/plain": [
       "App Name                1\n",
       "Category                0\n",
       "Rating               3760\n",
       "Rating Count         3760\n",
       "Installs              172\n",
       "Free                    0\n",
       "Price                   0\n",
       "Size                    0\n",
       "Released            32278\n",
       "Last Updated            0\n",
       "Content Rating          0\n",
       "Ad Supported            0\n",
       "In App Purchases        0\n",
       "Editors Choice          0\n",
       "dtype: int64"
      ]
     },
     "execution_count": 59,
     "metadata": {},
     "output_type": "execute_result"
    }
   ],
   "source": [
    "df_clean.isnull().sum()"
   ]
  },
  {
   "cell_type": "code",
   "execution_count": 60,
   "metadata": {
    "id": "a2OmMDwIqZud"
   },
   "outputs": [],
   "source": [
    "# dropna를 사용하여 결측값이 있는 샘플들을 삭제합니다.\n",
    "df_clean = df_clean.dropna()"
   ]
  },
  {
   "cell_type": "code",
   "execution_count": 61,
   "metadata": {
    "colab": {
     "base_uri": "https://localhost:8080/"
    },
    "executionInfo": {
     "elapsed": 419940,
     "status": "ok",
     "timestamp": 1606459822917,
     "user": {
      "displayName": "‍안상현[학생](경영대학 경영학과)",
      "photoUrl": "",
      "userId": "15732604784560776108"
     },
     "user_tz": -540
    },
    "id": "0h4JfIGfwv3L",
    "outputId": "1ec73d55-3a52-487c-8e9b-2a197d89a510",
    "scrolled": true
   },
   "outputs": [
    {
     "data": {
      "text/plain": [
       "App Name            0\n",
       "Category            0\n",
       "Rating              0\n",
       "Rating Count        0\n",
       "Installs            0\n",
       "Free                0\n",
       "Price               0\n",
       "Size                0\n",
       "Released            0\n",
       "Last Updated        0\n",
       "Content Rating      0\n",
       "Ad Supported        0\n",
       "In App Purchases    0\n",
       "Editors Choice      0\n",
       "dtype: int64"
      ]
     },
     "execution_count": 61,
     "metadata": {},
     "output_type": "execute_result"
    }
   ],
   "source": [
    "# 결측값을 정보를 출력합니다.\n",
    "df_clean.isnull().sum() #=>개수확인"
   ]
  },
  {
   "cell_type": "markdown",
   "metadata": {
    "id": "-dNpTGZuqZud"
   },
   "source": [
    " "
   ]
  },
  {
   "cell_type": "code",
   "execution_count": 62,
   "metadata": {
    "id": "UmJXSf6pqZue"
   },
   "outputs": [],
   "source": [
    "# 'Rating Count' 값이 10보다 큰 경우 부터 의미 있는 데이터로 생각하고 10보다 작은 데이터는 삭제합니다.\n",
    "df_clean = df_clean[df_clean['Rating Count'] > 30]"
   ]
  },
  {
   "cell_type": "code",
   "execution_count": 63,
   "metadata": {
    "id": "wllJvWqpqZuf"
   },
   "outputs": [],
   "source": [
    "#Install 변수 정제\n",
    "for element in set(df_clean['Installs']):\n",
    "    df_clean = df_clean.replace(element,int(element.split('+')[0].replace(',', '')))"
   ]
  },
  {
   "cell_type": "code",
   "execution_count": 22,
   "metadata": {
    "colab": {
     "base_uri": "https://localhost:8080/",
     "height": 407
    },
    "executionInfo": {
     "elapsed": 423104,
     "status": "ok",
     "timestamp": 1606459826233,
     "user": {
      "displayName": "‍안상현[학생](경영대학 경영학과)",
      "photoUrl": "",
      "userId": "15732604784560776108"
     },
     "user_tz": -540
    },
    "id": "Cc81RDR9qZuf",
    "outputId": "d1240a61-62f0-4f30-a6cc-39a35e50ac38"
   },
   "outputs": [
    {
     "data": {
      "text/html": [
       "<div>\n",
       "<style scoped>\n",
       "    .dataframe tbody tr th:only-of-type {\n",
       "        vertical-align: middle;\n",
       "    }\n",
       "\n",
       "    .dataframe tbody tr th {\n",
       "        vertical-align: top;\n",
       "    }\n",
       "\n",
       "    .dataframe thead th {\n",
       "        text-align: right;\n",
       "    }\n",
       "</style>\n",
       "<table border=\"1\" class=\"dataframe\">\n",
       "  <thead>\n",
       "    <tr style=\"text-align: right;\">\n",
       "      <th></th>\n",
       "      <th>App Name</th>\n",
       "      <th>Category</th>\n",
       "      <th>Rating</th>\n",
       "      <th>Rating Count</th>\n",
       "      <th>Installs</th>\n",
       "      <th>Free</th>\n",
       "      <th>Price</th>\n",
       "      <th>Size</th>\n",
       "      <th>Last Updated</th>\n",
       "      <th>Content Rating</th>\n",
       "      <th>Ad Supported</th>\n",
       "      <th>In App Purchases</th>\n",
       "      <th>Editors Choice</th>\n",
       "    </tr>\n",
       "  </thead>\n",
       "  <tbody>\n",
       "    <tr>\n",
       "      <th>0</th>\n",
       "      <td>foodpanda - Local Food &amp; Grocery Delivery</td>\n",
       "      <td>Food &amp; Drink</td>\n",
       "      <td>4.4</td>\n",
       "      <td>1258493.0</td>\n",
       "      <td>1000000</td>\n",
       "      <td>True</td>\n",
       "      <td>0.0</td>\n",
       "      <td>21M</td>\n",
       "      <td>2020-07-07 00:14:05</td>\n",
       "      <td>Everyone</td>\n",
       "      <td>False</td>\n",
       "      <td>False</td>\n",
       "      <td>False</td>\n",
       "    </tr>\n",
       "    <tr>\n",
       "      <th>1</th>\n",
       "      <td>Tripadvisor Hotel, Flight &amp; Restaurant Bookings</td>\n",
       "      <td>Travel &amp; Local</td>\n",
       "      <td>4.4</td>\n",
       "      <td>1360172.0</td>\n",
       "      <td>1000000</td>\n",
       "      <td>True</td>\n",
       "      <td>0.0</td>\n",
       "      <td>Varies with device</td>\n",
       "      <td>2020-07-02 20:10:48</td>\n",
       "      <td>Everyone</td>\n",
       "      <td>True</td>\n",
       "      <td>False</td>\n",
       "      <td>False</td>\n",
       "    </tr>\n",
       "    <tr>\n",
       "      <th>4</th>\n",
       "      <td>Talabat: Food &amp; Grocery Delivery</td>\n",
       "      <td>Food &amp; Drink</td>\n",
       "      <td>4.4</td>\n",
       "      <td>197649.0</td>\n",
       "      <td>1000000</td>\n",
       "      <td>True</td>\n",
       "      <td>0.0</td>\n",
       "      <td>Varies with device</td>\n",
       "      <td>2020-07-15 19:21:16</td>\n",
       "      <td>Mature 17+</td>\n",
       "      <td>True</td>\n",
       "      <td>False</td>\n",
       "      <td>False</td>\n",
       "    </tr>\n",
       "    <tr>\n",
       "      <th>5</th>\n",
       "      <td>DoorDash - Food Delivery</td>\n",
       "      <td>Food &amp; Drink</td>\n",
       "      <td>4.5</td>\n",
       "      <td>784802.0</td>\n",
       "      <td>1000000</td>\n",
       "      <td>True</td>\n",
       "      <td>0.0</td>\n",
       "      <td>38M</td>\n",
       "      <td>2020-06-26 01:32:02</td>\n",
       "      <td>Everyone</td>\n",
       "      <td>False</td>\n",
       "      <td>False</td>\n",
       "      <td>False</td>\n",
       "    </tr>\n",
       "    <tr>\n",
       "      <th>7</th>\n",
       "      <td>Yelp: Find Food, Delivery &amp; Services Nearby</td>\n",
       "      <td>Food &amp; Drink</td>\n",
       "      <td>4.1</td>\n",
       "      <td>453646.0</td>\n",
       "      <td>1000000</td>\n",
       "      <td>True</td>\n",
       "      <td>0.0</td>\n",
       "      <td>Varies with device</td>\n",
       "      <td>2020-07-21 05:01:40</td>\n",
       "      <td>Teen</td>\n",
       "      <td>True</td>\n",
       "      <td>False</td>\n",
       "      <td>True</td>\n",
       "    </tr>\n",
       "    <tr>\n",
       "      <th>...</th>\n",
       "      <td>...</td>\n",
       "      <td>...</td>\n",
       "      <td>...</td>\n",
       "      <td>...</td>\n",
       "      <td>...</td>\n",
       "      <td>...</td>\n",
       "      <td>...</td>\n",
       "      <td>...</td>\n",
       "      <td>...</td>\n",
       "      <td>...</td>\n",
       "      <td>...</td>\n",
       "      <td>...</td>\n",
       "      <td>...</td>\n",
       "    </tr>\n",
       "    <tr>\n",
       "      <th>602276</th>\n",
       "      <td>Ghost House Escape</td>\n",
       "      <td>Adventure</td>\n",
       "      <td>3.9</td>\n",
       "      <td>19759.0</td>\n",
       "      <td>1000000</td>\n",
       "      <td>True</td>\n",
       "      <td>0.0</td>\n",
       "      <td>72M</td>\n",
       "      <td>2019-09-02 00:40:57</td>\n",
       "      <td>Everyone</td>\n",
       "      <td>True</td>\n",
       "      <td>True</td>\n",
       "      <td>False</td>\n",
       "    </tr>\n",
       "    <tr>\n",
       "      <th>602278</th>\n",
       "      <td>Zombie Invasion : Escape</td>\n",
       "      <td>Action</td>\n",
       "      <td>3.9</td>\n",
       "      <td>18371.0</td>\n",
       "      <td>1000000</td>\n",
       "      <td>True</td>\n",
       "      <td>0.0</td>\n",
       "      <td>22M</td>\n",
       "      <td>2016-08-30 19:42:49</td>\n",
       "      <td>Teen</td>\n",
       "      <td>True</td>\n",
       "      <td>True</td>\n",
       "      <td>False</td>\n",
       "    </tr>\n",
       "    <tr>\n",
       "      <th>602281</th>\n",
       "      <td>Prison Break: The Great Escape</td>\n",
       "      <td>Action</td>\n",
       "      <td>3.9</td>\n",
       "      <td>13909.0</td>\n",
       "      <td>1000000</td>\n",
       "      <td>True</td>\n",
       "      <td>0.0</td>\n",
       "      <td>81M</td>\n",
       "      <td>2019-11-07 20:21:28</td>\n",
       "      <td>Teen</td>\n",
       "      <td>True</td>\n",
       "      <td>True</td>\n",
       "      <td>False</td>\n",
       "    </tr>\n",
       "    <tr>\n",
       "      <th>602282</th>\n",
       "      <td>Prison Break: Lockdown (Free)</td>\n",
       "      <td>Action</td>\n",
       "      <td>4.1</td>\n",
       "      <td>194358.0</td>\n",
       "      <td>1000000</td>\n",
       "      <td>True</td>\n",
       "      <td>0.0</td>\n",
       "      <td>44M</td>\n",
       "      <td>2019-09-15 21:35:34</td>\n",
       "      <td>Teen</td>\n",
       "      <td>True</td>\n",
       "      <td>True</td>\n",
       "      <td>False</td>\n",
       "    </tr>\n",
       "    <tr>\n",
       "      <th>603005</th>\n",
       "      <td>Hong Kong Toolbar</td>\n",
       "      <td>Entertainment</td>\n",
       "      <td>4.1</td>\n",
       "      <td>12464.0</td>\n",
       "      <td>1000000</td>\n",
       "      <td>True</td>\n",
       "      <td>0.0</td>\n",
       "      <td>10M</td>\n",
       "      <td>2020-07-06 10:15:32</td>\n",
       "      <td>Everyone</td>\n",
       "      <td>True</td>\n",
       "      <td>False</td>\n",
       "      <td>False</td>\n",
       "    </tr>\n",
       "  </tbody>\n",
       "</table>\n",
       "<p>30149 rows × 13 columns</p>\n",
       "</div>"
      ],
      "text/plain": [
       "                                               App Name        Category  \\\n",
       "0             foodpanda - Local Food & Grocery Delivery    Food & Drink   \n",
       "1       Tripadvisor Hotel, Flight & Restaurant Bookings  Travel & Local   \n",
       "4                      Talabat: Food & Grocery Delivery    Food & Drink   \n",
       "5                              DoorDash - Food Delivery    Food & Drink   \n",
       "7           Yelp: Find Food, Delivery & Services Nearby    Food & Drink   \n",
       "...                                                 ...             ...   \n",
       "602276                               Ghost House Escape       Adventure   \n",
       "602278                         Zombie Invasion : Escape          Action   \n",
       "602281                   Prison Break: The Great Escape          Action   \n",
       "602282                    Prison Break: Lockdown (Free)          Action   \n",
       "603005                                Hong Kong Toolbar   Entertainment   \n",
       "\n",
       "        Rating  Rating Count  Installs  Free  Price                Size  \\\n",
       "0          4.4     1258493.0   1000000  True    0.0                 21M   \n",
       "1          4.4     1360172.0   1000000  True    0.0  Varies with device   \n",
       "4          4.4      197649.0   1000000  True    0.0  Varies with device   \n",
       "5          4.5      784802.0   1000000  True    0.0                 38M   \n",
       "7          4.1      453646.0   1000000  True    0.0  Varies with device   \n",
       "...        ...           ...       ...   ...    ...                 ...   \n",
       "602276     3.9       19759.0   1000000  True    0.0                 72M   \n",
       "602278     3.9       18371.0   1000000  True    0.0                 22M   \n",
       "602281     3.9       13909.0   1000000  True    0.0                 81M   \n",
       "602282     4.1      194358.0   1000000  True    0.0                 44M   \n",
       "603005     4.1       12464.0   1000000  True    0.0                 10M   \n",
       "\n",
       "               Last Updated Content Rating  Ad Supported  In App Purchases  \\\n",
       "0       2020-07-07 00:14:05       Everyone         False             False   \n",
       "1       2020-07-02 20:10:48       Everyone          True             False   \n",
       "4       2020-07-15 19:21:16     Mature 17+          True             False   \n",
       "5       2020-06-26 01:32:02       Everyone         False             False   \n",
       "7       2020-07-21 05:01:40           Teen          True             False   \n",
       "...                     ...            ...           ...               ...   \n",
       "602276  2019-09-02 00:40:57       Everyone          True              True   \n",
       "602278  2016-08-30 19:42:49           Teen          True              True   \n",
       "602281  2019-11-07 20:21:28           Teen          True              True   \n",
       "602282  2019-09-15 21:35:34           Teen          True              True   \n",
       "603005  2020-07-06 10:15:32       Everyone          True             False   \n",
       "\n",
       "        Editors Choice  \n",
       "0                False  \n",
       "1                False  \n",
       "4                False  \n",
       "5                False  \n",
       "7                 True  \n",
       "...                ...  \n",
       "602276           False  \n",
       "602278           False  \n",
       "602281           False  \n",
       "602282           False  \n",
       "603005           False  \n",
       "\n",
       "[30149 rows x 13 columns]"
      ]
     },
     "execution_count": 22,
     "metadata": {},
     "output_type": "execute_result"
    }
   ],
   "source": [
    "# 위 분포에서 양쪽 끝의 데이터들이 너무 작기에 이를 추가로 삭제합니다.\n",
    "# 500000개 초과는 1000000으로 변환\n",
    "df_clean.loc[df_clean['Installs']>500000,'Installs'] = 1000000\n",
    "df_clean[df_clean['Installs']>500000]"
   ]
  },
  {
   "cell_type": "code",
   "execution_count": 23,
   "metadata": {
    "colab": {
     "base_uri": "https://localhost:8080/",
     "height": 407
    },
    "executionInfo": {
     "elapsed": 423085,
     "status": "ok",
     "timestamp": 1606459826234,
     "user": {
      "displayName": "‍안상현[학생](경영대학 경영학과)",
      "photoUrl": "",
      "userId": "15732604784560776108"
     },
     "user_tz": -540
    },
    "id": "jwE-P2MZqZug",
    "outputId": "0ce7f073-313e-4227-e694-7d432046a7f6"
   },
   "outputs": [
    {
     "data": {
      "text/html": [
       "<div>\n",
       "<style scoped>\n",
       "    .dataframe tbody tr th:only-of-type {\n",
       "        vertical-align: middle;\n",
       "    }\n",
       "\n",
       "    .dataframe tbody tr th {\n",
       "        vertical-align: top;\n",
       "    }\n",
       "\n",
       "    .dataframe thead th {\n",
       "        text-align: right;\n",
       "    }\n",
       "</style>\n",
       "<table border=\"1\" class=\"dataframe\">\n",
       "  <thead>\n",
       "    <tr style=\"text-align: right;\">\n",
       "      <th></th>\n",
       "      <th>App Name</th>\n",
       "      <th>Category</th>\n",
       "      <th>Rating</th>\n",
       "      <th>Rating Count</th>\n",
       "      <th>Installs</th>\n",
       "      <th>Free</th>\n",
       "      <th>Price</th>\n",
       "      <th>Size</th>\n",
       "      <th>Last Updated</th>\n",
       "      <th>Content Rating</th>\n",
       "      <th>Ad Supported</th>\n",
       "      <th>In App Purchases</th>\n",
       "      <th>Editors Choice</th>\n",
       "    </tr>\n",
       "  </thead>\n",
       "  <tbody>\n",
       "    <tr>\n",
       "      <th>46</th>\n",
       "      <td>Martha Stewart TV</td>\n",
       "      <td>Lifestyle</td>\n",
       "      <td>4.1</td>\n",
       "      <td>28.0</td>\n",
       "      <td>1000</td>\n",
       "      <td>True</td>\n",
       "      <td>0.0</td>\n",
       "      <td>29M</td>\n",
       "      <td>2020-07-15 01:44:32</td>\n",
       "      <td>Everyone</td>\n",
       "      <td>False</td>\n",
       "      <td>True</td>\n",
       "      <td>False</td>\n",
       "    </tr>\n",
       "    <tr>\n",
       "      <th>64</th>\n",
       "      <td>Money Manager - Track your expenses</td>\n",
       "      <td>Finance</td>\n",
       "      <td>4.4</td>\n",
       "      <td>163.0</td>\n",
       "      <td>1000</td>\n",
       "      <td>True</td>\n",
       "      <td>0.0</td>\n",
       "      <td>5.0M</td>\n",
       "      <td>2020-06-02 14:32:02</td>\n",
       "      <td>Everyone</td>\n",
       "      <td>True</td>\n",
       "      <td>True</td>\n",
       "      <td>False</td>\n",
       "    </tr>\n",
       "    <tr>\n",
       "      <th>67</th>\n",
       "      <td>PeaceMe - Meditate &amp; Sleep</td>\n",
       "      <td>Health &amp; Fitness</td>\n",
       "      <td>4.7</td>\n",
       "      <td>39.0</td>\n",
       "      <td>1000</td>\n",
       "      <td>True</td>\n",
       "      <td>0.0</td>\n",
       "      <td>37M</td>\n",
       "      <td>2020-05-20 15:52:42</td>\n",
       "      <td>Everyone</td>\n",
       "      <td>False</td>\n",
       "      <td>True</td>\n",
       "      <td>False</td>\n",
       "    </tr>\n",
       "    <tr>\n",
       "      <th>68</th>\n",
       "      <td>GreenChoice: Healthy Grocery Shopping</td>\n",
       "      <td>Food &amp; Drink</td>\n",
       "      <td>4.7</td>\n",
       "      <td>19.0</td>\n",
       "      <td>1000</td>\n",
       "      <td>True</td>\n",
       "      <td>0.0</td>\n",
       "      <td>30M</td>\n",
       "      <td>2020-07-22 01:55:13</td>\n",
       "      <td>Everyone</td>\n",
       "      <td>False</td>\n",
       "      <td>False</td>\n",
       "      <td>False</td>\n",
       "    </tr>\n",
       "    <tr>\n",
       "      <th>85</th>\n",
       "      <td>FIKASO - Livraison de Repas et de Courses</td>\n",
       "      <td>Food &amp; Drink</td>\n",
       "      <td>4.4</td>\n",
       "      <td>15.0</td>\n",
       "      <td>1000</td>\n",
       "      <td>True</td>\n",
       "      <td>0.0</td>\n",
       "      <td>21M</td>\n",
       "      <td>2019-09-23 09:56:34</td>\n",
       "      <td>Everyone</td>\n",
       "      <td>False</td>\n",
       "      <td>False</td>\n",
       "      <td>False</td>\n",
       "    </tr>\n",
       "    <tr>\n",
       "      <th>...</th>\n",
       "      <td>...</td>\n",
       "      <td>...</td>\n",
       "      <td>...</td>\n",
       "      <td>...</td>\n",
       "      <td>...</td>\n",
       "      <td>...</td>\n",
       "      <td>...</td>\n",
       "      <td>...</td>\n",
       "      <td>...</td>\n",
       "      <td>...</td>\n",
       "      <td>...</td>\n",
       "      <td>...</td>\n",
       "      <td>...</td>\n",
       "    </tr>\n",
       "    <tr>\n",
       "      <th>602909</th>\n",
       "      <td>Camping Capo Ferrato</td>\n",
       "      <td>Travel &amp; Local</td>\n",
       "      <td>5.0</td>\n",
       "      <td>11.0</td>\n",
       "      <td>1000</td>\n",
       "      <td>True</td>\n",
       "      <td>0.0</td>\n",
       "      <td>28M</td>\n",
       "      <td>2019-07-17 20:10:50</td>\n",
       "      <td>Everyone</td>\n",
       "      <td>False</td>\n",
       "      <td>False</td>\n",
       "      <td>False</td>\n",
       "    </tr>\n",
       "    <tr>\n",
       "      <th>602933</th>\n",
       "      <td>Ultimate Rock Ballads</td>\n",
       "      <td>Entertainment</td>\n",
       "      <td>4.9</td>\n",
       "      <td>28.0</td>\n",
       "      <td>1000</td>\n",
       "      <td>True</td>\n",
       "      <td>0.0</td>\n",
       "      <td>3.5M</td>\n",
       "      <td>2020-04-03 13:22:44</td>\n",
       "      <td>Teen</td>\n",
       "      <td>True</td>\n",
       "      <td>False</td>\n",
       "      <td>False</td>\n",
       "    </tr>\n",
       "    <tr>\n",
       "      <th>602941</th>\n",
       "      <td>8 Ball</td>\n",
       "      <td>Sports</td>\n",
       "      <td>4.1</td>\n",
       "      <td>28.0</td>\n",
       "      <td>1000</td>\n",
       "      <td>True</td>\n",
       "      <td>0.0</td>\n",
       "      <td>16M</td>\n",
       "      <td>2020-02-16 11:36:47</td>\n",
       "      <td>Everyone</td>\n",
       "      <td>True</td>\n",
       "      <td>False</td>\n",
       "      <td>False</td>\n",
       "    </tr>\n",
       "    <tr>\n",
       "      <th>602943</th>\n",
       "      <td>Billiards:8 Ball 2-Pocket</td>\n",
       "      <td>Sports</td>\n",
       "      <td>4.3</td>\n",
       "      <td>22.0</td>\n",
       "      <td>1000</td>\n",
       "      <td>True</td>\n",
       "      <td>0.0</td>\n",
       "      <td>21M</td>\n",
       "      <td>2020-02-16 09:41:00</td>\n",
       "      <td>Everyone</td>\n",
       "      <td>True</td>\n",
       "      <td>False</td>\n",
       "      <td>False</td>\n",
       "    </tr>\n",
       "    <tr>\n",
       "      <th>602972</th>\n",
       "      <td>Memorama de las 28 Creencias</td>\n",
       "      <td>Board</td>\n",
       "      <td>4.5</td>\n",
       "      <td>33.0</td>\n",
       "      <td>1000</td>\n",
       "      <td>True</td>\n",
       "      <td>0.0</td>\n",
       "      <td>38M</td>\n",
       "      <td>2015-11-05 22:31:35</td>\n",
       "      <td>Everyone</td>\n",
       "      <td>False</td>\n",
       "      <td>False</td>\n",
       "      <td>False</td>\n",
       "    </tr>\n",
       "  </tbody>\n",
       "</table>\n",
       "<p>80081 rows × 13 columns</p>\n",
       "</div>"
      ],
      "text/plain": [
       "                                         App Name          Category  Rating  \\\n",
       "46                              Martha Stewart TV         Lifestyle     4.1   \n",
       "64            Money Manager - Track your expenses           Finance     4.4   \n",
       "67                     PeaceMe - Meditate & Sleep  Health & Fitness     4.7   \n",
       "68          GreenChoice: Healthy Grocery Shopping      Food & Drink     4.7   \n",
       "85      FIKASO - Livraison de Repas et de Courses      Food & Drink     4.4   \n",
       "...                                           ...               ...     ...   \n",
       "602909                       Camping Capo Ferrato    Travel & Local     5.0   \n",
       "602933                      Ultimate Rock Ballads     Entertainment     4.9   \n",
       "602941                                     8 Ball            Sports     4.1   \n",
       "602943                  Billiards:8 Ball 2-Pocket            Sports     4.3   \n",
       "602972               Memorama de las 28 Creencias             Board     4.5   \n",
       "\n",
       "        Rating Count  Installs  Free  Price  Size         Last Updated  \\\n",
       "46              28.0      1000  True    0.0   29M  2020-07-15 01:44:32   \n",
       "64             163.0      1000  True    0.0  5.0M  2020-06-02 14:32:02   \n",
       "67              39.0      1000  True    0.0   37M  2020-05-20 15:52:42   \n",
       "68              19.0      1000  True    0.0   30M  2020-07-22 01:55:13   \n",
       "85              15.0      1000  True    0.0   21M  2019-09-23 09:56:34   \n",
       "...              ...       ...   ...    ...   ...                  ...   \n",
       "602909          11.0      1000  True    0.0   28M  2019-07-17 20:10:50   \n",
       "602933          28.0      1000  True    0.0  3.5M  2020-04-03 13:22:44   \n",
       "602941          28.0      1000  True    0.0   16M  2020-02-16 11:36:47   \n",
       "602943          22.0      1000  True    0.0   21M  2020-02-16 09:41:00   \n",
       "602972          33.0      1000  True    0.0   38M  2015-11-05 22:31:35   \n",
       "\n",
       "       Content Rating  Ad Supported  In App Purchases  Editors Choice  \n",
       "46           Everyone         False              True           False  \n",
       "64           Everyone          True              True           False  \n",
       "67           Everyone         False              True           False  \n",
       "68           Everyone         False             False           False  \n",
       "85           Everyone         False             False           False  \n",
       "...               ...           ...               ...             ...  \n",
       "602909       Everyone         False             False           False  \n",
       "602933           Teen          True             False           False  \n",
       "602941       Everyone          True             False           False  \n",
       "602943       Everyone          True             False           False  \n",
       "602972       Everyone         False             False           False  \n",
       "\n",
       "[80081 rows x 13 columns]"
      ]
     },
     "execution_count": 23,
     "metadata": {},
     "output_type": "execute_result"
    }
   ],
   "source": [
    "# 5000개 미만은 1000으로 변환\n",
    "df_clean.loc[df_clean['Installs']<5000,'Installs'] = 1000\n",
    "df_clean[df_clean['Installs']<5000]"
   ]
  },
  {
   "cell_type": "code",
   "execution_count": 24,
   "metadata": {
    "colab": {
     "base_uri": "https://localhost:8080/",
     "height": 445
    },
    "executionInfo": {
     "elapsed": 423070,
     "status": "ok",
     "timestamp": 1606459826235,
     "user": {
      "displayName": "‍안상현[학생](경영대학 경영학과)",
      "photoUrl": "",
      "userId": "15732604784560776108"
     },
     "user_tz": -540
    },
    "id": "BjbtM_8iqZug",
    "outputId": "7165654d-3d45-4776-b8fa-6f8cac4adcc1"
   },
   "outputs": [
    {
     "data": {
      "text/plain": [
       "1000        80081\n",
       "5000        45549\n",
       "10000      107995\n",
       "50000       37534\n",
       "100000      58985\n",
       "500000      15335\n",
       "1000000     30149\n",
       "Name: Installs, dtype: int64"
      ]
     },
     "execution_count": 24,
     "metadata": {},
     "output_type": "execute_result"
    },
    {
     "data": {
      "image/png": "[encoded data removed]",
      "text/plain": [
       "<Figure size 432x288 with 1 Axes>"
      ]
     },
     "metadata": {
      "needs_background": "light"
     },
     "output_type": "display_data"
    }
   ],
   "source": [
    "# 다시 분포를 출력합니다.\n",
    "df_clean['Installs'].value_counts().sort_index(ascending=True).plot(kind='bar')\n",
    "df_clean['Installs'].value_counts().sort_index(ascending=True)"
   ]
  },
  {
   "cell_type": "markdown",
   "metadata": {
    "id": "cuJGVeVHqZug"
   },
   "source": [
    "### 3.3. `Free` 시각화"
   ]
  },
  {
   "cell_type": "code",
   "execution_count": 25,
   "metadata": {
    "colab": {
     "base_uri": "https://localhost:8080/",
     "height": 335
    },
    "executionInfo": {
     "elapsed": 423390,
     "status": "ok",
     "timestamp": 1606459826579,
     "user": {
      "displayName": "‍안상현[학생](경영대학 경영학과)",
      "photoUrl": "",
      "userId": "15732604784560776108"
     },
     "user_tz": -540
    },
    "id": "SK574S7-qZug",
    "outputId": "065b2879-f917-47be-f14d-76afafe34a31"
   },
   "outputs": [
    {
     "data": {
      "text/plain": [
       "True     358629\n",
       "False     16999\n",
       "Name: Free, dtype: int64"
      ]
     },
     "execution_count": 25,
     "metadata": {},
     "output_type": "execute_result"
    },
    {
     "data": {
      "image/png": "[encoded data removed]",
      "text/plain": [
       "<Figure size 432x288 with 1 Axes>"
      ]
     },
     "metadata": {
      "needs_background": "light"
     },
     "output_type": "display_data"
    }
   ],
   "source": [
    "# 분포를 막대 그래프를 사용하여 출력합니다.\n",
    "df_clean['Free'].value_counts().plot(kind='bar')\n",
    "\n",
    "# 분포를 도수분포표로 확인합니다.\n",
    "df_clean['Free'].value_counts()"
   ]
  },
  {
   "cell_type": "markdown",
   "metadata": {
    "id": "41L7ZOIeqZug"
   },
   "source": [
    "### 3.4. `Last Updated` 시각화"
   ]
  },
  {
   "cell_type": "code",
   "execution_count": 26,
   "metadata": {
    "colab": {
     "base_uri": "https://localhost:8080/"
    },
    "executionInfo": {
     "elapsed": 423691,
     "status": "ok",
     "timestamp": 1606459826895,
     "user": {
      "displayName": "‍안상현[학생](경영대학 경영학과)",
      "photoUrl": "",
      "userId": "15732604784560776108"
     },
     "user_tz": -540
    },
    "id": "gxdMoOz0qZug",
    "outputId": "15195ba0-54d9-44f4-91a1-f4bae6f665c8"
   },
   "outputs": [
    {
     "data": {
      "text/plain": [
       "2020-07-13 07:39:47    4\n",
       "2020-07-13 07:38:25    4\n",
       "2020-07-08 14:07:44    4\n",
       "2020-04-15 19:45:13    4\n",
       "2020-07-13 07:38:00    4\n",
       "                      ..\n",
       "2020-06-07 21:43:34    1\n",
       "2020-04-07 17:04:09    1\n",
       "2018-01-09 21:07:34    1\n",
       "2020-06-17 19:54:46    1\n",
       "2019-12-05 02:21:56    1\n",
       "Name: Last Updated, Length: 373778, dtype: int64"
      ]
     },
     "execution_count": 26,
     "metadata": {},
     "output_type": "execute_result"
    }
   ],
   "source": [
    "# 분포를 도수분포표로 확인합니다.\n",
    "df_clean['Last Updated'].value_counts()"
   ]
  },
  {
   "cell_type": "code",
   "execution_count": 27,
   "metadata": {
    "id": "T0EywX6TqZug"
   },
   "outputs": [],
   "source": [
    "# 날짜와 시간 정보인 Last Updated를 가공하여 새로운 정보를 갖는 데이터를 만들어 저장해봅시다.\n",
    "# 간단하게 올해 업데이트가 되었는지 안되었는지를 알 수 있는 'Last update since 2020' 변수를 만들어 추가해봅시다.\n",
    "\n",
    "# 1. df_clean['Last Updated']\n",
    "# 2. for d in df_clean['Last Updated']:\n",
    "#       print(d)\n",
    "\n",
    "#3. for d in df_clean['Last Updated']:\n",
    "#       print(d.split(\"-\")[0])\n",
    "\n",
    "#4. [d.split('-')[0] == '2020' for d in df_clean['Last Updated']]\n",
    "df_clean['Last update since 2020'] = [d.split('-')[0] == '2020' for d in df_clean['Last Updated']]"
   ]
  },
  {
   "cell_type": "code",
   "execution_count": 28,
   "metadata": {
    "colab": {
     "base_uri": "https://localhost:8080/",
     "height": 335
    },
    "executionInfo": {
     "elapsed": 424147,
     "status": "ok",
     "timestamp": 1606459827371,
     "user": {
      "displayName": "‍안상현[학생](경영대학 경영학과)",
      "photoUrl": "",
      "userId": "15732604784560776108"
     },
     "user_tz": -540
    },
    "id": "U_wkhgbOqZug",
    "outputId": "09dca9ae-5f1b-44fe-fe50-3364236e2587"
   },
   "outputs": [
    {
     "data": {
      "text/plain": [
       "False    204568\n",
       "True     171060\n",
       "Name: Last update since 2020, dtype: int64"
      ]
     },
     "execution_count": 28,
     "metadata": {},
     "output_type": "execute_result"
    },
    {
     "data": {
      "image/png": "[encoded data removed]",
      "text/plain": [
       "<Figure size 432x288 with 1 Axes>"
      ]
     },
     "metadata": {
      "needs_background": "light"
     },
     "output_type": "display_data"
    }
   ],
   "source": [
    "# 분포를 막대 그래프를 사용하여 출력합니다.\n",
    "df_clean['Last update since 2020'].value_counts().plot(kind='bar')\n",
    "\n",
    "# 분포를 도수분포표로 확인합니다.\n",
    "df_clean['Last update since 2020'].value_counts()"
   ]
  },
  {
   "cell_type": "markdown",
   "metadata": {
    "id": "JrGKj6_0qZug"
   },
   "source": [
    "### 3.5. `Content Rating` 시각화 "
   ]
  },
  {
   "cell_type": "code",
   "execution_count": 29,
   "metadata": {
    "colab": {
     "base_uri": "https://localhost:8080/",
     "height": 462
    },
    "executionInfo": {
     "elapsed": 424743,
     "status": "ok",
     "timestamp": 1606459827987,
     "user": {
      "displayName": "‍안상현[학생](경영대학 경영학과)",
      "photoUrl": "",
      "userId": "15732604784560776108"
     },
     "user_tz": -540
    },
    "id": "SOPccFXEqZug",
    "outputId": "c8318e27-d857-4534-813c-ee97733e4a88"
   },
   "outputs": [
    {
     "data": {
      "text/plain": [
       "Everyone           328910\n",
       "Teen                30289\n",
       "Everyone 10+         8209\n",
       "Mature 17+           8184\n",
       "Unrated                19\n",
       "Adults only 18+        17\n",
       "Name: Content Rating, dtype: int64"
      ]
     },
     "execution_count": 29,
     "metadata": {},
     "output_type": "execute_result"
    },
    {
     "data": {
      "image/png": "[encoded data removed]",
      "text/plain": [
       "<Figure size 432x288 with 1 Axes>"
      ]
     },
     "metadata": {
      "needs_background": "light"
     },
     "output_type": "display_data"
    }
   ],
   "source": [
    "# 분포를 막대 그래프를 사용하여 출력합니다.\n",
    "df_clean['Content Rating'].value_counts().plot(kind='bar')\n",
    "\n",
    "# 분포를 도수분포표로 확인합니다.\n",
    "df_clean['Content Rating'].value_counts()"
   ]
  },
  {
   "cell_type": "markdown",
   "metadata": {
    "id": "V89FjHKIqZug"
   },
   "source": [
    "### 3.6. `Ad Supported` 시각화 "
   ]
  },
  {
   "cell_type": "code",
   "execution_count": 30,
   "metadata": {
    "colab": {
     "base_uri": "https://localhost:8080/",
     "height": 335
    },
    "executionInfo": {
     "elapsed": 424727,
     "status": "ok",
     "timestamp": 1606459827989,
     "user": {
      "displayName": "‍안상현[학생](경영대학 경영학과)",
      "photoUrl": "",
      "userId": "15732604784560776108"
     },
     "user_tz": -540
    },
    "id": "rxYwKXZmqZug",
    "outputId": "d39fadde-cb69-49ad-9e7d-515b8c7d4784"
   },
   "outputs": [
    {
     "data": {
      "text/plain": [
       "True     223456\n",
       "False    152172\n",
       "Name: Ad Supported, dtype: int64"
      ]
     },
     "execution_count": 30,
     "metadata": {},
     "output_type": "execute_result"
    },
    {
     "data": {
      "image/png": "[encoded data removed]",
      "text/plain": [
       "<Figure size 432x288 with 1 Axes>"
      ]
     },
     "metadata": {
      "needs_background": "light"
     },
     "output_type": "display_data"
    }
   ],
   "source": [
    "# 분포를 막대 그래프를 사용하여 출력합니다.\n",
    "df_clean['Ad Supported'].value_counts().plot(kind='bar')\n",
    "\n",
    "# 분포를 도수분포표로 확인합니다.\n",
    "df_clean['Ad Supported'].value_counts()"
   ]
  },
  {
   "cell_type": "markdown",
   "metadata": {
    "id": "gjNifNJoqZuh"
   },
   "source": [
    "### 3.7. `In App Purchases` 시각화 "
   ]
  },
  {
   "cell_type": "code",
   "execution_count": 31,
   "metadata": {
    "colab": {
     "base_uri": "https://localhost:8080/",
     "height": 335
    },
    "executionInfo": {
     "elapsed": 424709,
     "status": "ok",
     "timestamp": 1606459827990,
     "user": {
      "displayName": "‍안상현[학생](경영대학 경영학과)",
      "photoUrl": "",
      "userId": "15732604784560776108"
     },
     "user_tz": -540
    },
    "id": "bMYE9-9nqZuh",
    "outputId": "c9dc3774-3ce1-476c-f32f-c8dc828f5f4e"
   },
   "outputs": [
    {
     "data": {
      "text/plain": [
       "False    305963\n",
       "True      69665\n",
       "Name: In App Purchases, dtype: int64"
      ]
     },
     "execution_count": 31,
     "metadata": {},
     "output_type": "execute_result"
    },
    {
     "data": {
      "image/png": "[encoded data removed]",
      "text/plain": [
       "<Figure size 432x288 with 1 Axes>"
      ]
     },
     "metadata": {
      "needs_background": "light"
     },
     "output_type": "display_data"
    }
   ],
   "source": [
    "# 분포를 막대 그래프를 사용하여 출력합니다.\n",
    "df_clean['In App Purchases'].value_counts().plot(kind='bar')\n",
    "\n",
    "# 분포를 도수분포표로 확인합니다.\n",
    "df_clean['In App Purchases'].value_counts()"
   ]
  },
  {
   "cell_type": "markdown",
   "metadata": {
    "id": "KgD5knKGqZuh"
   },
   "source": [
    "### 3.8. `Editors Choice` 시각화 "
   ]
  },
  {
   "cell_type": "code",
   "execution_count": 32,
   "metadata": {
    "colab": {
     "base_uri": "https://localhost:8080/",
     "height": 335
    },
    "executionInfo": {
     "elapsed": 425005,
     "status": "ok",
     "timestamp": 1606459828304,
     "user": {
      "displayName": "‍안상현[학생](경영대학 경영학과)",
      "photoUrl": "",
      "userId": "15732604784560776108"
     },
     "user_tz": -540
    },
    "id": "PYkZGXKdqZuh",
    "outputId": "8ace97fd-656e-4754-ee95-b05dfe71ab78",
    "scrolled": true
   },
   "outputs": [
    {
     "data": {
      "text/plain": [
       "False    374783\n",
       "True        845\n",
       "Name: Editors Choice, dtype: int64"
      ]
     },
     "execution_count": 32,
     "metadata": {},
     "output_type": "execute_result"
    },
    {
     "data": {
      "image/png": "[encoded data removed]",
      "text/plain": [
       "<Figure size 432x288 with 1 Axes>"
      ]
     },
     "metadata": {
      "needs_background": "light"
     },
     "output_type": "display_data"
    }
   ],
   "source": [
    "# 분포를 막대 그래프를 사용하여 출력합니다.\n",
    "df_clean['Editors Choice'].value_counts().plot(kind='bar')\n",
    "\n",
    "# 분포를 도수분포표로 확인합니다.\n",
    "df_clean['Editors Choice'].value_counts()"
   ]
  },
  {
   "cell_type": "markdown",
   "metadata": {
    "id": "H8Se0fMpqZuh"
   },
   "source": [
    " "
   ]
  },
  {
   "cell_type": "markdown",
   "metadata": {
    "id": "msoC8LVZqZuh"
   },
   "source": [
    "## 4. 데이터 전처리\n",
    "\n",
    "> 머신러닝 모델을 사용하기 위해서 데이터를 준비하는 파트입니다. 본 실습에서는 특성 엔지니어링 기법 중 더미(dummy) 방식과 학습&테스트 데이터를 분리 하는 과정을 다룹니다. \n",
    "\n",
    "> 본 실습에서의 더미에서는 어떠한 데이터를 머신러닝의 feature로 사용할 것인가를 결정하는 중요한 파트라 생각합니다. 0,1만을 사용하는 더미 방식 외에 object 자료형을 변환하는 다양한 기법들이 있고 이를 어떻게 적용하느냐에 따라 성능에 큰 영향을 줄 수 있다는 지도가 있었으면 합니다.\n",
    "\n",
    "> 학습, 테스트 분리에서는 왜 데이터를 분리에서 사용하는지에 대한 설명이 해주시면 좋을 거 같습니다.\n",
    "\n",
    "\n",
    "> 추가로 데이터 정규화를 수행하는데 StandardScaler 이외의 minmax 정규화 등의 다양한 기법들을 소개해주시고 왜 정규화가 필요한지를 지도하면 좋을 거 같습니다."
   ]
  },
  {
   "cell_type": "markdown",
   "metadata": {
    "id": "Z1BxOMMJqZuh"
   },
   "source": [
    "앱 평점 예측을 수행하기 위해서 주어진 구글 앱 데이터에 대해서 회귀 모델을 사용할 것입니다.\n",
    "\n",
    "이번 파트에서는 11개의 변수만을 사용하여 예측을 수행하지만, 나머지 12개의 변수들을 추가하여 입력 데이터를 확장할 수 있습니다.\n",
    "\n",
    "회귀 모델의 필요한 입력 데이터를 준비 하기위해서 다음과 같은 전처리를 수행하겠습니다.\n",
    "\n",
    "1. Object 자료형 -> 숫자 자료형 변환하기\n",
    "2. 학습 데이터와 테스트 데이터로 나누기"
   ]
  },
  {
   "cell_type": "markdown",
   "metadata": {
    "id": "J9wMyYWbqZuh"
   },
   "source": [
    "### 4.1. 더미변수(Dummy Variable)를 활용하여 Object 자료형을 수치형으로 변환\n",
    "\n",
    "---\n",
    "\n"
   ]
  },
  {
   "cell_type": "markdown",
   "metadata": {
    "id": "tEUXVxZjqZuh"
   },
   "source": [
    "일반적인 머신러닝 모델에서는 수치 자료형만을 입력값으로 사용합니다. 따라서 수치 자료형만을 사용하여 입력값으로 사용할 수 있지만, 신용 예측을 위한 데이터에 존재하는 `Content Rating` 변수의 데이터들은 중요한 정보일 수 잇는 object 자료형을 사용할 수가 없습니다.\n",
    "\n",
    "그렇기에 이러한 object 자료형을 수치 자료형으로 변환하는 dummy 방식을 사용하여 다양한 데이터를 수치형 입력으로 사용해 봅시다."
   ]
  },
  {
   "cell_type": "code",
   "execution_count": 33,
   "metadata": {},
   "outputs": [
    {
     "name": "stdout",
     "output_type": "stream",
     "text": [
      "<class 'pandas.core.frame.DataFrame'>\n",
      "Int64Index: 375628 entries, 0 to 603006\n",
      "Data columns (total 14 columns):\n",
      " #   Column                  Non-Null Count   Dtype  \n",
      "---  ------                  --------------   -----  \n",
      " 0   App Name                375628 non-null  object \n",
      " 1   Category                375628 non-null  object \n",
      " 2   Rating                  375628 non-null  float64\n",
      " 3   Rating Count            375628 non-null  float64\n",
      " 4   Installs                375628 non-null  int64  \n",
      " 5   Free                    375628 non-null  bool   \n",
      " 6   Price                   375628 non-null  float64\n",
      " 7   Size                    375628 non-null  object \n",
      " 8   Last Updated            375628 non-null  object \n",
      " 9   Content Rating          375628 non-null  object \n",
      " 10  Ad Supported            375628 non-null  bool   \n",
      " 11  In App Purchases        375628 non-null  bool   \n",
      " 12  Editors Choice          375628 non-null  bool   \n",
      " 13  Last update since 2020  375628 non-null  bool   \n",
      "dtypes: bool(5), float64(3), int64(1), object(5)\n",
      "memory usage: 30.4+ MB\n"
     ]
    }
   ],
   "source": [
    "df_clean.info()"
   ]
  },
  {
   "cell_type": "code",
   "execution_count": 34,
   "metadata": {
    "scrolled": true
   },
   "outputs": [
    {
     "data": {
      "text/html": [
       "<div>\n",
       "<style scoped>\n",
       "    .dataframe tbody tr th:only-of-type {\n",
       "        vertical-align: middle;\n",
       "    }\n",
       "\n",
       "    .dataframe tbody tr th {\n",
       "        vertical-align: top;\n",
       "    }\n",
       "\n",
       "    .dataframe thead th {\n",
       "        text-align: right;\n",
       "    }\n",
       "</style>\n",
       "<table border=\"1\" class=\"dataframe\">\n",
       "  <thead>\n",
       "    <tr style=\"text-align: right;\">\n",
       "      <th></th>\n",
       "      <th>App Name</th>\n",
       "      <th>Category</th>\n",
       "      <th>Rating</th>\n",
       "      <th>Rating Count</th>\n",
       "      <th>Installs</th>\n",
       "      <th>Free</th>\n",
       "      <th>Price</th>\n",
       "      <th>Size</th>\n",
       "      <th>Last Updated</th>\n",
       "      <th>Content Rating</th>\n",
       "      <th>Ad Supported</th>\n",
       "      <th>In App Purchases</th>\n",
       "      <th>Editors Choice</th>\n",
       "      <th>Last update since 2020</th>\n",
       "    </tr>\n",
       "  </thead>\n",
       "  <tbody>\n",
       "    <tr>\n",
       "      <th>0</th>\n",
       "      <td>foodpanda - Local Food &amp; Grocery Delivery</td>\n",
       "      <td>Food &amp; Drink</td>\n",
       "      <td>4.4</td>\n",
       "      <td>1258493.0</td>\n",
       "      <td>1000000</td>\n",
       "      <td>True</td>\n",
       "      <td>0.00</td>\n",
       "      <td>21M</td>\n",
       "      <td>2020-07-07 00:14:05</td>\n",
       "      <td>Everyone</td>\n",
       "      <td>False</td>\n",
       "      <td>False</td>\n",
       "      <td>False</td>\n",
       "      <td>True</td>\n",
       "    </tr>\n",
       "    <tr>\n",
       "      <th>1</th>\n",
       "      <td>Tripadvisor Hotel, Flight &amp; Restaurant Bookings</td>\n",
       "      <td>Travel &amp; Local</td>\n",
       "      <td>4.4</td>\n",
       "      <td>1360172.0</td>\n",
       "      <td>1000000</td>\n",
       "      <td>True</td>\n",
       "      <td>0.00</td>\n",
       "      <td>Varies with device</td>\n",
       "      <td>2020-07-02 20:10:48</td>\n",
       "      <td>Everyone</td>\n",
       "      <td>True</td>\n",
       "      <td>False</td>\n",
       "      <td>False</td>\n",
       "      <td>True</td>\n",
       "    </tr>\n",
       "    <tr>\n",
       "      <th>2</th>\n",
       "      <td>Safeway Delivery &amp; Pick Up</td>\n",
       "      <td>Shopping</td>\n",
       "      <td>4.2</td>\n",
       "      <td>5532.0</td>\n",
       "      <td>500000</td>\n",
       "      <td>True</td>\n",
       "      <td>0.00</td>\n",
       "      <td>12M</td>\n",
       "      <td>2020-07-16 23:21:50</td>\n",
       "      <td>Everyone</td>\n",
       "      <td>False</td>\n",
       "      <td>False</td>\n",
       "      <td>False</td>\n",
       "      <td>True</td>\n",
       "    </tr>\n",
       "    <tr>\n",
       "      <th>3</th>\n",
       "      <td>My CookBook Ad-Free</td>\n",
       "      <td>Food &amp; Drink</td>\n",
       "      <td>4.7</td>\n",
       "      <td>2531.0</td>\n",
       "      <td>10000</td>\n",
       "      <td>False</td>\n",
       "      <td>5.99</td>\n",
       "      <td>Varies with device</td>\n",
       "      <td>2020-07-07 12:41:28</td>\n",
       "      <td>Everyone</td>\n",
       "      <td>False</td>\n",
       "      <td>False</td>\n",
       "      <td>False</td>\n",
       "      <td>True</td>\n",
       "    </tr>\n",
       "    <tr>\n",
       "      <th>4</th>\n",
       "      <td>Talabat: Food &amp; Grocery Delivery</td>\n",
       "      <td>Food &amp; Drink</td>\n",
       "      <td>4.4</td>\n",
       "      <td>197649.0</td>\n",
       "      <td>1000000</td>\n",
       "      <td>True</td>\n",
       "      <td>0.00</td>\n",
       "      <td>Varies with device</td>\n",
       "      <td>2020-07-15 19:21:16</td>\n",
       "      <td>Mature 17+</td>\n",
       "      <td>True</td>\n",
       "      <td>False</td>\n",
       "      <td>False</td>\n",
       "      <td>True</td>\n",
       "    </tr>\n",
       "  </tbody>\n",
       "</table>\n",
       "</div>"
      ],
      "text/plain": [
       "                                          App Name        Category  Rating  \\\n",
       "0        foodpanda - Local Food & Grocery Delivery    Food & Drink     4.4   \n",
       "1  Tripadvisor Hotel, Flight & Restaurant Bookings  Travel & Local     4.4   \n",
       "2                       Safeway Delivery & Pick Up        Shopping     4.2   \n",
       "3                              My CookBook Ad-Free    Food & Drink     4.7   \n",
       "4                 Talabat: Food & Grocery Delivery    Food & Drink     4.4   \n",
       "\n",
       "   Rating Count  Installs   Free  Price                Size  \\\n",
       "0     1258493.0   1000000   True   0.00                 21M   \n",
       "1     1360172.0   1000000   True   0.00  Varies with device   \n",
       "2        5532.0    500000   True   0.00                 12M   \n",
       "3        2531.0     10000  False   5.99  Varies with device   \n",
       "4      197649.0   1000000   True   0.00  Varies with device   \n",
       "\n",
       "          Last Updated Content Rating  Ad Supported  In App Purchases  \\\n",
       "0  2020-07-07 00:14:05       Everyone         False             False   \n",
       "1  2020-07-02 20:10:48       Everyone          True             False   \n",
       "2  2020-07-16 23:21:50       Everyone         False             False   \n",
       "3  2020-07-07 12:41:28       Everyone         False             False   \n",
       "4  2020-07-15 19:21:16     Mature 17+          True             False   \n",
       "\n",
       "   Editors Choice  Last update since 2020  \n",
       "0           False                    True  \n",
       "1           False                    True  \n",
       "2           False                    True  \n",
       "3           False                    True  \n",
       "4           False                    True  "
      ]
     },
     "execution_count": 34,
     "metadata": {},
     "output_type": "execute_result"
    }
   ],
   "source": [
    "df_clean.head()"
   ]
  },
  {
   "cell_type": "code",
   "execution_count": 35,
   "metadata": {
    "id": "S3l5sBdhqZuh"
   },
   "outputs": [],
   "source": [
    "# 2개의 카테고리를 갖는 데이터는 replace를 사용하여 0,1로 변환 합니다.\n",
    "df_clean = df_clean.replace([True,False],[1,0])\n",
    "\n",
    "# object 자료형 데이터의 변수를 정리합니다.\n",
    "chr_features = ['Category']\n",
    "\n",
    "# 수치 자료형 데이터의 변수를 정리합니다.\n",
    "num_features=['Rating Count', 'Installs', 'Free', 'Price', 'Last update since 2020', 'Ad Supported','In App Purchases', 'Editors Choice']\n",
    "\n",
    "# 더미를 기법을 사용하여 변환합니다.\n",
    "for variable in chr_features:\n",
    "    \n",
    "    # pandas의 더미 방식을 사용하여 object 자료형 데이터를 변환한 dataframe을 생성합니다.\n",
    "    dummies = pd.get_dummies(df_clean[chr_features])\n",
    "    # 기존 수치형 데이터에 더미로 새로 생성된 데이터를 추가합니다.\n",
    "    df_dummy= pd.concat([df_clean[num_features], dummies],axis=1)"
   ]
  },
  {
   "cell_type": "code",
   "execution_count": 36,
   "metadata": {
    "colab": {
     "base_uri": "https://localhost:8080/"
    },
    "executionInfo": {
     "elapsed": 425819,
     "status": "ok",
     "timestamp": 1606459829137,
     "user": {
      "displayName": "‍안상현[학생](경영대학 경영학과)",
      "photoUrl": "",
      "userId": "15732604784560776108"
     },
     "user_tz": -540
    },
    "id": "yYEDfvT2qZuh",
    "outputId": "88e79107-17cc-48d0-cccd-86260846042f"
   },
   "outputs": [
    {
     "data": {
      "text/plain": [
       "Index(['Rating Count', 'Installs', 'Free', 'Price', 'Last update since 2020',\n",
       "       'Ad Supported', 'In App Purchases', 'Editors Choice', 'Category_Action',\n",
       "       'Category_Adventure', 'Category_Arcade', 'Category_Art & Design',\n",
       "       'Category_Auto & Vehicles', 'Category_Beauty', 'Category_Board',\n",
       "       'Category_Books & Reference', 'Category_Business', 'Category_Card',\n",
       "       'Category_Casino', 'Category_Casual', 'Category_Comics',\n",
       "       'Category_Communication', 'Category_Dating', 'Category_Education',\n",
       "       'Category_Educational', 'Category_Entertainment', 'Category_Events',\n",
       "       'Category_Finance', 'Category_Food & Drink',\n",
       "       'Category_Health & Fitness', 'Category_House & Home',\n",
       "       'Category_Libraries & Demo', 'Category_Lifestyle',\n",
       "       'Category_Maps & Navigation', 'Category_Medical', 'Category_Music',\n",
       "       'Category_Music & Audio', 'Category_News & Magazines',\n",
       "       'Category_Parenting', 'Category_Personalization',\n",
       "       'Category_Photography', 'Category_Productivity', 'Category_Puzzle',\n",
       "       'Category_Racing', 'Category_Role Playing', 'Category_Shopping',\n",
       "       'Category_Simulation', 'Category_Social', 'Category_Sports',\n",
       "       'Category_Strategy', 'Category_Tools', 'Category_Travel & Local',\n",
       "       'Category_Trivia', 'Category_Video Players & Editors',\n",
       "       'Category_Weather', 'Category_Word'],\n",
       "      dtype='object')"
      ]
     },
     "execution_count": 36,
     "metadata": {},
     "output_type": "execute_result"
    }
   ],
   "source": [
    "df_dummy.columns"
   ]
  },
  {
   "cell_type": "code",
   "execution_count": 37,
   "metadata": {
    "colab": {
     "base_uri": "https://localhost:8080/"
    },
    "executionInfo": {
     "elapsed": 425806,
     "status": "ok",
     "timestamp": 1606459829138,
     "user": {
      "displayName": "‍안상현[학생](경영대학 경영학과)",
      "photoUrl": "",
      "userId": "15732604784560776108"
     },
     "user_tz": -540
    },
    "id": "uG6oD5ApqZuh",
    "outputId": "bbcedae5-f20b-489d-eca9-e81d11734816"
   },
   "outputs": [
    {
     "name": "stdout",
     "output_type": "stream",
     "text": [
      "(375628, 56)\n"
     ]
    }
   ],
   "source": [
    "# 더미로 구한 데이터를 numpy 형태로 머신러닝 입력값인 x에 저장합니다.\n",
    "x = df_dummy.to_numpy()\n",
    "print(np.shape(x))"
   ]
  },
  {
   "cell_type": "code",
   "execution_count": 38,
   "metadata": {
    "colab": {
     "base_uri": "https://localhost:8080/"
    },
    "executionInfo": {
     "elapsed": 425793,
     "status": "ok",
     "timestamp": 1606459829139,
     "user": {
      "displayName": "‍안상현[학생](경영대학 경영학과)",
      "photoUrl": "",
      "userId": "15732604784560776108"
     },
     "user_tz": -540
    },
    "id": "doyI3TL1qZuh",
    "outputId": "092f2891-1166-4e34-a517-40787c9c35f6"
   },
   "outputs": [
    {
     "name": "stdout",
     "output_type": "stream",
     "text": [
      "(375628,)\n"
     ]
    }
   ],
   "source": [
    "# 예측해야 할 변수 `Rating`만을 선택하여 numpy 형태로 y에 저장합니다.\n",
    "y = df_clean['Rating']\n",
    "#dimension check\n",
    "print(np.shape(y.to_numpy()))\n",
    "y = y.to_numpy()\n",
    "#y = y.to_numpy().ravel() # 1 차원 벡터 형태로 출력하기 위해 ravel 사용 => 이미 1차원이므로 딱히 필요 없음\n"
   ]
  },
  {
   "cell_type": "markdown",
   "metadata": {
    "id": "eLSxkEZCqZuh"
   },
   "source": [
    "### 4.2. 학습, 테스트 데이터 분리\n",
    "\n",
    "---\n",
    "\n"
   ]
  },
  {
   "cell_type": "markdown",
   "metadata": {
    "id": "e3xOdmgCqZuh"
   },
   "source": [
    "머신러닝의 성능을 평가 하기 위해서는 전체 데이터를 학습에 사용하지 않고 학습용 데이터와 테스트용 데이터를 나누어 사용합니다."
   ]
  },
  {
   "cell_type": "markdown",
   "metadata": {
    "id": "HBV9fo4RQJwX"
   },
   "source": [
    "<Train set과 Test set을 나누는 이유> \n",
    "\n",
    "우리는 새로운 데이터에 이 모델이 얼마나 잘 들어맞는지 알고 싶습니다. 그런데 가지고 있는 데이터를 모두 모델 만드는데 써버리면, 그 모델이 새로운 데이터에 얼마나 잘 들어맞는지 모르게 됩니다. 그래서 보유한 데이터에서 test set을 따로 떼어놓고 training set으로만 모델을 만든 다음, test set으로 새로운 데이터에 얼마나 잘 들어맞는지 확인합니다"
   ]
  },
  {
   "cell_type": "code",
   "execution_count": 39,
   "metadata": {
    "id": "2QWO95HdqZuh"
   },
   "outputs": [],
   "source": [
    "from sklearn.model_selection import train_test_split\n",
    "\n",
    "# sklearn에서 제공하는 train_test_split을 사용하여 손 쉽게 분리 할 수 있습니다.\n",
    "x_train, x_test, y_train, y_test = train_test_split(x, y, test_size = 0.3, random_state = 50)"
   ]
  },
  {
   "cell_type": "markdown",
   "metadata": {
    "id": "q3-vJpvYqZuh"
   },
   "source": [
    "### 4.3. 데이터 정규화"
   ]
  },
  {
   "cell_type": "markdown",
   "metadata": {
    "id": "N2ls8LFJ33xE"
   },
   "source": [
    "정규화 이유\n",
    "1. 정규화하지 않으면 스케일이 큰 변수가 영향을 크게 받아 다른 변수를 잡아먹는다 \n",
    "\n",
    "2. 단위가 모두 다르기 때문에 모든 변수를 같은 스케일로 맞춤\n",
    "\n",
    "a. min-max\n",
    "\n",
    "b. standardization → 표준정규분포로 만들기 \n"
   ]
  },
  {
   "cell_type": "markdown",
   "metadata": {
    "id": "-I3y1Qs_qZuh"
   },
   "source": [
    "각 변수 마다의 스케일 차이를 맞추기 위하여 정규화를 수행합니다."
   ]
  },
  {
   "cell_type": "code",
   "execution_count": 40,
   "metadata": {
    "id": "tF7ZZtPxqZuh"
   },
   "outputs": [],
   "source": [
    "from sklearn.preprocessing import StandardScaler #사이킷런\n",
    "\n",
    "# 정규화를 위해서 StandardScaler 불러오기\n",
    "sc = StandardScaler()\n",
    "\n",
    "# x_train에 있는 데이터에 맞춰 정규화를 진행\n",
    "x_train = sc.fit_transform(x_train)\n",
    "x_test = sc.transform(x_test)"
   ]
  },
  {
   "cell_type": "markdown",
   "metadata": {
    "id": "VdJ1cuuXqZuh"
   },
   "source": [
    " "
   ]
  },
  {
   "cell_type": "markdown",
   "metadata": {
    "id": "kg2kCdcBqZuh"
   },
   "source": [
    "## 5. 머신러닝 모델 수행\n",
    "\n",
    "> 머신러닝 모델의 경우에는 단순 선형 회귀, 다항 회귀, 트리모델 간의 장단점을 위주로 설명해주셨으면 좋겠습니다. 각 모델의 원리와 파라미터와 특징에 대해서 설명하게 되면 너무나 많은 힘이 들기에 간단하게 sklearn에서의 사용법과 평가 방식에 힘을 들여 설명해주시면 좋을 거 같습니다.\n",
    "\n",
    "> 평가 방식으로는 RMSE와 R2를 사용하기에 이에 대한 설명을 꼭 해주셨으면 좋겠습니다."
   ]
  },
  {
   "cell_type": "markdown",
   "metadata": {
    "id": "xOLf4-E6tR_-"
   },
   "source": [
    "> 평가방법: \n",
    "> RMSE(Root Mean Square Error, 평균 제곱근 오차)\n",
    "\n",
    "![128958_2016-06-23 13_45_36-Root Mean Squared Error _ Kaggle.png](data:image/png;base64,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)"
   ]
  },
  {
   "cell_type": "markdown",
   "metadata": {
    "id": "QnIrIpWIqZuh"
   },
   "source": [
    "전처리된 데이터를 바탕으로 회귀 모델을 학습을 수행하고 학습 결과를 출력 해봅니다.\n",
    "\n",
    "먼저 기본적인 회귀 모델인 **단순 선형 회귀(Simple linear regression)**를 사용하여 학습을 수행하고, 다양한 모델들을 살펴봅시다."
   ]
  },
  {
   "cell_type": "markdown",
   "metadata": {
    "id": "MerLaeGGqZui"
   },
   "source": [
    "### 5.1. 단순 선형 회귀"
   ]
  },
  {
   "cell_type": "markdown",
   "metadata": {
    "id": "S6Rx2mLus72v"
   },
   "source": [
    "회귀(Regression) 라는 개념은 "
   ]
  },
  {
   "cell_type": "markdown",
   "metadata": {
    "id": "8BSRgpQXqZui"
   },
   "source": [
    "#### 5.1.1. 학습"
   ]
  },
  {
   "cell_type": "code",
   "execution_count": 41,
   "metadata": {
    "colab": {
     "base_uri": "https://localhost:8080/"
    },
    "executionInfo": {
     "elapsed": 426098,
     "status": "ok",
     "timestamp": 1606459829465,
     "user": {
      "displayName": "‍안상현[학생](경영대학 경영학과)",
      "photoUrl": "",
      "userId": "15732604784560776108"
     },
     "user_tz": -540
    },
    "id": "PaSsbuBmqZui",
    "outputId": "c6d71852-8e47-4f27-956c-3c9495ce7265"
   },
   "outputs": [
    {
     "data": {
      "text/plain": [
       "LinearRegression()"
      ]
     },
     "execution_count": 41,
     "metadata": {},
     "output_type": "execute_result"
    }
   ],
   "source": [
    "from sklearn.linear_model import LinearRegression\n",
    "\n",
    "# 선형 회귀 모델 class를 불러옵니다.\n",
    "model = LinearRegression()\n",
    "\n",
    "# fit 함수를 사용하여 학습을 수행합니다.\n",
    "model.fit(x_train, y_train)"
   ]
  },
  {
   "cell_type": "markdown",
   "metadata": {
    "id": "dF_oxCloqZui"
   },
   "source": [
    "#### 5.1.2. 평가"
   ]
  },
  {
   "cell_type": "markdown",
   "metadata": {
    "id": "wZB0Unf86ucK"
   },
   "source": [
    "회귀분석에서는 결정계수(R^2)라는 평가 방법도 추가로 활용합니다.\n",
    "결정계수란, 해당 모델이 데이터를 얼마나 잘 설명하는지를 나타냅니다.\n"
   ]
  },
  {
   "cell_type": "code",
   "execution_count": 42,
   "metadata": {
    "colab": {
     "base_uri": "https://localhost:8080/"
    },
    "executionInfo": {
     "elapsed": 426085,
     "status": "ok",
     "timestamp": 1606459829466,
     "user": {
      "displayName": "‍안상현[학생](경영대학 경영학과)",
      "photoUrl": "",
      "userId": "15732604784560776108"
     },
     "user_tz": -540
    },
    "id": "hmaAMR94qZui",
    "outputId": "65a249d1-25fc-4de0-a9ae-37187aae2f4c"
   },
   "outputs": [
    {
     "name": "stdout",
     "output_type": "stream",
     "text": [
      "train data RMSE:  0.5625153943952628\n",
      "train data R2:  0.0797228948608747\n",
      "test data RMSE:  0.5601028791411116\n",
      "test data R2:  0.07895891564988122\n"
     ]
    }
   ],
   "source": [
    "from sklearn.metrics import r2_score, mean_squared_error\n",
    "\n",
    "# 학습 데이터의 예측값을 저장합니다.\n",
    "pred_train = model.predict(x_train)\n",
    "\n",
    "# 학습 데이터의 성능을 저장합니다.\n",
    "mse_train = mean_squared_error(y_train, pred_train)\n",
    "r2_train = r2_score(y_train, pred_train)\n",
    "\n",
    "# 테스트 데이터의 예측값을 저장합니다.\n",
    "pred_test = model.predict(x_test)\n",
    "\n",
    "# 테스트 데이터의 성능을 저장합니다.\n",
    "mse_test = mean_squared_error(y_test, pred_test)\n",
    "r2_test = r2_score(y_test, pred_test)\n",
    "\n",
    "# 성능을 출력합니다.\n",
    "print('train data RMSE: ', np.sqrt(mse_train))\n",
    "print('train data R2: ', r2_train)\n",
    "\n",
    "print('test data RMSE: ', np.sqrt(mse_test))\n",
    "print('test data R2: ', r2_test)"
   ]
  },
  {
   "cell_type": "markdown",
   "metadata": {
    "id": "JAHlwUNdqZui"
   },
   "source": [
    "#### 5.1.3. 예측"
   ]
  },
  {
   "cell_type": "code",
   "execution_count": 43,
   "metadata": {
    "colab": {
     "base_uri": "https://localhost:8080/"
    },
    "executionInfo": {
     "elapsed": 426073,
     "status": "ok",
     "timestamp": 1606459829467,
     "user": {
      "displayName": "‍안상현[학생](경영대학 경영학과)",
      "photoUrl": "",
      "userId": "15732604784560776108"
     },
     "user_tz": -540
    },
    "id": "NR3vTJ9xqZui",
    "outputId": "35a2ee1d-dbc3-4d25-871d-9d7f66906be4"
   },
   "outputs": [
    {
     "name": "stdout",
     "output_type": "stream",
     "text": [
      "0 번째 테스트 데이터의 예측 결과: 4.258923775855514, 실제 데이터: 4.3\n",
      "1 번째 테스트 데이터의 예측 결과: 3.948350197974655, 실제 데이터: 4.2\n",
      "2 번째 테스트 데이터의 예측 결과: 3.8479931423105924, 실제 데이터: 3.9\n",
      "3 번째 테스트 데이터의 예측 결과: 4.332055337134811, 실제 데이터: 4.3\n",
      "4 번째 테스트 데이터의 예측 결과: 4.061150796119186, 실제 데이터: 3.7\n",
      "5 번째 테스트 데이터의 예측 결과: 4.333752877418014, 실제 데이터: 4.4\n",
      "6 번째 테스트 데이터의 예측 결과: 4.151162392798874, 실제 데이터: 4.5\n",
      "7 번째 테스트 데이터의 예측 결과: 4.173306710425827, 실제 데이터: 4.0\n",
      "8 번째 테스트 데이터의 예측 결과: 3.899205453101608, 실제 데이터: 4.8\n",
      "9 번째 테스트 데이터의 예측 결과: 4.038579232398483, 실제 데이터: 4.4\n"
     ]
    }
   ],
   "source": [
    "# 0번부터 9번까지 10개를 출력해 보겠습니다.\n",
    "for i in range(10): \n",
    "    \n",
    "    #1.prediction = model.predict(x_test[i]) => 에러\n",
    "    #2.prediction = model.predict(x_test[i].reshape(1,-1))\n",
    "    #3.print(predition)\n",
    "    #4.print(prediction[0])\n",
    "\n",
    "    prediction = model.predict(x_test[i].reshape(1,-1))\n",
    "    print(\"{} 번째 테스트 데이터의 예측 결과: {}, 실제 데이터: {}\".format(i, prediction[0], y_test[i]))"
   ]
  },
  {
   "cell_type": "markdown",
   "metadata": {
    "id": "Y2nSpK9oqZui"
   },
   "source": [
    "### 5.2. 다항 회귀 모델"
   ]
  },
  {
   "cell_type": "markdown",
   "metadata": {
    "id": "8NWLp-DgqZui"
   },
   "source": [
    "#### 5.2.1. 학습"
   ]
  },
  {
   "cell_type": "code",
   "execution_count": 44,
   "metadata": {
    "colab": {
     "base_uri": "https://localhost:8080/"
    },
    "executionInfo": {
     "elapsed": 427424,
     "status": "ok",
     "timestamp": 1606459830843,
     "user": {
      "displayName": "‍안상현[학생](경영대학 경영학과)",
      "photoUrl": "",
      "userId": "15732604784560776108"
     },
     "user_tz": -540
    },
    "id": "vRal6L9hqZui",
    "outputId": "0a5be42f-ff1a-4ccd-b91e-80304baf7043"
   },
   "outputs": [
    {
     "ename": "MemoryError",
     "evalue": "Unable to allocate 57.4 GiB for an array with shape (262939, 29317) and data type float64",
     "output_type": "error",
     "traceback": [
      "\u001b[1;31m---------------------------------------------------------------------------\u001b[0m",
      "\u001b[1;31mMemoryError\u001b[0m                               Traceback (most recent call last)",
      "\u001b[1;32m<ipython-input-44-9a0bf712a10f>\u001b[0m in \u001b[0;36m<module>\u001b[1;34m\u001b[0m\n\u001b[0;32m      8\u001b[0m \u001b[1;33m\u001b[0m\u001b[0m\n\u001b[0;32m      9\u001b[0m \u001b[1;31m# x_train 데이터를 다항 회귀에 필요한 입력값으로 변환합니다.\u001b[0m\u001b[1;33m\u001b[0m\u001b[1;33m\u001b[0m\u001b[1;33m\u001b[0m\u001b[0m\n\u001b[1;32m---> 10\u001b[1;33m \u001b[0mx_train_poly\u001b[0m \u001b[1;33m=\u001b[0m \u001b[0mpoly\u001b[0m\u001b[1;33m.\u001b[0m\u001b[0mfit_transform\u001b[0m\u001b[1;33m(\u001b[0m\u001b[0mx_train\u001b[0m\u001b[1;33m)\u001b[0m\u001b[1;33m\u001b[0m\u001b[1;33m\u001b[0m\u001b[0m\n\u001b[0m\u001b[0;32m     11\u001b[0m \u001b[0mx_train_poly\u001b[0m\u001b[1;33m\u001b[0m\u001b[1;33m\u001b[0m\u001b[0m\n",
      "\u001b[1;32m~\\Anaconda3\\lib\\site-packages\\sklearn\\base.py\u001b[0m in \u001b[0;36mfit_transform\u001b[1;34m(self, X, y, **fit_params)\u001b[0m\n\u001b[0;32m    688\u001b[0m         \u001b[1;32mif\u001b[0m \u001b[0my\u001b[0m \u001b[1;32mis\u001b[0m \u001b[1;32mNone\u001b[0m\u001b[1;33m:\u001b[0m\u001b[1;33m\u001b[0m\u001b[1;33m\u001b[0m\u001b[0m\n\u001b[0;32m    689\u001b[0m             \u001b[1;31m# fit method of arity 1 (unsupervised transformation)\u001b[0m\u001b[1;33m\u001b[0m\u001b[1;33m\u001b[0m\u001b[1;33m\u001b[0m\u001b[0m\n\u001b[1;32m--> 690\u001b[1;33m             \u001b[1;32mreturn\u001b[0m \u001b[0mself\u001b[0m\u001b[1;33m.\u001b[0m\u001b[0mfit\u001b[0m\u001b[1;33m(\u001b[0m\u001b[0mX\u001b[0m\u001b[1;33m,\u001b[0m \u001b[1;33m**\u001b[0m\u001b[0mfit_params\u001b[0m\u001b[1;33m)\u001b[0m\u001b[1;33m.\u001b[0m\u001b[0mtransform\u001b[0m\u001b[1;33m(\u001b[0m\u001b[0mX\u001b[0m\u001b[1;33m)\u001b[0m\u001b[1;33m\u001b[0m\u001b[1;33m\u001b[0m\u001b[0m\n\u001b[0m\u001b[0;32m    691\u001b[0m         \u001b[1;32melse\u001b[0m\u001b[1;33m:\u001b[0m\u001b[1;33m\u001b[0m\u001b[1;33m\u001b[0m\u001b[0m\n\u001b[0;32m    692\u001b[0m             \u001b[1;31m# fit method of arity 2 (supervised transformation)\u001b[0m\u001b[1;33m\u001b[0m\u001b[1;33m\u001b[0m\u001b[1;33m\u001b[0m\u001b[0m\n",
      "\u001b[1;32m~\\Anaconda3\\lib\\site-packages\\sklearn\\preprocessing\\_data.py\u001b[0m in \u001b[0;36mtransform\u001b[1;34m(self, X)\u001b[0m\n\u001b[0;32m   1592\u001b[0m             \u001b[1;32melse\u001b[0m\u001b[1;33m:\u001b[0m\u001b[1;33m\u001b[0m\u001b[1;33m\u001b[0m\u001b[0m\n\u001b[0;32m   1593\u001b[0m                 XP = np.empty((n_samples, self.n_output_features_),\n\u001b[1;32m-> 1594\u001b[1;33m                               dtype=X.dtype, order=self.order)\n\u001b[0m\u001b[0;32m   1595\u001b[0m \u001b[1;33m\u001b[0m\u001b[0m\n\u001b[0;32m   1596\u001b[0m                 \u001b[1;31m# What follows is a faster implementation of:\u001b[0m\u001b[1;33m\u001b[0m\u001b[1;33m\u001b[0m\u001b[1;33m\u001b[0m\u001b[0m\n",
      "\u001b[1;31mMemoryError\u001b[0m: Unable to allocate 57.4 GiB for an array with shape (262939, 29317) and data type float64"
     ]
    }
   ],
   "source": [
    "from sklearn.preprocessing import PolynomialFeatures\n",
    "\n",
    "# 우리가 위에서 사용한 모델은 선형회귀 => 직선\n",
    "# 다항 회귀 모델을 사용하기 위해서는 PolynomialFeatures를 사용하여 고차항 변수를 생성합니다.\n",
    "# interaction_only=True 를 사용하면 변수 간의 곱을 고려하지 않기에 모델이 간소화 됩니다.\n",
    "# interaction_only=False 사용 시 모델은 복잡해지고 학습 시간이 매우 증가합니다. => 계량적(?)으로 고려해야한다. interaction Term\n",
    "poly = PolynomialFeatures(degree=3, interaction_only=True) #데이터가 3차원식으로 생겼을 때 이렇게 쓰면 선형보다 잘 나올 것임\n",
    "\n",
    "# x_train 데이터를 다항 회귀에 필요한 입력값으로 변환합니다.\n",
    "x_train_poly = poly.fit_transform(x_train)\n",
    "x_train_poly"
   ]
  },
  {
   "cell_type": "code",
   "execution_count": 45,
   "metadata": {
    "id": "etKKEq7nqZuj"
   },
   "outputs": [
    {
     "ename": "NameError",
     "evalue": "name 'x_train_poly' is not defined",
     "output_type": "error",
     "traceback": [
      "\u001b[1;31m---------------------------------------------------------------------------\u001b[0m",
      "\u001b[1;31mNameError\u001b[0m                                 Traceback (most recent call last)",
      "\u001b[1;32m<ipython-input-45-9549fce0b250>\u001b[0m in \u001b[0;36m<module>\u001b[1;34m\u001b[0m\n\u001b[0;32m      5\u001b[0m \u001b[1;33m\u001b[0m\u001b[0m\n\u001b[0;32m      6\u001b[0m \u001b[1;31m# 학습을 수행합니다.\u001b[0m\u001b[1;33m\u001b[0m\u001b[1;33m\u001b[0m\u001b[1;33m\u001b[0m\u001b[0m\n\u001b[1;32m----> 7\u001b[1;33m \u001b[0mmodel_poly\u001b[0m \u001b[1;33m=\u001b[0m \u001b[0mmodel_poly\u001b[0m\u001b[1;33m.\u001b[0m\u001b[0mfit\u001b[0m\u001b[1;33m(\u001b[0m\u001b[0mx_train_poly\u001b[0m\u001b[1;33m,\u001b[0m \u001b[0my_train\u001b[0m\u001b[1;33m)\u001b[0m\u001b[1;33m\u001b[0m\u001b[1;33m\u001b[0m\u001b[0m\n\u001b[0m",
      "\u001b[1;31mNameError\u001b[0m: name 'x_train_poly' is not defined"
     ]
    }
   ],
   "source": [
    "# 선형 회귀 모델을 선언합니다.\n",
    "# 선형 회귀 모델이지만 다항 회귀도 수행할 수 있습니다.\n",
    "# n_jobs=-1을 설정하여 모든 프로세서를 사용하여 학습의 속도를 높입니다. #멀티코어 #default = 싱글코어\n",
    "model_poly = LinearRegression(n_jobs=-1)\n",
    "\n",
    "# 학습을 수행합니다.\n",
    "model_poly = model_poly.fit(x_train_poly, y_train)"
   ]
  },
  {
   "cell_type": "markdown",
   "metadata": {
    "id": "XOeEvgscqZuj"
   },
   "source": [
    "#### 5.2.2. 평가"
   ]
  },
  {
   "cell_type": "code",
   "execution_count": 46,
   "metadata": {
    "colab": {
     "base_uri": "https://localhost:8080/"
    },
    "executionInfo": {
     "elapsed": 435752,
     "status": "ok",
     "timestamp": 1606459839186,
     "user": {
      "displayName": "‍안상현[학생](경영대학 경영학과)",
      "photoUrl": "",
      "userId": "15732604784560776108"
     },
     "user_tz": -540
    },
    "id": "2k-VIV8qqZuj",
    "outputId": "8585fb40-3c96-42e8-ca6f-25d40979b445",
    "scrolled": true
   },
   "outputs": [
    {
     "ename": "KeyboardInterrupt",
     "evalue": "",
     "output_type": "error",
     "traceback": [
      "\u001b[1;31m---------------------------------------------------------------------------\u001b[0m",
      "\u001b[1;31mKeyboardInterrupt\u001b[0m                         Traceback (most recent call last)",
      "\u001b[1;32m<ipython-input-46-7509378a662e>\u001b[0m in \u001b[0;36m<module>\u001b[1;34m\u001b[0m\n\u001b[0;32m      1\u001b[0m \u001b[1;31m# 테스트 데이터를 변환합니다.\u001b[0m\u001b[1;33m\u001b[0m\u001b[1;33m\u001b[0m\u001b[1;33m\u001b[0m\u001b[0m\n\u001b[1;32m----> 2\u001b[1;33m \u001b[0mx_test_poly\u001b[0m \u001b[1;33m=\u001b[0m \u001b[0mpoly\u001b[0m\u001b[1;33m.\u001b[0m\u001b[0mfit_transform\u001b[0m\u001b[1;33m(\u001b[0m\u001b[0mx_test\u001b[0m\u001b[1;33m)\u001b[0m\u001b[1;33m\u001b[0m\u001b[1;33m\u001b[0m\u001b[0m\n\u001b[0m\u001b[0;32m      3\u001b[0m \u001b[1;33m\u001b[0m\u001b[0m\n\u001b[0;32m      4\u001b[0m \u001b[1;31m# 학습 데이터의 예측값을 저장합니다.\u001b[0m\u001b[1;33m\u001b[0m\u001b[1;33m\u001b[0m\u001b[1;33m\u001b[0m\u001b[0m\n\u001b[0;32m      5\u001b[0m \u001b[0mpred_train\u001b[0m \u001b[1;33m=\u001b[0m \u001b[0mmodel_poly\u001b[0m\u001b[1;33m.\u001b[0m\u001b[0mpredict\u001b[0m\u001b[1;33m(\u001b[0m\u001b[0mx_train_poly\u001b[0m\u001b[1;33m)\u001b[0m\u001b[1;33m\u001b[0m\u001b[1;33m\u001b[0m\u001b[0m\n",
      "\u001b[1;32m~\\Anaconda3\\lib\\site-packages\\sklearn\\base.py\u001b[0m in \u001b[0;36mfit_transform\u001b[1;34m(self, X, y, **fit_params)\u001b[0m\n\u001b[0;32m    688\u001b[0m         \u001b[1;32mif\u001b[0m \u001b[0my\u001b[0m \u001b[1;32mis\u001b[0m \u001b[1;32mNone\u001b[0m\u001b[1;33m:\u001b[0m\u001b[1;33m\u001b[0m\u001b[1;33m\u001b[0m\u001b[0m\n\u001b[0;32m    689\u001b[0m             \u001b[1;31m# fit method of arity 1 (unsupervised transformation)\u001b[0m\u001b[1;33m\u001b[0m\u001b[1;33m\u001b[0m\u001b[1;33m\u001b[0m\u001b[0m\n\u001b[1;32m--> 690\u001b[1;33m             \u001b[1;32mreturn\u001b[0m \u001b[0mself\u001b[0m\u001b[1;33m.\u001b[0m\u001b[0mfit\u001b[0m\u001b[1;33m(\u001b[0m\u001b[0mX\u001b[0m\u001b[1;33m,\u001b[0m \u001b[1;33m**\u001b[0m\u001b[0mfit_params\u001b[0m\u001b[1;33m)\u001b[0m\u001b[1;33m.\u001b[0m\u001b[0mtransform\u001b[0m\u001b[1;33m(\u001b[0m\u001b[0mX\u001b[0m\u001b[1;33m)\u001b[0m\u001b[1;33m\u001b[0m\u001b[1;33m\u001b[0m\u001b[0m\n\u001b[0m\u001b[0;32m    691\u001b[0m         \u001b[1;32melse\u001b[0m\u001b[1;33m:\u001b[0m\u001b[1;33m\u001b[0m\u001b[1;33m\u001b[0m\u001b[0m\n\u001b[0;32m    692\u001b[0m             \u001b[1;31m# fit method of arity 2 (supervised transformation)\u001b[0m\u001b[1;33m\u001b[0m\u001b[1;33m\u001b[0m\u001b[1;33m\u001b[0m\u001b[0m\n",
      "\u001b[1;32m~\\Anaconda3\\lib\\site-packages\\sklearn\\preprocessing\\_data.py\u001b[0m in \u001b[0;36mtransform\u001b[1;34m(self, X)\u001b[0m\n\u001b[0;32m   1638\u001b[0m                                     \u001b[0mX\u001b[0m\u001b[1;33m[\u001b[0m\u001b[1;33m:\u001b[0m\u001b[1;33m,\u001b[0m \u001b[0mfeature_idx\u001b[0m\u001b[1;33m:\u001b[0m\u001b[0mfeature_idx\u001b[0m \u001b[1;33m+\u001b[0m \u001b[1;36m1\u001b[0m\u001b[1;33m]\u001b[0m\u001b[1;33m,\u001b[0m\u001b[1;33m\u001b[0m\u001b[1;33m\u001b[0m\u001b[0m\n\u001b[0;32m   1639\u001b[0m                                     \u001b[0mout\u001b[0m\u001b[1;33m=\u001b[0m\u001b[0mXP\u001b[0m\u001b[1;33m[\u001b[0m\u001b[1;33m:\u001b[0m\u001b[1;33m,\u001b[0m \u001b[0mcurrent_col\u001b[0m\u001b[1;33m:\u001b[0m\u001b[0mnext_col\u001b[0m\u001b[1;33m]\u001b[0m\u001b[1;33m,\u001b[0m\u001b[1;33m\u001b[0m\u001b[1;33m\u001b[0m\u001b[0m\n\u001b[1;32m-> 1640\u001b[1;33m                                     casting='no')\n\u001b[0m\u001b[0;32m   1641\u001b[0m                         \u001b[0mcurrent_col\u001b[0m \u001b[1;33m=\u001b[0m \u001b[0mnext_col\u001b[0m\u001b[1;33m\u001b[0m\u001b[1;33m\u001b[0m\u001b[0m\n\u001b[0;32m   1642\u001b[0m \u001b[1;33m\u001b[0m\u001b[0m\n",
      "\u001b[1;31mKeyboardInterrupt\u001b[0m: "
     ]
    }
   ],
   "source": [
    "# 테스트 데이터를 변환합니다.\n",
    "x_test_poly = poly.fit_transform(x_test)\n",
    "\n",
    "# 학습 데이터의 예측값을 저장합니다.\n",
    "pred_train = model_poly.predict(x_train_poly)\n",
    "\n",
    "# 학습 데이터의 성능을 저장합니다.\n",
    "mse_train = mean_squared_error(y_train, pred_train)\n",
    "rmse_train = np.sqrt(mse_train)\n",
    "r2_train = r2_score(y_train, pred_train)\n",
    "\n",
    "# 테스트 데이터의 예측값을 저장합니다.\n",
    "pred_test = model_poly.predict(x_test_poly)\n",
    "\n",
    "# 테스트 데이터의 성능을 저장합니다.\n",
    "mse_test = mean_squared_error(y_test, pred_test)\n",
    "rmse_test = np.sqrt(mse_test)\n",
    "r2_test = r2_score(y_test, pred_test)\n",
    "\n",
    "# 성능을 출력합니다.\n",
    "print('train data RMSE: ', rmse_train)\n",
    "print('train data R2: ', r2_train)\n",
    "\n",
    "print('test data RMSE: ', rmse_test)\n",
    "print('test data R2: ', r2_test)"
   ]
  },
  {
   "cell_type": "markdown",
   "metadata": {
    "id": "90r2M7GKqZuk"
   },
   "source": [
    "#### 5.2.3. 예측"
   ]
  },
  {
   "cell_type": "code",
   "execution_count": null,
   "metadata": {
    "colab": {
     "base_uri": "https://localhost:8080/"
    },
    "executionInfo": {
     "elapsed": 435741,
     "status": "ok",
     "timestamp": 1606459839188,
     "user": {
      "displayName": "‍안상현[학생](경영대학 경영학과)",
      "photoUrl": "",
      "userId": "15732604784560776108"
     },
     "user_tz": -540
    },
    "id": "S7ZVUYrqqZuk",
    "outputId": "fee1bc16-49a8-45ff-cd4b-16dccb108280"
   },
   "outputs": [],
   "source": [
    "# 0번부터 9번까지 10개를 출력해 보겠습니다.\n",
    "for i in range(10): \n",
    "    \n",
    "    prediction = model_poly.predict(x_test_poly[i].reshape(1,-1))\n",
    "    print(\"{} 번째 테스트 데이터의 예측 결과: {}, 실제 데이터: {}\".format(i, prediction[0], y_test[i]))"
   ]
  },
  {
   "cell_type": "markdown",
   "metadata": {
    "id": "xJ73jGIcqZuk"
   },
   "source": [
    "### 5.3. 의사결정나무 & 랜덤포레스트 & 앙상블기법들"
   ]
  },
  {
   "cell_type": "code",
   "execution_count": null,
   "metadata": {
    "id": "hvyWC55MskdK"
   },
   "outputs": [],
   "source": [
    "!pip install xgboost\n",
    "!pip install lightgbm"
   ]
  },
  {
   "cell_type": "code",
   "execution_count": 47,
   "metadata": {
    "colab": {
     "base_uri": "https://localhost:8080/"
    },
    "executionInfo": {
     "elapsed": 47120,
     "status": "ok",
     "timestamp": 1606461727438,
     "user": {
      "displayName": "‍안상현[학생](경영대학 경영학과)",
      "photoUrl": "",
      "userId": "15732604784560776108"
     },
     "user_tz": -540
    },
    "id": "WWs-YA0tqZuk",
    "outputId": "db91ab6f-7f13-41fb-c61d-61cabc7525bf"
   },
   "outputs": [
    {
     "name": "stdout",
     "output_type": "stream",
     "text": [
      "CART - train_RMSE_score : 0.126606, test_RMSE_score : 0.452431\n",
      "CART - train_R2_score : 0.631783, test_R2_score : -0.328299\n",
      "================================================================================\n",
      "RandomForest - train_RMSE_score : 0.148630, test_RMSE_score : 0.345117\n",
      "RandomForest - train_R2_score : 0.567729, test_R2_score : -0.013233\n",
      "================================================================================\n",
      "XGB - train_RMSE_score : 0.277735, test_RMSE_score : 0.284775\n",
      "XGB - train_R2_score : 0.192245, test_R2_score : 0.163925\n",
      "================================================================================\n",
      "lightGBM - train_RMSE_score : 0.284679, test_RMSE_score : 0.284936\n",
      "lightGBM - train_R2_score : 0.172048, test_R2_score : 0.163453\n",
      "================================================================================\n"
     ]
    }
   ],
   "source": [
    "from sklearn.tree import DecisionTreeRegressor\n",
    "from sklearn.ensemble import RandomForestRegressor\n",
    "from xgboost.sklearn import XGBRegressor\n",
    "from lightgbm import LGBMRegressor\n",
    "\n",
    "models = []\n",
    "models.append(('CART', DecisionTreeRegressor())) # 의사결정나무 모델 #CART는 의사결정나무 중 알고리즘 이름\n",
    "models.append(('RandomForest', RandomForestRegressor(n_jobs=-1))) # 랜덤포레스트 모델\n",
    "models.append(('XGB', XGBRegressor(n_jobs=-1))) \n",
    "models.append(('lightGBM', LGBMRegressor(n_jobs=-1)))\n",
    "\n",
    "for name, model in models:\n",
    "    model.fit(x_train, y_train)\n",
    "    model.predict(x_train)\n",
    "\n",
    "    pred_train = model.predict(x_train)\n",
    "    pred_test = model.predict(x_test)\n",
    "\n",
    "    mse_train = mean_squared_error(y_train, pred_train)\n",
    "    mse_test = mean_squared_error(y_test, pred_test)\n",
    "\n",
    "    r2_train = r2_score(y_train, model.predict(x_train))\n",
    "    r2_test = r2_score(y_test, model.predict(x_test))\n",
    "\n",
    "    result_1 = \"%s - train_RMSE_score : %f, test_RMSE_score : %f\" % (name, mse_train, mse_test)\n",
    "    result_2 = \"%s - train_R2_score : %f, test_R2_score : %f\" % (name, r2_train , r2_test) \n",
    "    print(result_1)\n",
    "    print(result_2)\n",
    "    print(\"=\"*80)"
   ]
  },
  {
   "cell_type": "code",
   "execution_count": 48,
   "metadata": {
    "colab": {
     "base_uri": "https://localhost:8080/"
    },
    "executionInfo": {
     "elapsed": 1564,
     "status": "ok",
     "timestamp": 1606461999790,
     "user": {
      "displayName": "‍안상현[학생](경영대학 경영학과)",
      "photoUrl": "",
      "userId": "15732604784560776108"
     },
     "user_tz": -540
    },
    "id": "HqEmUpM8qZuk",
    "outputId": "f5015834-e006-4989-b535-5ea225766135"
   },
   "outputs": [
    {
     "name": "stdout",
     "output_type": "stream",
     "text": [
      "CART 모델\n",
      "0 번째 테스트 데이터의 예측 결과: 4.3, 실제 데이터: 4.3\n",
      "1 번째 테스트 데이터의 예측 결과: 3.533333333333333, 실제 데이터: 4.2\n",
      "2 번째 테스트 데이터의 예측 결과: 3.0599999999999996, 실제 데이터: 3.9\n",
      "3 번째 테스트 데이터의 예측 결과: 4.475, 실제 데이터: 4.3\n",
      "4 번째 테스트 데이터의 예측 결과: 3.7, 실제 데이터: 3.7\n",
      "5 번째 테스트 데이터의 예측 결과: 4.423188405797102, 실제 데이터: 4.4\n",
      "6 번째 테스트 데이터의 예측 결과: 4.3, 실제 데이터: 4.5\n",
      "7 번째 테스트 데이터의 예측 결과: 3.6, 실제 데이터: 4.0\n",
      "8 번째 테스트 데이터의 예측 결과: 4.5, 실제 데이터: 4.8\n",
      "9 번째 테스트 데이터의 예측 결과: 4.5, 실제 데이터: 4.4\n",
      "================================================================================\n",
      "RandomForest 모델\n",
      "0 번째 테스트 데이터의 예측 결과: 4.11775, 실제 데이터: 4.3\n",
      "1 번째 테스트 데이터의 예측 결과: 3.510838095238097, 실제 데이터: 4.2\n",
      "2 번째 테스트 데이터의 예측 결과: 3.6368119047619034, 실제 데이터: 3.9\n",
      "3 번째 테스트 데이터의 예측 결과: 4.488091666666668, 실제 데이터: 4.3\n",
      "4 번째 테스트 데이터의 예측 결과: 4.121999999999996, 실제 데이터: 3.7\n",
      "5 번째 테스트 데이터의 예측 결과: 4.42106002915932, 실제 데이터: 4.4\n",
      "6 번째 테스트 데이터의 예측 결과: 4.0643, 실제 데이터: 4.5\n",
      "7 번째 테스트 데이터의 예측 결과: 3.9530523809523817, 실제 데이터: 4.0\n",
      "8 번째 테스트 데이터의 예측 결과: 4.522000000000002, 실제 데이터: 4.8\n",
      "9 번째 테스트 데이터의 예측 결과: 4.096999999999998, 실제 데이터: 4.4\n",
      "================================================================================\n",
      "XGB 모델\n",
      "0 번째 테스트 데이터의 예측 결과: 4.207320213317871, 실제 데이터: 4.3\n",
      "1 번째 테스트 데이터의 예측 결과: 3.7065279483795166, 실제 데이터: 4.2\n",
      "2 번째 테스트 데이터의 예측 결과: 3.6295971870422363, 실제 데이터: 3.9\n",
      "3 번째 테스트 데이터의 예측 결과: 4.521061420440674, 실제 데이터: 4.3\n",
      "4 번째 테스트 데이터의 예측 결과: 4.053549766540527, 실제 데이터: 3.7\n",
      "5 번째 테스트 데이터의 예측 결과: 4.4058380126953125, 실제 데이터: 4.4\n",
      "6 번째 테스트 데이터의 예측 결과: 4.077324390411377, 실제 데이터: 4.5\n",
      "7 번째 테스트 데이터의 예측 결과: 3.902696132659912, 실제 데이터: 4.0\n",
      "8 번째 테스트 데이터의 예측 결과: 4.5041184425354, 실제 데이터: 4.8\n",
      "9 번째 테스트 데이터의 예측 결과: 4.260497570037842, 실제 데이터: 4.4\n",
      "================================================================================\n",
      "lightGBM 모델\n",
      "0 번째 테스트 데이터의 예측 결과: 4.181358540171367, 실제 데이터: 4.3\n",
      "1 번째 테스트 데이터의 예측 결과: 3.723749820166422, 실제 데이터: 4.2\n",
      "2 번째 테스트 데이터의 예측 결과: 3.648645195927916, 실제 데이터: 3.9\n",
      "3 번째 테스트 데이터의 예측 결과: 4.448450191302286, 실제 데이터: 4.3\n",
      "4 번째 테스트 데이터의 예측 결과: 4.033531418568443, 실제 데이터: 3.7\n",
      "5 번째 테스트 데이터의 예측 결과: 4.389677974129617, 실제 데이터: 4.4\n",
      "6 번째 테스트 데이터의 예측 결과: 3.979165574904223, 실제 데이터: 4.5\n",
      "7 번째 테스트 데이터의 예측 결과: 4.030354684605575, 실제 데이터: 4.0\n",
      "8 번째 테스트 데이터의 예측 결과: 4.336970220707128, 실제 데이터: 4.8\n",
      "9 번째 테스트 데이터의 예측 결과: 4.247474038922114, 실제 데이터: 4.4\n",
      "================================================================================\n"
     ]
    }
   ],
   "source": [
    "# 각 모델마다 0번부터 9번까지 10개의 예측 결과를 출력해 보겠습니다.\n",
    "\n",
    "for i in range(len(models)):\n",
    "    print(\"{} 모델\".format(models[i][0]))\n",
    "    for j in range(10): \n",
    "    \n",
    "        prediction = models[i][1].predict(x_test[j].reshape(1,-1))\n",
    "        print(\"{} 번째 테스트 데이터의 예측 결과: {}, 실제 데이터: {}\".format(j, prediction[0], y_test[j]))\n",
    "    print(\"=\"*80)"
   ]
  },
  {
   "cell_type": "markdown",
   "metadata": {},
   "source": [
    "## 위 과정의 결과 Xgb & lightGBM의 모델이 가장 결과가 좋게 나와서 해당 모델을 적용하였습니다."
   ]
  },
  {
   "cell_type": "code",
   "execution_count": 49,
   "metadata": {},
   "outputs": [],
   "source": [
    "df_origin2 = pd.read_csv('webapp_test_feature.csv')"
   ]
  },
  {
   "cell_type": "code",
   "execution_count": 50,
   "metadata": {
    "scrolled": false
   },
   "outputs": [
    {
     "data": {
      "text/html": [
       "<div>\n",
       "<style scoped>\n",
       "    .dataframe tbody tr th:only-of-type {\n",
       "        vertical-align: middle;\n",
       "    }\n",
       "\n",
       "    .dataframe tbody tr th {\n",
       "        vertical-align: top;\n",
       "    }\n",
       "\n",
       "    .dataframe thead th {\n",
       "        text-align: right;\n",
       "    }\n",
       "</style>\n",
       "<table border=\"1\" class=\"dataframe\">\n",
       "  <thead>\n",
       "    <tr style=\"text-align: right;\">\n",
       "      <th></th>\n",
       "      <th>App Name</th>\n",
       "      <th>App Id</th>\n",
       "      <th>Category</th>\n",
       "      <th>Rating Count</th>\n",
       "      <th>Installs</th>\n",
       "      <th>Minimum Installs</th>\n",
       "      <th>Maximum Installs</th>\n",
       "      <th>Free</th>\n",
       "      <th>Price</th>\n",
       "      <th>Currency</th>\n",
       "      <th>...</th>\n",
       "      <th>Developer Id</th>\n",
       "      <th>Developer Website</th>\n",
       "      <th>Developer Email</th>\n",
       "      <th>Released</th>\n",
       "      <th>Last Updated</th>\n",
       "      <th>Content Rating</th>\n",
       "      <th>Privacy Policy</th>\n",
       "      <th>Ad Supported</th>\n",
       "      <th>In App Purchases</th>\n",
       "      <th>Editors Choice</th>\n",
       "    </tr>\n",
       "  </thead>\n",
       "  <tbody>\n",
       "    <tr>\n",
       "      <th>0</th>\n",
       "      <td>Earth &amp; Moon in HD Gyro 3D Parallax Live Wallp...</td>\n",
       "      <td>com.afkettler.earth</td>\n",
       "      <td>Personalization</td>\n",
       "      <td>73806.0</td>\n",
       "      <td>5,000,000+</td>\n",
       "      <td>5000000.0</td>\n",
       "      <td>7209120</td>\n",
       "      <td>True</td>\n",
       "      <td>0.0</td>\n",
       "      <td>USD</td>\n",
       "      <td>...</td>\n",
       "      <td>CodeKonditor</td>\n",
       "      <td>https://www.facebook.com/codekonditor</td>\n",
       "      <td>mail@codekonditor.com</td>\n",
       "      <td>Nov 10, 2013</td>\n",
       "      <td>2020-03-21 18:49:16</td>\n",
       "      <td>Everyone</td>\n",
       "      <td>http://www.codekonditor.com/privacy/</td>\n",
       "      <td>False</td>\n",
       "      <td>False</td>\n",
       "      <td>False</td>\n",
       "    </tr>\n",
       "    <tr>\n",
       "      <th>1</th>\n",
       "      <td>TakeLessons Live</td>\n",
       "      <td>com.takelessons.tma_android</td>\n",
       "      <td>Education</td>\n",
       "      <td>227.0</td>\n",
       "      <td>10,000+</td>\n",
       "      <td>10000.0</td>\n",
       "      <td>36956</td>\n",
       "      <td>True</td>\n",
       "      <td>0.0</td>\n",
       "      <td>USD</td>\n",
       "      <td>...</td>\n",
       "      <td>TakeLessons</td>\n",
       "      <td>https://www.takelessons.com</td>\n",
       "      <td>info@takelessons.com</td>\n",
       "      <td>Oct 5, 2016</td>\n",
       "      <td>2020-07-10 20:59:19</td>\n",
       "      <td>Everyone</td>\n",
       "      <td>https://takelessons.com/privacy</td>\n",
       "      <td>False</td>\n",
       "      <td>False</td>\n",
       "      <td>False</td>\n",
       "    </tr>\n",
       "    <tr>\n",
       "      <th>2</th>\n",
       "      <td>Taxi Driving Simulation Be Quick in the City</td>\n",
       "      <td>com.ozGames.taxiDrivingSimulatorDriftPro</td>\n",
       "      <td>Simulation</td>\n",
       "      <td>33.0</td>\n",
       "      <td>1,000+</td>\n",
       "      <td>1000.0</td>\n",
       "      <td>1251</td>\n",
       "      <td>True</td>\n",
       "      <td>0.0</td>\n",
       "      <td>USD</td>\n",
       "      <td>...</td>\n",
       "      <td>ayris soft</td>\n",
       "      <td>https://ayrissoft.github.io/</td>\n",
       "      <td>hakansatilmis@gmail.com</td>\n",
       "      <td>Apr 30, 2020</td>\n",
       "      <td>2020-05-01 16:59:24</td>\n",
       "      <td>Teen</td>\n",
       "      <td>https://justpaste.it/27fzs</td>\n",
       "      <td>True</td>\n",
       "      <td>False</td>\n",
       "      <td>False</td>\n",
       "    </tr>\n",
       "    <tr>\n",
       "      <th>3</th>\n",
       "      <td>دیکشنری انگلیسی به فارسی آلفا</td>\n",
       "      <td>ir.alphasoft.dictionary</td>\n",
       "      <td>Education</td>\n",
       "      <td>34.0</td>\n",
       "      <td>1,000+</td>\n",
       "      <td>1000.0</td>\n",
       "      <td>1163</td>\n",
       "      <td>True</td>\n",
       "      <td>0.0</td>\n",
       "      <td>USD</td>\n",
       "      <td>...</td>\n",
       "      <td>Digi.Soft</td>\n",
       "      <td>http://digivpn.xyz</td>\n",
       "      <td>digi.vpn.com@gmail.com</td>\n",
       "      <td>Mar 10, 2019</td>\n",
       "      <td>2019-03-11 13:58:28</td>\n",
       "      <td>Everyone</td>\n",
       "      <td>http://www.movinapp.com/apps-privacy-policy/</td>\n",
       "      <td>True</td>\n",
       "      <td>False</td>\n",
       "      <td>False</td>\n",
       "    </tr>\n",
       "    <tr>\n",
       "      <th>4</th>\n",
       "      <td>Biblia de Jerusalén / Biblia Católica</td>\n",
       "      <td>com.appslitedesarrolladores.bibliadejerusalen</td>\n",
       "      <td>Books &amp; Reference</td>\n",
       "      <td>98.0</td>\n",
       "      <td>10,000+</td>\n",
       "      <td>10000.0</td>\n",
       "      <td>41051</td>\n",
       "      <td>True</td>\n",
       "      <td>0.0</td>\n",
       "      <td>USD</td>\n",
       "      <td>...</td>\n",
       "      <td>Apps Free Lite</td>\n",
       "      <td>https://appsfreelite.blogspot.com/</td>\n",
       "      <td>appsfreelite@gmail.com</td>\n",
       "      <td>Oct 22, 2018</td>\n",
       "      <td>2020-04-09 10:35:46</td>\n",
       "      <td>Teen</td>\n",
       "      <td>https://docs.google.com/document/d/e/2PACX-1vQ...</td>\n",
       "      <td>True</td>\n",
       "      <td>False</td>\n",
       "      <td>False</td>\n",
       "    </tr>\n",
       "  </tbody>\n",
       "</table>\n",
       "<p>5 rows × 22 columns</p>\n",
       "</div>"
      ],
      "text/plain": [
       "                                            App Name  \\\n",
       "0  Earth & Moon in HD Gyro 3D Parallax Live Wallp...   \n",
       "1                                   TakeLessons Live   \n",
       "2       Taxi Driving Simulation Be Quick in the City   \n",
       "3                      دیکشنری انگلیسی به فارسی آلفا   \n",
       "4              Biblia de Jerusalén / Biblia Católica   \n",
       "\n",
       "                                          App Id           Category  \\\n",
       "0                            com.afkettler.earth    Personalization   \n",
       "1                    com.takelessons.tma_android          Education   \n",
       "2       com.ozGames.taxiDrivingSimulatorDriftPro         Simulation   \n",
       "3                        ir.alphasoft.dictionary          Education   \n",
       "4  com.appslitedesarrolladores.bibliadejerusalen  Books & Reference   \n",
       "\n",
       "   Rating Count    Installs  Minimum Installs  Maximum Installs  Free  Price  \\\n",
       "0       73806.0  5,000,000+         5000000.0           7209120  True    0.0   \n",
       "1         227.0     10,000+           10000.0             36956  True    0.0   \n",
       "2          33.0      1,000+            1000.0              1251  True    0.0   \n",
       "3          34.0      1,000+            1000.0              1163  True    0.0   \n",
       "4          98.0     10,000+           10000.0             41051  True    0.0   \n",
       "\n",
       "  Currency  ...    Developer Id                      Developer Website  \\\n",
       "0      USD  ...    CodeKonditor  https://www.facebook.com/codekonditor   \n",
       "1      USD  ...     TakeLessons            https://www.takelessons.com   \n",
       "2      USD  ...      ayris soft           https://ayrissoft.github.io/   \n",
       "3      USD  ...       Digi.Soft                     http://digivpn.xyz   \n",
       "4      USD  ...  Apps Free Lite     https://appsfreelite.blogspot.com/   \n",
       "\n",
       "           Developer Email      Released         Last Updated Content Rating  \\\n",
       "0    mail@codekonditor.com  Nov 10, 2013  2020-03-21 18:49:16       Everyone   \n",
       "1     info@takelessons.com   Oct 5, 2016  2020-07-10 20:59:19       Everyone   \n",
       "2  hakansatilmis@gmail.com  Apr 30, 2020  2020-05-01 16:59:24           Teen   \n",
       "3   digi.vpn.com@gmail.com  Mar 10, 2019  2019-03-11 13:58:28       Everyone   \n",
       "4   appsfreelite@gmail.com  Oct 22, 2018  2020-04-09 10:35:46           Teen   \n",
       "\n",
       "                                      Privacy Policy Ad Supported  \\\n",
       "0               http://www.codekonditor.com/privacy/        False   \n",
       "1                    https://takelessons.com/privacy        False   \n",
       "2                         https://justpaste.it/27fzs         True   \n",
       "3       http://www.movinapp.com/apps-privacy-policy/         True   \n",
       "4  https://docs.google.com/document/d/e/2PACX-1vQ...         True   \n",
       "\n",
       "  In App Purchases  Editors Choice  \n",
       "0            False           False  \n",
       "1            False           False  \n",
       "2            False           False  \n",
       "3            False           False  \n",
       "4            False           False  \n",
       "\n",
       "[5 rows x 22 columns]"
      ]
     },
     "execution_count": 50,
     "metadata": {},
     "output_type": "execute_result"
    }
   ],
   "source": [
    "df_origin2.head()"
   ]
  },
  {
   "cell_type": "code",
   "execution_count": 51,
   "metadata": {},
   "outputs": [
    {
     "name": "stdout",
     "output_type": "stream",
     "text": [
      "<class 'pandas.core.frame.DataFrame'>\n",
      "RangeIndex: 46922 entries, 0 to 46921\n",
      "Data columns (total 22 columns):\n",
      " #   Column             Non-Null Count  Dtype  \n",
      "---  ------             --------------  -----  \n",
      " 0   App Name           46922 non-null  object \n",
      " 1   App Id             46922 non-null  object \n",
      " 2   Category           46922 non-null  object \n",
      " 3   Rating Count       46922 non-null  float64\n",
      " 4   Installs           46922 non-null  object \n",
      " 5   Minimum Installs   46922 non-null  float64\n",
      " 6   Maximum Installs   46922 non-null  int64  \n",
      " 7   Free               46922 non-null  bool   \n",
      " 8   Price              46922 non-null  float64\n",
      " 9   Currency           46922 non-null  object \n",
      " 10  Size               46922 non-null  object \n",
      " 11  Minimum Android    46922 non-null  object \n",
      " 12  Developer Id       46922 non-null  object \n",
      " 13  Developer Website  46922 non-null  object \n",
      " 14  Developer Email    46922 non-null  object \n",
      " 15  Released           46922 non-null  object \n",
      " 16  Last Updated       46922 non-null  object \n",
      " 17  Content Rating     46922 non-null  object \n",
      " 18  Privacy Policy     46922 non-null  object \n",
      " 19  Ad Supported       46922 non-null  bool   \n",
      " 20  In App Purchases   46922 non-null  bool   \n",
      " 21  Editors Choice     46922 non-null  bool   \n",
      "dtypes: bool(4), float64(3), int64(1), object(14)\n",
      "memory usage: 6.6+ MB\n"
     ]
    }
   ],
   "source": [
    "df_origin2.info()"
   ]
  },
  {
   "cell_type": "code",
   "execution_count": 52,
   "metadata": {},
   "outputs": [],
   "source": [
    "#trn 정제 과정\n",
    "def cleansing(df):\n",
    "    df_clean = df.drop(columns=[\n",
    "    'App Id', 'Developer Id', 'Developer Website', 'Developer Email', \n",
    "    'Privacy Policy', 'Released', 'Minimum Installs', 'Maximum Installs',\n",
    "    'Minimum Android','Currency'], axis=1)\n",
    "    for element in set(df_clean['Installs']):\n",
    "    # (1) element.split('+')\n",
    "    # (2) element.split('+')[0]\n",
    "    # (3) element.split('+')[0].replace(',', '')\n",
    "    # (4) int(element.split('+')[0].replace(',', '')))\n",
    "    # (5) \n",
    "        df_clean = df_clean.replace(element,int(element.split('+')[0].replace(',', '')))\n",
    "    # 위 분포에서 양쪽 끝의 데이터들이 너무 작기에 이를 추가로 삭제합니다.\n",
    "    # 500000개 초과는 1000000으로 변환\n",
    "    df_clean.loc[df_clean['Installs']>500000,'Installs'] = 1000000\n",
    "    df_clean[df_clean['Installs']>500000]\n",
    "    # 5000개 미만은 1000으로 변환\n",
    "    df_clean.loc[df_clean['Installs']<5000,'Installs'] = 1000\n",
    "    df_clean[df_clean['Installs']<5000]\n",
    "    df_clean['Last update since 2020'] = [d.split('-')[0] == '2020' for d in df_clean['Last Updated']]\n",
    "    df_clean = df_clean.replace([True,False],[1,0])\n",
    "\n",
    "# object 자료형 데이터의 변수를 정리합니다.\n",
    "    chr_features = ['Content Rating', 'Category']\n",
    "\n",
    "# 수치 자료형 데이터의 변수를 정리합니다.\n",
    "    num_features=['Rating Count', 'Installs', 'Free','Last update since 2020', 'Ad Supported','In App Purchases', 'Editors Choice', 'Price']\n",
    "\n",
    "# 더미를 기법을 사용하여 변환합니다.\n",
    "    for variable in chr_features:\n",
    "    \n",
    "    # pandas의 더미 방식을 사용하여 object 자료형 데이터를 변환한 dataframe을 생성합니다.\n",
    "        dummies = pd.get_dummies(df_clean[chr_features])\n",
    "    # 기존 수치형 데이터에 더미로 새로 생성된 데이터를 추가합니다.\n",
    "        df_dummy= pd.concat([df_clean[num_features], dummies],axis=1)\n",
    "        x = df_dummy.to_numpy()\n",
    "    return(x)"
   ]
  },
  {
   "cell_type": "code",
   "execution_count": 53,
   "metadata": {},
   "outputs": [
    {
     "name": "stdout",
     "output_type": "stream",
     "text": [
      "[[7.3806e+04 1.0000e+06 1.0000e+00 ... 0.0000e+00 0.0000e+00 0.0000e+00]\n",
      " [2.2700e+02 1.0000e+04 1.0000e+00 ... 0.0000e+00 0.0000e+00 0.0000e+00]\n",
      " [3.3000e+01 1.0000e+03 1.0000e+00 ... 0.0000e+00 0.0000e+00 0.0000e+00]\n",
      " ...\n",
      " [3.3000e+01 1.0000e+03 1.0000e+00 ... 0.0000e+00 0.0000e+00 0.0000e+00]\n",
      " [5.2000e+01 1.0000e+04 1.0000e+00 ... 0.0000e+00 0.0000e+00 0.0000e+00]\n",
      " [4.9000e+01 5.0000e+03 1.0000e+00 ... 0.0000e+00 0.0000e+00 0.0000e+00]]\n"
     ]
    }
   ],
   "source": [
    "# tst 적용\n",
    "x = cleansing(df_origin2)\n",
    "print(x)"
   ]
  },
  {
   "cell_type": "code",
   "execution_count": 54,
   "metadata": {},
   "outputs": [
    {
     "name": "stdout",
     "output_type": "stream",
     "text": [
      "XGB - train_RMSE_score : 0.277735, test_RMSE_score : 0.284775\n",
      "XGB - train_R2_score : 0.192245, test_R2_score : 0.163925\n",
      "================================================================================\n",
      "lightGBM - train_RMSE_score : 0.284679, test_RMSE_score : 0.284936\n",
      "lightGBM - train_R2_score : 0.172048, test_R2_score : 0.163453\n",
      "================================================================================\n"
     ]
    }
   ],
   "source": [
    "from sklearn.tree import DecisionTreeRegressor\n",
    "from sklearn.ensemble import RandomForestRegressor\n",
    "from xgboost.sklearn import XGBRegressor\n",
    "from lightgbm import LGBMRegressor\n",
    "\n",
    "models = []\n",
    "#models.append(('CART', DecisionTreeRegressor())) # 의사결정나무 모델 #CART는 의사결정나무 중 알고리즘 이름\n",
    "#models.append(('RandomForest', RandomForestRegressor(n_jobs=-1))) # 랜덤포레스트 모델\n",
    "models.append(('XGB', XGBRegressor(n_jobs=-1))) \n",
    "models.append(('lightGBM', LGBMRegressor(n_jobs=-1)))\n",
    "\n",
    "for name, model in models:\n",
    "    model.fit(x_train, y_train)\n",
    "    model.predict(x_train)\n",
    "\n",
    "    pred_train = model.predict(x_train)\n",
    "    pred_test = model.predict(x_test)\n",
    "\n",
    "    mse_train = mean_squared_error(y_train, pred_train)\n",
    "    mse_test = mean_squared_error(y_test, pred_test)\n",
    "\n",
    "    r2_train = r2_score(y_train, model.predict(x_train))\n",
    "    r2_test = r2_score(y_test, model.predict(x_test))\n",
    "\n",
    "    result_1 = \"%s - train_RMSE_score : %f, test_RMSE_score : %f\" % (name, mse_train, mse_test)\n",
    "    result_2 = \"%s - train_R2_score : %f, test_R2_score : %f\" % (name, r2_train , r2_test) \n",
    "    print(result_1)\n",
    "    print(result_2)\n",
    "    print(\"=\"*80)"
   ]
  },
  {
   "cell_type": "code",
   "execution_count": 55,
   "metadata": {
    "scrolled": true
   },
   "outputs": [
    {
     "name": "stdout",
     "output_type": "stream",
     "text": [
      "XGB 모델\n"
     ]
    },
    {
     "ename": "ValueError",
     "evalue": "feature_names mismatch: ['f0', 'f1', 'f2', 'f3', 'f4', 'f5', 'f6', 'f7', 'f8', 'f9', 'f10', 'f11', 'f12', 'f13', 'f14', 'f15', 'f16', 'f17', 'f18', 'f19', 'f20', 'f21', 'f22', 'f23', 'f24', 'f25', 'f26', 'f27', 'f28', 'f29', 'f30', 'f31', 'f32', 'f33', 'f34', 'f35', 'f36', 'f37', 'f38', 'f39', 'f40', 'f41', 'f42', 'f43', 'f44', 'f45', 'f46', 'f47', 'f48', 'f49', 'f50', 'f51', 'f52', 'f53', 'f54', 'f55'] ['f0', 'f1', 'f2', 'f3', 'f4', 'f5', 'f6', 'f7', 'f8', 'f9', 'f10', 'f11', 'f12', 'f13', 'f14', 'f15', 'f16', 'f17', 'f18', 'f19', 'f20', 'f21', 'f22', 'f23', 'f24', 'f25', 'f26', 'f27', 'f28', 'f29', 'f30', 'f31', 'f32', 'f33', 'f34', 'f35', 'f36', 'f37', 'f38', 'f39', 'f40', 'f41', 'f42', 'f43', 'f44', 'f45', 'f46', 'f47', 'f48', 'f49', 'f50', 'f51', 'f52', 'f53', 'f54', 'f55', 'f56', 'f57', 'f58', 'f59', 'f60', 'f61']\ntraining data did not have the following fields: f56, f59, f60, f61, f58, f57",
     "output_type": "error",
     "traceback": [
      "\u001b[1;31m---------------------------------------------------------------------------\u001b[0m",
      "\u001b[1;31mValueError\u001b[0m                                Traceback (most recent call last)",
      "\u001b[1;32m<ipython-input-55-8ee19ebcc17e>\u001b[0m in \u001b[0;36m<module>\u001b[1;34m\u001b[0m\n\u001b[0;32m      3\u001b[0m     \u001b[1;32mfor\u001b[0m \u001b[0mj\u001b[0m \u001b[1;32min\u001b[0m \u001b[0mrange\u001b[0m\u001b[1;33m(\u001b[0m\u001b[1;36m10\u001b[0m\u001b[1;33m)\u001b[0m\u001b[1;33m:\u001b[0m\u001b[1;33m\u001b[0m\u001b[1;33m\u001b[0m\u001b[0m\n\u001b[0;32m      4\u001b[0m \u001b[1;33m\u001b[0m\u001b[0m\n\u001b[1;32m----> 5\u001b[1;33m         \u001b[0mprediction\u001b[0m \u001b[1;33m=\u001b[0m \u001b[0mmodels\u001b[0m\u001b[1;33m[\u001b[0m\u001b[0mi\u001b[0m\u001b[1;33m]\u001b[0m\u001b[1;33m[\u001b[0m\u001b[1;36m1\u001b[0m\u001b[1;33m]\u001b[0m\u001b[1;33m.\u001b[0m\u001b[0mpredict\u001b[0m\u001b[1;33m(\u001b[0m\u001b[0mx\u001b[0m\u001b[1;33m[\u001b[0m\u001b[0mj\u001b[0m\u001b[1;33m]\u001b[0m\u001b[1;33m.\u001b[0m\u001b[0mreshape\u001b[0m\u001b[1;33m(\u001b[0m\u001b[1;36m1\u001b[0m\u001b[1;33m,\u001b[0m\u001b[1;33m-\u001b[0m\u001b[1;36m1\u001b[0m\u001b[1;33m)\u001b[0m\u001b[1;33m)\u001b[0m\u001b[1;33m\u001b[0m\u001b[1;33m\u001b[0m\u001b[0m\n\u001b[0m\u001b[0;32m      6\u001b[0m         \u001b[0mprint\u001b[0m\u001b[1;33m(\u001b[0m\u001b[1;34m\"{} 번째 테스트 데이터의 예측 결과: {}, 실제 데이터: {}\"\u001b[0m\u001b[1;33m.\u001b[0m\u001b[0mformat\u001b[0m\u001b[1;33m(\u001b[0m\u001b[0mj\u001b[0m\u001b[1;33m,\u001b[0m \u001b[0mprediction\u001b[0m\u001b[1;33m[\u001b[0m\u001b[1;36m0\u001b[0m\u001b[1;33m]\u001b[0m\u001b[1;33m,\u001b[0m \u001b[0my_test\u001b[0m\u001b[1;33m[\u001b[0m\u001b[0mj\u001b[0m\u001b[1;33m]\u001b[0m\u001b[1;33m)\u001b[0m\u001b[1;33m)\u001b[0m\u001b[1;33m\u001b[0m\u001b[1;33m\u001b[0m\u001b[0m\n\u001b[0;32m      7\u001b[0m     \u001b[0mprint\u001b[0m\u001b[1;33m(\u001b[0m\u001b[1;34m\"=\"\u001b[0m\u001b[1;33m*\u001b[0m\u001b[1;36m80\u001b[0m\u001b[1;33m)\u001b[0m\u001b[1;33m\u001b[0m\u001b[1;33m\u001b[0m\u001b[0m\n",
      "\u001b[1;32m~\\Anaconda3\\lib\\site-packages\\xgboost\\sklearn.py\u001b[0m in \u001b[0;36mpredict\u001b[1;34m(self, data, output_margin, ntree_limit, validate_features, base_margin)\u001b[0m\n\u001b[0;32m    602\u001b[0m                                           \u001b[0moutput_margin\u001b[0m\u001b[1;33m=\u001b[0m\u001b[0moutput_margin\u001b[0m\u001b[1;33m,\u001b[0m\u001b[1;33m\u001b[0m\u001b[1;33m\u001b[0m\u001b[0m\n\u001b[0;32m    603\u001b[0m                                           \u001b[0mntree_limit\u001b[0m\u001b[1;33m=\u001b[0m\u001b[0mntree_limit\u001b[0m\u001b[1;33m,\u001b[0m\u001b[1;33m\u001b[0m\u001b[1;33m\u001b[0m\u001b[0m\n\u001b[1;32m--> 604\u001b[1;33m                                           validate_features=validate_features)\n\u001b[0m\u001b[0;32m    605\u001b[0m \u001b[1;33m\u001b[0m\u001b[0m\n\u001b[0;32m    606\u001b[0m     \u001b[1;32mdef\u001b[0m \u001b[0mapply\u001b[0m\u001b[1;33m(\u001b[0m\u001b[0mself\u001b[0m\u001b[1;33m,\u001b[0m \u001b[0mX\u001b[0m\u001b[1;33m,\u001b[0m \u001b[0mntree_limit\u001b[0m\u001b[1;33m=\u001b[0m\u001b[1;36m0\u001b[0m\u001b[1;33m)\u001b[0m\u001b[1;33m:\u001b[0m\u001b[1;33m\u001b[0m\u001b[1;33m\u001b[0m\u001b[0m\n",
      "\u001b[1;32m~\\Anaconda3\\lib\\site-packages\\xgboost\\core.py\u001b[0m in \u001b[0;36mpredict\u001b[1;34m(self, data, output_margin, ntree_limit, pred_leaf, pred_contribs, approx_contribs, pred_interactions, validate_features, training)\u001b[0m\n\u001b[0;32m   1362\u001b[0m \u001b[1;33m\u001b[0m\u001b[0m\n\u001b[0;32m   1363\u001b[0m         \u001b[1;32mif\u001b[0m \u001b[0mvalidate_features\u001b[0m\u001b[1;33m:\u001b[0m\u001b[1;33m\u001b[0m\u001b[1;33m\u001b[0m\u001b[0m\n\u001b[1;32m-> 1364\u001b[1;33m             \u001b[0mself\u001b[0m\u001b[1;33m.\u001b[0m\u001b[0m_validate_features\u001b[0m\u001b[1;33m(\u001b[0m\u001b[0mdata\u001b[0m\u001b[1;33m)\u001b[0m\u001b[1;33m\u001b[0m\u001b[1;33m\u001b[0m\u001b[0m\n\u001b[0m\u001b[0;32m   1365\u001b[0m \u001b[1;33m\u001b[0m\u001b[0m\n\u001b[0;32m   1366\u001b[0m         \u001b[0mlength\u001b[0m \u001b[1;33m=\u001b[0m \u001b[0mc_bst_ulong\u001b[0m\u001b[1;33m(\u001b[0m\u001b[1;33m)\u001b[0m\u001b[1;33m\u001b[0m\u001b[1;33m\u001b[0m\u001b[0m\n",
      "\u001b[1;32m~\\Anaconda3\\lib\\site-packages\\xgboost\\core.py\u001b[0m in \u001b[0;36m_validate_features\u001b[1;34m(self, data)\u001b[0m\n\u001b[0;32m   1934\u001b[0m \u001b[1;33m\u001b[0m\u001b[0m\n\u001b[0;32m   1935\u001b[0m                 raise ValueError(msg.format(self.feature_names,\n\u001b[1;32m-> 1936\u001b[1;33m                                             data.feature_names))\n\u001b[0m\u001b[0;32m   1937\u001b[0m \u001b[1;33m\u001b[0m\u001b[0m\n\u001b[0;32m   1938\u001b[0m     def get_split_value_histogram(self, feature, fmap='', bins=None,\n",
      "\u001b[1;31mValueError\u001b[0m: feature_names mismatch: ['f0', 'f1', 'f2', 'f3', 'f4', 'f5', 'f6', 'f7', 'f8', 'f9', 'f10', 'f11', 'f12', 'f13', 'f14', 'f15', 'f16', 'f17', 'f18', 'f19', 'f20', 'f21', 'f22', 'f23', 'f24', 'f25', 'f26', 'f27', 'f28', 'f29', 'f30', 'f31', 'f32', 'f33', 'f34', 'f35', 'f36', 'f37', 'f38', 'f39', 'f40', 'f41', 'f42', 'f43', 'f44', 'f45', 'f46', 'f47', 'f48', 'f49', 'f50', 'f51', 'f52', 'f53', 'f54', 'f55'] ['f0', 'f1', 'f2', 'f3', 'f4', 'f5', 'f6', 'f7', 'f8', 'f9', 'f10', 'f11', 'f12', 'f13', 'f14', 'f15', 'f16', 'f17', 'f18', 'f19', 'f20', 'f21', 'f22', 'f23', 'f24', 'f25', 'f26', 'f27', 'f28', 'f29', 'f30', 'f31', 'f32', 'f33', 'f34', 'f35', 'f36', 'f37', 'f38', 'f39', 'f40', 'f41', 'f42', 'f43', 'f44', 'f45', 'f46', 'f47', 'f48', 'f49', 'f50', 'f51', 'f52', 'f53', 'f54', 'f55', 'f56', 'f57', 'f58', 'f59', 'f60', 'f61']\ntraining data did not have the following fields: f56, f59, f60, f61, f58, f57"
     ]
    }
   ],
   "source": [
    "for i in range(len(models)):\n",
    "    print(\"{} 모델\".format(models[i][0]))\n",
    "    for j in range(10): \n",
    "    \n",
    "        prediction = models[i][1].predict(x[j].reshape(1,-1))\n",
    "        print(\"{} 번째 테스트 데이터의 예측 결과: {}, 실제 데이터: {}\".format(j, prediction[0], y_test[j]))\n",
    "    print(\"=\"*80)"
   ]
  },
  {
   "cell_type": "code",
   "execution_count": 56,
   "metadata": {
    "scrolled": false
   },
   "outputs": [
    {
     "ename": "ValueError",
     "evalue": "Number of features of the model must match the input. Model n_features_ is 56 and input n_features is 62 ",
     "output_type": "error",
     "traceback": [
      "\u001b[1;31m---------------------------------------------------------------------------\u001b[0m",
      "\u001b[1;31mValueError\u001b[0m                                Traceback (most recent call last)",
      "\u001b[1;32m<ipython-input-56-712a64f75129>\u001b[0m in \u001b[0;36m<module>\u001b[1;34m\u001b[0m\n\u001b[0;32m      1\u001b[0m \u001b[1;32mimport\u001b[0m \u001b[0mpandas\u001b[0m \u001b[1;32mas\u001b[0m \u001b[0mpd\u001b[0m\u001b[1;33m\u001b[0m\u001b[1;33m\u001b[0m\u001b[0m\n\u001b[1;32m----> 2\u001b[1;33m \u001b[0my_pred\u001b[0m \u001b[1;33m=\u001b[0m \u001b[0mmodel\u001b[0m\u001b[1;33m.\u001b[0m\u001b[0mpredict\u001b[0m\u001b[1;33m(\u001b[0m\u001b[0mx\u001b[0m\u001b[1;33m)\u001b[0m\u001b[1;33m\u001b[0m\u001b[1;33m\u001b[0m\u001b[0m\n\u001b[0m\u001b[0;32m      3\u001b[0m \u001b[0mresult\u001b[0m \u001b[1;33m=\u001b[0m \u001b[0mpd\u001b[0m\u001b[1;33m.\u001b[0m\u001b[0mDataFrame\u001b[0m\u001b[1;33m(\u001b[0m\u001b[0my_pred\u001b[0m\u001b[1;33m)\u001b[0m\u001b[1;33m\u001b[0m\u001b[1;33m\u001b[0m\u001b[0m\n\u001b[0;32m      4\u001b[0m \u001b[0mprint\u001b[0m\u001b[1;33m(\u001b[0m\u001b[0mresult\u001b[0m\u001b[1;33m)\u001b[0m\u001b[1;33m\u001b[0m\u001b[1;33m\u001b[0m\u001b[0m\n",
      "\u001b[1;32m~\\Anaconda3\\lib\\site-packages\\lightgbm\\sklearn.py\u001b[0m in \u001b[0;36mpredict\u001b[1;34m(self, X, raw_score, start_iteration, num_iteration, pred_leaf, pred_contrib, **kwargs)\u001b[0m\n\u001b[0;32m    684\u001b[0m                              \u001b[1;34m\"match the input. Model n_features_ is %s and \"\u001b[0m\u001b[1;33m\u001b[0m\u001b[1;33m\u001b[0m\u001b[0m\n\u001b[0;32m    685\u001b[0m                              \u001b[1;34m\"input n_features is %s \"\u001b[0m\u001b[1;33m\u001b[0m\u001b[1;33m\u001b[0m\u001b[0m\n\u001b[1;32m--> 686\u001b[1;33m                              % (self._n_features, n_features))\n\u001b[0m\u001b[0;32m    687\u001b[0m         return self._Booster.predict(X, raw_score=raw_score, start_iteration=start_iteration, num_iteration=num_iteration,\n\u001b[0;32m    688\u001b[0m                                      pred_leaf=pred_leaf, pred_contrib=pred_contrib, **kwargs)\n",
      "\u001b[1;31mValueError\u001b[0m: Number of features of the model must match the input. Model n_features_ is 56 and input n_features is 62 "
     ]
    }
   ],
   "source": [
    "import pandas as pd\n",
    "y_pred = model.predict(x)\n",
    "result = pd.DataFrame(y_pred)\n",
    "print(result)"
   ]
  },
  {
   "cell_type": "code",
   "execution_count": null,
   "metadata": {},
   "outputs": [],
   "source": [
    "result.to_csv(\"result_조은정_final9.csv\")"
   ]
  },
  {
   "cell_type": "code",
   "execution_count": null,
   "metadata": {},
   "outputs": [],
   "source": []
  },
  {
   "cell_type": "markdown",
   "metadata": {
    "id": "yXdEvTKnqZul"
   },
   "source": [
    "---"
   ]
  }
 ],
 "metadata": {
  "colab": {
   "collapsed_sections": [],
   "name": "[강사용]웹/앱_실습코드.ipynb",
   "provenance": [
    {
     "file_id": "1VCvysXkmYJRlkChGwDDgy3CSCNwhjxnq",
     "timestamp": 1606195270041
    }
   ],
   "toc_visible": true
  },
  "kernelspec": {
   "display_name": "Python 3",
   "language": "python",
   "name": "python3"
  },
  "language_info": {
   "codemirror_mode": {
    "name": "ipython",
    "version": 3
   },
   "file_extension": ".py",
   "mimetype": "text/x-python",
   "name": "python",
   "nbconvert_exporter": "python",
   "pygments_lexer": "ipython3",
   "version": "3.7.4"
  },
  "toc": {
   "base_numbering": 1,
   "nav_menu": {},
   "number_sections": false,
   "sideBar": true,
   "skip_h1_title": false,
   "title_cell": "Table of Contents",
   "title_sidebar": "Contents",
   "toc_cell": false,
   "toc_position": {
    "height": "calc(100% - 180px)",
    "left": "10px",
    "top": "150px",
    "width": "384px"
   },
   "toc_section_display": true,
   "toc_window_display": true
  }
 },
 "nbformat": 4,
 "nbformat_minor": 1
}
